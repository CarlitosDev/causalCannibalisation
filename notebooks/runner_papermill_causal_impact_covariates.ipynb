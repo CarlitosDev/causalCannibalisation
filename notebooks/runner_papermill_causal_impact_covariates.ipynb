{
 "cells": [
  {
   "cell_type": "markdown",
   "metadata": {},
   "source": [
    "## Runner notebook to calculate CAUSAL IMPACT (categories and stores)\n",
    "\n",
    "\n",
    "It runs and generates the notebooks.\n",
    "\n",
    "31.10.2020\n",
    "\n",
    "08.11.2020\n",
    "\n",
    "25.11.2020 - Add covariates"
   ]
  },
  {
   "cell_type": "code",
   "execution_count": 1,
   "metadata": {},
   "outputs": [],
   "source": [
    "import papermill as pm\n",
    "# To set up the cell to pass the parameters in base_unsupervised_approach.ipynb\n",
    "# https://papermill.readthedocs.io/en/latest/usage-parameterize.html"
   ]
  },
  {
   "cell_type": "code",
   "execution_count": 2,
   "metadata": {},
   "outputs": [],
   "source": [
    "stores = ['Pichincha_44_A_5',\n",
    "'Pichincha_47_A_14', \n",
    "'Pichincha_46_A_14',\n",
    "'Pichincha_48_A_14',\n",
    "'Pichincha_3_D_8',\n",
    "'Pichincha_4_D_9',\n",
    "'Pichincha_45_A_11',\n",
    "'Pichincha_49_A_11',\n",
    "'Pichincha_6_D_13',\n",
    "'Pichincha_7_D_8',\n",
    "'Pichincha_8_D_8']"
   ]
  },
  {
   "cell_type": "markdown",
   "metadata": {},
   "source": [
    "stores = ['Pichincha_4_D_9',\n",
    "'Pichincha_45_A_11',\n",
    "'Pichincha_49_A_11',\n",
    "'Pichincha_6_D_13',\n",
    "'Pichincha_7_D_8',\n",
    "'Pichincha_8_D_8']"
   ]
  },
  {
   "cell_type": "code",
   "execution_count": 3,
   "metadata": {},
   "outputs": [],
   "source": [
    "selected_departments = [ 'LIQUOR,WINE,BEER', 'GROCERY_II','GROCERY_I', 'BEVERAGES', 'DAIRY', 'DELI', 'EGGS', 'FROZEN_FOODS',\n",
    "'MEATS', 'POULTRY', 'PREPARED_FOODS', 'PRODUCE', 'BREAD_BAKERY']"
   ]
  },
  {
   "cell_type": "code",
   "execution_count": 4,
   "metadata": {},
   "outputs": [],
   "source": [
    "selected_departments = ['GROCERY_I', 'LIQUOR,WINE,BEER', 'BREAD_BAKERY', 'FROZEN_FOODS', 'PREPARED_FOODS' ]#, 'BEVERAGES', 'DAIRY', 'DELI', 'EGGS', 'MEATS', 'POULTRY', 'PRODUCE', ]\n",
    "stores = ['Pichincha_49_A_11', 'Pichincha_47_A_14', 'Pichincha_4_D_9','Pichincha_45_A_11','Pichincha_49_A_11']"
   ]
  },
  {
   "cell_type": "code",
   "execution_count": 5,
   "metadata": {},
   "outputs": [
    {
     "name": "stdout",
     "output_type": "stream",
     "text": [
      "Running notebook for GROCERY_I/Pichincha_49_A_11\n"
     ]
    },
    {
     "data": {
      "application/vnd.jupyter.widget-view+json": {
       "model_id": "4d8fe54c3eec4406b3ead26909375dfd",
       "version_major": 2,
       "version_minor": 0
      },
      "text/plain": [
       "HBox(children=(FloatProgress(value=0.0, description='Executing', max=39.0, style=ProgressStyle(description_wid…"
      ]
     },
     "metadata": {},
     "output_type": "display_data"
    },
    {
     "name": "stdout",
     "output_type": "stream",
     "text": [
      "\n",
      "Running notebook for GROCERY_I/Pichincha_47_A_14\n"
     ]
    },
    {
     "data": {
      "application/vnd.jupyter.widget-view+json": {
       "model_id": "5101f70a0598401aaa970ac861047ebf",
       "version_major": 2,
       "version_minor": 0
      },
      "text/plain": [
       "HBox(children=(FloatProgress(value=0.0, description='Executing', max=39.0, style=ProgressStyle(description_wid…"
      ]
     },
     "metadata": {},
     "output_type": "display_data"
    },
    {
     "name": "stdout",
     "output_type": "stream",
     "text": [
      "\n",
      "Running notebook for GROCERY_I/Pichincha_4_D_9\n"
     ]
    },
    {
     "data": {
      "application/vnd.jupyter.widget-view+json": {
       "model_id": "cdc19a9f28c5458395c6c7bdeabba918",
       "version_major": 2,
       "version_minor": 0
      },
      "text/plain": [
       "HBox(children=(FloatProgress(value=0.0, description='Executing', max=39.0, style=ProgressStyle(description_wid…"
      ]
     },
     "metadata": {},
     "output_type": "display_data"
    },
    {
     "name": "stdout",
     "output_type": "stream",
     "text": [
      "\n",
      "Running notebook for GROCERY_I/Pichincha_45_A_11\n"
     ]
    },
    {
     "data": {
      "application/vnd.jupyter.widget-view+json": {
       "model_id": "164e1b43e5df40dc9564296775be1eb2",
       "version_major": 2,
       "version_minor": 0
      },
      "text/plain": [
       "HBox(children=(FloatProgress(value=0.0, description='Executing', max=39.0, style=ProgressStyle(description_wid…"
      ]
     },
     "metadata": {},
     "output_type": "display_data"
    },
    {
     "name": "stdout",
     "output_type": "stream",
     "text": [
      "\n",
      "Running notebook for GROCERY_I/Pichincha_49_A_11\n"
     ]
    },
    {
     "data": {
      "application/vnd.jupyter.widget-view+json": {
       "model_id": "a6407a2daa0d4e1190b4935e63d9345f",
       "version_major": 2,
       "version_minor": 0
      },
      "text/plain": [
       "HBox(children=(FloatProgress(value=0.0, description='Executing', max=39.0, style=ProgressStyle(description_wid…"
      ]
     },
     "metadata": {},
     "output_type": "display_data"
    },
    {
     "name": "stdout",
     "output_type": "stream",
     "text": [
      "\n",
      "Running notebook for LIQUOR,WINE,BEER/Pichincha_49_A_11\n"
     ]
    },
    {
     "data": {
      "application/vnd.jupyter.widget-view+json": {
       "model_id": "59ad1eb1a61e4beca4aac9044e319965",
       "version_major": 2,
       "version_minor": 0
      },
      "text/plain": [
       "HBox(children=(FloatProgress(value=0.0, description='Executing', max=39.0, style=ProgressStyle(description_wid…"
      ]
     },
     "metadata": {},
     "output_type": "display_data"
    },
    {
     "name": "stdout",
     "output_type": "stream",
     "text": [
      "\n",
      "Running notebook for LIQUOR,WINE,BEER/Pichincha_47_A_14\n"
     ]
    },
    {
     "data": {
      "application/vnd.jupyter.widget-view+json": {
       "model_id": "b8d1ed2a97f54839a8d817df04aa31cc",
       "version_major": 2,
       "version_minor": 0
      },
      "text/plain": [
       "HBox(children=(FloatProgress(value=0.0, description='Executing', max=39.0, style=ProgressStyle(description_wid…"
      ]
     },
     "metadata": {},
     "output_type": "display_data"
    },
    {
     "name": "stdout",
     "output_type": "stream",
     "text": [
      "\n",
      "Running notebook for LIQUOR,WINE,BEER/Pichincha_4_D_9\n"
     ]
    },
    {
     "data": {
      "application/vnd.jupyter.widget-view+json": {
       "model_id": "da2c9da9112c4575b61d24e62258ef32",
       "version_major": 2,
       "version_minor": 0
      },
      "text/plain": [
       "HBox(children=(FloatProgress(value=0.0, description='Executing', max=39.0, style=ProgressStyle(description_wid…"
      ]
     },
     "metadata": {},
     "output_type": "display_data"
    },
    {
     "name": "stdout",
     "output_type": "stream",
     "text": [
      "\n",
      "Running notebook for LIQUOR,WINE,BEER/Pichincha_45_A_11\n"
     ]
    },
    {
     "data": {
      "application/vnd.jupyter.widget-view+json": {
       "model_id": "747a4e0040764be9bdf599f427c765c6",
       "version_major": 2,
       "version_minor": 0
      },
      "text/plain": [
       "HBox(children=(FloatProgress(value=0.0, description='Executing', max=39.0, style=ProgressStyle(description_wid…"
      ]
     },
     "metadata": {},
     "output_type": "display_data"
    },
    {
     "name": "stdout",
     "output_type": "stream",
     "text": [
      "\n",
      "Running notebook for LIQUOR,WINE,BEER/Pichincha_49_A_11\n"
     ]
    },
    {
     "data": {
      "application/vnd.jupyter.widget-view+json": {
       "model_id": "345d60eacff34d2bb03c55fa271701d8",
       "version_major": 2,
       "version_minor": 0
      },
      "text/plain": [
       "HBox(children=(FloatProgress(value=0.0, description='Executing', max=39.0, style=ProgressStyle(description_wid…"
      ]
     },
     "metadata": {},
     "output_type": "display_data"
    },
    {
     "name": "stdout",
     "output_type": "stream",
     "text": [
      "\n",
      "Running notebook for BREAD_BAKERY/Pichincha_49_A_11\n"
     ]
    },
    {
     "data": {
      "application/vnd.jupyter.widget-view+json": {
       "model_id": "6790f8bbefbd49ddaab4395f097f7654",
       "version_major": 2,
       "version_minor": 0
      },
      "text/plain": [
       "HBox(children=(FloatProgress(value=0.0, description='Executing', max=39.0, style=ProgressStyle(description_wid…"
      ]
     },
     "metadata": {},
     "output_type": "display_data"
    },
    {
     "name": "stdout",
     "output_type": "stream",
     "text": [
      "\n",
      "Running notebook for BREAD_BAKERY/Pichincha_47_A_14\n"
     ]
    },
    {
     "data": {
      "application/vnd.jupyter.widget-view+json": {
       "model_id": "c3683c7288374054af3fd33bd1db0e49",
       "version_major": 2,
       "version_minor": 0
      },
      "text/plain": [
       "HBox(children=(FloatProgress(value=0.0, description='Executing', max=39.0, style=ProgressStyle(description_wid…"
      ]
     },
     "metadata": {},
     "output_type": "display_data"
    },
    {
     "name": "stdout",
     "output_type": "stream",
     "text": [
      "\n",
      "Running notebook for BREAD_BAKERY/Pichincha_4_D_9\n"
     ]
    },
    {
     "data": {
      "application/vnd.jupyter.widget-view+json": {
       "model_id": "d8c522948ea444e08dcacbc0e034b7da",
       "version_major": 2,
       "version_minor": 0
      },
      "text/plain": [
       "HBox(children=(FloatProgress(value=0.0, description='Executing', max=39.0, style=ProgressStyle(description_wid…"
      ]
     },
     "metadata": {},
     "output_type": "display_data"
    },
    {
     "name": "stdout",
     "output_type": "stream",
     "text": [
      "\n",
      "Running notebook for BREAD_BAKERY/Pichincha_45_A_11\n"
     ]
    },
    {
     "data": {
      "application/vnd.jupyter.widget-view+json": {
       "model_id": "6776d614a051435f993c96439a6e597d",
       "version_major": 2,
       "version_minor": 0
      },
      "text/plain": [
       "HBox(children=(FloatProgress(value=0.0, description='Executing', max=39.0, style=ProgressStyle(description_wid…"
      ]
     },
     "metadata": {},
     "output_type": "display_data"
    },
    {
     "name": "stdout",
     "output_type": "stream",
     "text": [
      "\n",
      "Running notebook for BREAD_BAKERY/Pichincha_49_A_11\n"
     ]
    },
    {
     "data": {
      "application/vnd.jupyter.widget-view+json": {
       "model_id": "e35189896a5a469bb7445c7d175d4e38",
       "version_major": 2,
       "version_minor": 0
      },
      "text/plain": [
       "HBox(children=(FloatProgress(value=0.0, description='Executing', max=39.0, style=ProgressStyle(description_wid…"
      ]
     },
     "metadata": {},
     "output_type": "display_data"
    },
    {
     "name": "stdout",
     "output_type": "stream",
     "text": [
      "\n",
      "Running notebook for FROZEN_FOODS/Pichincha_49_A_11\n"
     ]
    },
    {
     "data": {
      "application/vnd.jupyter.widget-view+json": {
       "model_id": "08dbaf31182d43d38322409561a35ad1",
       "version_major": 2,
       "version_minor": 0
      },
      "text/plain": [
       "HBox(children=(FloatProgress(value=0.0, description='Executing', max=39.0, style=ProgressStyle(description_wid…"
      ]
     },
     "metadata": {},
     "output_type": "display_data"
    },
    {
     "name": "stdout",
     "output_type": "stream",
     "text": [
      "\n",
      "Running notebook for FROZEN_FOODS/Pichincha_47_A_14\n"
     ]
    },
    {
     "data": {
      "application/vnd.jupyter.widget-view+json": {
       "model_id": "c33f2e1958bd4155a932b3ef19504608",
       "version_major": 2,
       "version_minor": 0
      },
      "text/plain": [
       "HBox(children=(FloatProgress(value=0.0, description='Executing', max=39.0, style=ProgressStyle(description_wid…"
      ]
     },
     "metadata": {},
     "output_type": "display_data"
    },
    {
     "name": "stdout",
     "output_type": "stream",
     "text": [
      "\n",
      "Running notebook for FROZEN_FOODS/Pichincha_4_D_9\n"
     ]
    },
    {
     "data": {
      "application/vnd.jupyter.widget-view+json": {
       "model_id": "94e92c4cca6c48499852366251ccc8f3",
       "version_major": 2,
       "version_minor": 0
      },
      "text/plain": [
       "HBox(children=(FloatProgress(value=0.0, description='Executing', max=39.0, style=ProgressStyle(description_wid…"
      ]
     },
     "metadata": {},
     "output_type": "display_data"
    },
    {
     "name": "stdout",
     "output_type": "stream",
     "text": [
      "\n",
      "Running notebook for FROZEN_FOODS/Pichincha_45_A_11\n"
     ]
    },
    {
     "data": {
      "application/vnd.jupyter.widget-view+json": {
       "model_id": "35bd25be8c124cc6821bc5e31d0d8c4e",
       "version_major": 2,
       "version_minor": 0
      },
      "text/plain": [
       "HBox(children=(FloatProgress(value=0.0, description='Executing', max=39.0, style=ProgressStyle(description_wid…"
      ]
     },
     "metadata": {},
     "output_type": "display_data"
    },
    {
     "name": "stdout",
     "output_type": "stream",
     "text": [
      "\n",
      "Running notebook for FROZEN_FOODS/Pichincha_49_A_11\n"
     ]
    },
    {
     "data": {
      "application/vnd.jupyter.widget-view+json": {
       "model_id": "07dbe6fb36264a50b5f054bc07eb5b97",
       "version_major": 2,
       "version_minor": 0
      },
      "text/plain": [
       "HBox(children=(FloatProgress(value=0.0, description='Executing', max=39.0, style=ProgressStyle(description_wid…"
      ]
     },
     "metadata": {},
     "output_type": "display_data"
    },
    {
     "name": "stdout",
     "output_type": "stream",
     "text": [
      "\n",
      "Running notebook for PREPARED_FOODS/Pichincha_49_A_11\n"
     ]
    },
    {
     "data": {
      "application/vnd.jupyter.widget-view+json": {
       "model_id": "83f20df025e943adbbbd067877fbfaa1",
       "version_major": 2,
       "version_minor": 0
      },
      "text/plain": [
       "HBox(children=(FloatProgress(value=0.0, description='Executing', max=39.0, style=ProgressStyle(description_wid…"
      ]
     },
     "metadata": {},
     "output_type": "display_data"
    },
    {
     "name": "stdout",
     "output_type": "stream",
     "text": [
      "\n",
      "Running notebook for PREPARED_FOODS/Pichincha_47_A_14\n"
     ]
    },
    {
     "data": {
      "application/vnd.jupyter.widget-view+json": {
       "model_id": "c3363c8d18f540dc8a6ce8912ecf7f6e",
       "version_major": 2,
       "version_minor": 0
      },
      "text/plain": [
       "HBox(children=(FloatProgress(value=0.0, description='Executing', max=39.0, style=ProgressStyle(description_wid…"
      ]
     },
     "metadata": {},
     "output_type": "display_data"
    },
    {
     "name": "stdout",
     "output_type": "stream",
     "text": [
      "\n",
      "Running notebook for PREPARED_FOODS/Pichincha_4_D_9\n"
     ]
    },
    {
     "data": {
      "application/vnd.jupyter.widget-view+json": {
       "model_id": "6d7c36ae0e24406884a5259176c940f4",
       "version_major": 2,
       "version_minor": 0
      },
      "text/plain": [
       "HBox(children=(FloatProgress(value=0.0, description='Executing', max=39.0, style=ProgressStyle(description_wid…"
      ]
     },
     "metadata": {},
     "output_type": "display_data"
    },
    {
     "name": "stdout",
     "output_type": "stream",
     "text": [
      "\n",
      "Running notebook for PREPARED_FOODS/Pichincha_45_A_11\n"
     ]
    },
    {
     "data": {
      "application/vnd.jupyter.widget-view+json": {
       "model_id": "59d9df6cc4ab4c21819eec8d7fa41e50",
       "version_major": 2,
       "version_minor": 0
      },
      "text/plain": [
       "HBox(children=(FloatProgress(value=0.0, description='Executing', max=39.0, style=ProgressStyle(description_wid…"
      ]
     },
     "metadata": {},
     "output_type": "display_data"
    },
    {
     "name": "stdout",
     "output_type": "stream",
     "text": [
      "\n",
      "Running notebook for PREPARED_FOODS/Pichincha_49_A_11\n"
     ]
    },
    {
     "data": {
      "application/vnd.jupyter.widget-view+json": {
       "model_id": "3a22c484e9f94ad3b1a3ea98e1d6ab69",
       "version_major": 2,
       "version_minor": 0
      },
      "text/plain": [
       "HBox(children=(FloatProgress(value=0.0, description='Executing', max=39.0, style=ProgressStyle(description_wid…"
      ]
     },
     "metadata": {},
     "output_type": "display_data"
    },
    {
     "name": "stdout",
     "output_type": "stream",
     "text": [
      "\n"
     ]
    }
   ],
   "source": [
    "# Save the plots\n",
    "save_all_cannibals = False\n",
    "# variables that pertain to the new code\n",
    "min_diff_in_units_from_reg_to_promo = 10\n",
    "# when analysing the SKUs\n",
    "min_promo_days=3\n",
    "min_regular_days=6\n",
    "# values for the CI analysis\n",
    "min_ratio_change = 0.5\n",
    "do_exclude_promos_SKU_B = True\n",
    "# This flag is pretty good for debugging/development\n",
    "be_verbose=False\n",
    "# This threshold is used to detect uplifters based on the difference in average sales\n",
    "sales_threshold = 1/3\n",
    "# min AVG sales to be considered\n",
    "min_avg_sales = 7\n",
    "# LOESS - weekly\n",
    "period_in_days = 7\n",
    "# If true, use the sales without the weekly pattern\n",
    "do_decomposition = False\n",
    "# This threshold is used to detect the reduction in sales that one uplifter causes\n",
    "cannibalisation_threshold = 1/3\n",
    "# min days/times that both products overlap during the promotions of the cannibal\n",
    "min_snap_days = 10\n",
    "\n",
    "for dept_id in selected_departments:\n",
    "    for store_id in stores:\n",
    "        print(f'Running notebook for {dept_id}/{store_id}')\n",
    "        try:\n",
    "            pm.execute_notebook(input_path='./CFAV_CausalImpact_Analysis_covariates_base.ipynb',\n",
    "                                output_path=f'./papermill_runners_covariates/CFAV-causal_impact_{dept_id}_{store_id}.ipynb',\n",
    "                                parameters={'dept_id': dept_id,\n",
    "                                            'min_diff_in_units_from_reg_to_promo': min_diff_in_units_from_reg_to_promo,\n",
    "                                            'store_name': store_id, \n",
    "                                            'min_promo_days': min_promo_days, \n",
    "                                            'min_regular_days': min_regular_days,\n",
    "                                            'min_ratio_change':min_ratio_change,\n",
    "                                            'do_exclude_promos_SKU_B': do_exclude_promos_SKU_B,\n",
    "                                            'be_verbose': be_verbose,\n",
    "                                            'sales_threshold': sales_threshold,\n",
    "                                            'min_avg_sales': min_avg_sales,\n",
    "                                            'period_in_days': period_in_days,\n",
    "                                            'do_decomposition': do_decomposition,\n",
    "                                            'cannibalisation_threshold': cannibalisation_threshold,\n",
    "                                            'min_snap_days': min_snap_days})\n",
    "        except Exception as e:\n",
    "            print('Cannot read {}'.format(e))"
   ]
  },
  {
   "cell_type": "code",
   "execution_count": null,
   "metadata": {},
   "outputs": [],
   "source": []
  }
 ],
 "metadata": {
  "kernelspec": {
   "display_name": "Python 3",
   "language": "python",
   "name": "python3"
  },
  "language_info": {
   "codemirror_mode": {
    "name": "ipython",
    "version": 3
   },
   "file_extension": ".py",
   "mimetype": "text/x-python",
   "name": "python",
   "nbconvert_exporter": "python",
   "pygments_lexer": "ipython3",
   "version": "3.8.4"
  }
 },
 "nbformat": 4,
 "nbformat_minor": 4
}
