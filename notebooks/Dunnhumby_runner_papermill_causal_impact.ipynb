{
 "cells": [
  {
   "cell_type": "markdown",
   "metadata": {},
   "source": [
    "## Runner notebook to calculate CAUSAL IMPACT (categories and stores)\n",
    "\n",
    "\n",
    "It runs and generates the notebooks using `Dunnhumby_CausalImpact_Analysis_base.ipynb` as a base\n",
    "\n",
    "Updates:\n",
    "\n",
    "* 02.02.2021 - First go\n",
    "* 03.02.2021 - Filter the stores to the top 20th with the largest average weekly baskets."
   ]
  },
  {
   "cell_type": "code",
   "execution_count": 1,
   "metadata": {},
   "outputs": [],
   "source": [
    "import papermill as pm\n",
    "import os\n",
    "import pandas as pd\n",
    "# To set up the cell to pass the parameters in base_unsupervised_approach.ipynb\n",
    "# https://papermill.readthedocs.io/en/latest/usage-parameterize.html"
   ]
  },
  {
   "cell_type": "code",
   "execution_count": 2,
   "metadata": {},
   "outputs": [],
   "source": [
    "dataFolder = os.path.expanduser('~/Google Drive/order/Machine Learning Part/data/Dunnhumby')"
   ]
  },
  {
   "cell_type": "code",
   "execution_count": 3,
   "metadata": {},
   "outputs": [],
   "source": [
    "# Read the stores\n",
    "max_stores = 20\n",
    "\n",
    "foldername = os.path.join(dataFolder, 'store_info')\n",
    "filename = os.path.join(foldername, 'stores.pickle')\n",
    "df_stores = pd.read_pickle(filename)\n",
    "\n",
    "df_stores.sort_values(by='AVG_WEEKLY_BASKETS', ascending=False, inplace=True)\n",
    "df_stores = df_stores.head(max_stores)\n",
    "\n",
    "stores = df_stores['store_id'].unique().tolist()"
   ]
  },
  {
   "cell_type": "code",
   "execution_count": 4,
   "metadata": {},
   "outputs": [],
   "source": [
    "selected_departments = ['ADULT.CEREAL', 'PRETZELS', 'ALL.FAMILY.CEREAL', 'KIDS.CEREAL', 'PIZZA.PREMIUM',\n",
    "'MOUTHWASHES.(ANTISEPTIC)', 'MOUTHWASH.RINSES.AND.SPRAYS']\n",
    "\n",
    "#selected_departments = ['PRETZELS']"
   ]
  },
  {
   "cell_type": "code",
   "execution_count": 5,
   "metadata": {},
   "outputs": [
    {
     "name": "stdout",
     "output_type": "stream",
     "text": [
      "Running notebook for ADULT.CEREAL/OH_2277_UPSCALE_1\n"
     ]
    },
    {
     "data": {
      "application/vnd.jupyter.widget-view+json": {
       "model_id": "4bdc1bc2f234490fa1bac5b8a77fa1eb",
       "version_major": 2,
       "version_minor": 0
      },
      "text/plain": [
       "HBox(children=(HTML(value='Executing'), FloatProgress(value=0.0, max=41.0), HTML(value='')))"
      ]
     },
     "metadata": {},
     "output_type": "display_data"
    },
    {
     "name": "stdout",
     "output_type": "stream",
     "text": [
      "\n",
      "Cannot read \n",
      "---------------------------------------------------------------------------\n",
      "Exception encountered at \"In [20]\":\n",
      "---------------------------------------------------------------------------\n",
      "AssertionError                            Traceback (most recent call last)\n",
      "<ipython-input-20-9b22ff7d12a1> in <module>\n",
      "      1 if df_CI_analysis.empty:\n",
      "----> 2     assert(False)\n",
      "      3     #%%javascript\n",
      "      4     #Jupyter.notebook.session.delete();\n",
      "      5     # Exit will kill the kernel. Let's see how Papermill handles that.\n",
      "\n",
      "AssertionError: \n",
      "\n",
      "Running notebook for ADULT.CEREAL/OH_24991_UPSCALE_1\n"
     ]
    },
    {
     "data": {
      "application/vnd.jupyter.widget-view+json": {
       "model_id": "db655a4027d5418093a8423356a75860",
       "version_major": 2,
       "version_minor": 0
      },
      "text/plain": [
       "HBox(children=(HTML(value='Executing'), FloatProgress(value=0.0, max=41.0), HTML(value='')))"
      ]
     },
     "metadata": {},
     "output_type": "display_data"
    },
    {
     "name": "stdout",
     "output_type": "stream",
     "text": [
      "\n",
      "Cannot read \n",
      "---------------------------------------------------------------------------\n",
      "Exception encountered at \"In [20]\":\n",
      "---------------------------------------------------------------------------\n",
      "AssertionError                            Traceback (most recent call last)\n",
      "<ipython-input-20-9b22ff7d12a1> in <module>\n",
      "      1 if df_CI_analysis.empty:\n",
      "----> 2     assert(False)\n",
      "      3     #%%javascript\n",
      "      4     #Jupyter.notebook.session.delete();\n",
      "      5     # Exit will kill the kernel. Let's see how Papermill handles that.\n",
      "\n",
      "AssertionError: \n",
      "\n",
      "Running notebook for ADULT.CEREAL/OH_25027_MAINSTREAM_1\n"
     ]
    },
    {
     "data": {
      "application/vnd.jupyter.widget-view+json": {
       "model_id": "04ef95841ad64a35850dfb98d71f0286",
       "version_major": 2,
       "version_minor": 0
      },
      "text/plain": [
       "HBox(children=(HTML(value='Executing'), FloatProgress(value=0.0, max=41.0), HTML(value='')))"
      ]
     },
     "metadata": {},
     "output_type": "display_data"
    },
    {
     "name": "stdout",
     "output_type": "stream",
     "text": [
      "\n",
      "Cannot read \n",
      "---------------------------------------------------------------------------\n",
      "Exception encountered at \"In [20]\":\n",
      "---------------------------------------------------------------------------\n",
      "AssertionError                            Traceback (most recent call last)\n",
      "<ipython-input-20-9b22ff7d12a1> in <module>\n",
      "      1 if df_CI_analysis.empty:\n",
      "----> 2     assert(False)\n",
      "      3     #%%javascript\n",
      "      4     #Jupyter.notebook.session.delete();\n",
      "      5     # Exit will kill the kernel. Let's see how Papermill handles that.\n",
      "\n",
      "AssertionError: \n",
      "\n",
      "Running notebook for ADULT.CEREAL/OH_21237_MAINSTREAM_1\n"
     ]
    },
    {
     "data": {
      "application/vnd.jupyter.widget-view+json": {
       "model_id": "edf6becd261640fc8e8483757f94b168",
       "version_major": 2,
       "version_minor": 0
      },
      "text/plain": [
       "HBox(children=(HTML(value='Executing'), FloatProgress(value=0.0, max=41.0), HTML(value='')))"
      ]
     },
     "metadata": {},
     "output_type": "display_data"
    },
    {
     "name": "stdout",
     "output_type": "stream",
     "text": [
      "\n",
      "Cannot read \n",
      "---------------------------------------------------------------------------\n",
      "Exception encountered at \"In [20]\":\n",
      "---------------------------------------------------------------------------\n",
      "AssertionError                            Traceback (most recent call last)\n",
      "<ipython-input-20-9b22ff7d12a1> in <module>\n",
      "      1 if df_CI_analysis.empty:\n",
      "----> 2     assert(False)\n",
      "      3     #%%javascript\n",
      "      4     #Jupyter.notebook.session.delete();\n",
      "      5     # Exit will kill the kernel. Let's see how Papermill handles that.\n",
      "\n",
      "AssertionError: \n",
      "\n",
      "Running notebook for ADULT.CEREAL/TX_623_MAINSTREAM_1\n"
     ]
    },
    {
     "data": {
      "application/vnd.jupyter.widget-view+json": {
       "model_id": "1b8082b30516468e9376b3af45a12ecb",
       "version_major": 2,
       "version_minor": 0
      },
      "text/plain": [
       "HBox(children=(HTML(value='Executing'), FloatProgress(value=0.0, max=41.0), HTML(value='')))"
      ]
     },
     "metadata": {},
     "output_type": "display_data"
    },
    {
     "name": "stdout",
     "output_type": "stream",
     "text": [
      "\n",
      "Cannot read \n",
      "---------------------------------------------------------------------------\n",
      "Exception encountered at \"In [20]\":\n",
      "---------------------------------------------------------------------------\n",
      "AssertionError                            Traceback (most recent call last)\n",
      "<ipython-input-20-9b22ff7d12a1> in <module>\n",
      "      1 if df_CI_analysis.empty:\n",
      "----> 2     assert(False)\n",
      "      3     #%%javascript\n",
      "      4     #Jupyter.notebook.session.delete();\n",
      "      5     # Exit will kill the kernel. Let's see how Papermill handles that.\n",
      "\n",
      "AssertionError: \n",
      "\n",
      "Running notebook for ADULT.CEREAL/TX_25233_VALUE_1\n"
     ]
    },
    {
     "data": {
      "application/vnd.jupyter.widget-view+json": {
       "model_id": "20818e7898534148aab6b62b065009af",
       "version_major": 2,
       "version_minor": 0
      },
      "text/plain": [
       "HBox(children=(HTML(value='Executing'), FloatProgress(value=0.0, max=41.0), HTML(value='')))"
      ]
     },
     "metadata": {},
     "output_type": "display_data"
    },
    {
     "name": "stdout",
     "output_type": "stream",
     "text": [
      "\n",
      "Cannot read \n",
      "---------------------------------------------------------------------------\n",
      "Exception encountered at \"In [20]\":\n",
      "---------------------------------------------------------------------------\n",
      "AssertionError                            Traceback (most recent call last)\n",
      "<ipython-input-20-9b22ff7d12a1> in <module>\n",
      "      1 if df_CI_analysis.empty:\n",
      "----> 2     assert(False)\n",
      "      3     #%%javascript\n",
      "      4     #Jupyter.notebook.session.delete();\n",
      "      5     # Exit will kill the kernel. Let's see how Papermill handles that.\n",
      "\n",
      "AssertionError: \n",
      "\n",
      "Running notebook for ADULT.CEREAL/OH_6179_UPSCALE_1\n"
     ]
    },
    {
     "data": {
      "application/vnd.jupyter.widget-view+json": {
       "model_id": "c55160b4909d46088c80ce55df88cc16",
       "version_major": 2,
       "version_minor": 0
      },
      "text/plain": [
       "HBox(children=(HTML(value='Executing'), FloatProgress(value=0.0, max=41.0), HTML(value='')))"
      ]
     },
     "metadata": {},
     "output_type": "display_data"
    },
    {
     "name": "stdout",
     "output_type": "stream",
     "text": [
      "\n",
      "Cannot read \n",
      "---------------------------------------------------------------------------\n",
      "Exception encountered at \"In [20]\":\n",
      "---------------------------------------------------------------------------\n",
      "AssertionError                            Traceback (most recent call last)\n",
      "<ipython-input-20-9b22ff7d12a1> in <module>\n",
      "      1 if df_CI_analysis.empty:\n",
      "----> 2     assert(False)\n",
      "      3     #%%javascript\n",
      "      4     #Jupyter.notebook.session.delete();\n",
      "      5     # Exit will kill the kernel. Let's see how Papermill handles that.\n",
      "\n",
      "AssertionError: \n",
      "\n",
      "Running notebook for ADULT.CEREAL/TX_25229_MAINSTREAM_1\n"
     ]
    },
    {
     "data": {
      "application/vnd.jupyter.widget-view+json": {
       "model_id": "a474c9e87068496985695e3a59eebda0",
       "version_major": 2,
       "version_minor": 0
      },
      "text/plain": [
       "HBox(children=(HTML(value='Executing'), FloatProgress(value=0.0, max=41.0), HTML(value='')))"
      ]
     },
     "metadata": {},
     "output_type": "display_data"
    },
    {
     "name": "stdout",
     "output_type": "stream",
     "text": [
      "\n",
      "Cannot read \n",
      "---------------------------------------------------------------------------\n",
      "Exception encountered at \"In [20]\":\n",
      "---------------------------------------------------------------------------\n",
      "AssertionError                            Traceback (most recent call last)\n",
      "<ipython-input-20-9b22ff7d12a1> in <module>\n",
      "      1 if df_CI_analysis.empty:\n",
      "----> 2     assert(False)\n",
      "      3     #%%javascript\n",
      "      4     #Jupyter.notebook.session.delete();\n",
      "      5     # Exit will kill the kernel. Let's see how Papermill handles that.\n",
      "\n",
      "AssertionError: \n",
      "\n",
      "Running notebook for ADULT.CEREAL/OH_21227_UPSCALE_1\n"
     ]
    },
    {
     "data": {
      "application/vnd.jupyter.widget-view+json": {
       "model_id": "fa8e7c73f66b4ac381a0874549d7d53d",
       "version_major": 2,
       "version_minor": 0
      },
      "text/plain": [
       "HBox(children=(HTML(value='Executing'), FloatProgress(value=0.0, max=41.0), HTML(value='')))"
      ]
     },
     "metadata": {},
     "output_type": "display_data"
    },
    {
     "name": "stdout",
     "output_type": "stream",
     "text": [
      "\n",
      "Cannot read \n",
      "---------------------------------------------------------------------------\n",
      "Exception encountered at \"In [20]\":\n",
      "---------------------------------------------------------------------------\n",
      "AssertionError                            Traceback (most recent call last)\n",
      "<ipython-input-20-9b22ff7d12a1> in <module>\n",
      "      1 if df_CI_analysis.empty:\n",
      "----> 2     assert(False)\n",
      "      3     #%%javascript\n",
      "      4     #Jupyter.notebook.session.delete();\n",
      "      5     # Exit will kill the kernel. Let's see how Papermill handles that.\n",
      "\n",
      "AssertionError: \n",
      "\n",
      "Running notebook for ADULT.CEREAL/OH_25021_VALUE_1\n"
     ]
    },
    {
     "data": {
      "application/vnd.jupyter.widget-view+json": {
       "model_id": "83a8c94f751a4e499a78a94c06e48a0c",
       "version_major": 2,
       "version_minor": 0
      },
      "text/plain": [
       "HBox(children=(HTML(value='Executing'), FloatProgress(value=0.0, max=41.0), HTML(value='')))"
      ]
     },
     "metadata": {},
     "output_type": "display_data"
    },
    {
     "name": "stdout",
     "output_type": "stream",
     "text": [
      "\n",
      "Cannot read \n",
      "---------------------------------------------------------------------------\n",
      "Exception encountered at \"In [20]\":\n",
      "---------------------------------------------------------------------------\n",
      "AssertionError                            Traceback (most recent call last)\n",
      "<ipython-input-20-9b22ff7d12a1> in <module>\n",
      "      1 if df_CI_analysis.empty:\n",
      "----> 2     assert(False)\n",
      "      3     #%%javascript\n",
      "      4     #Jupyter.notebook.session.delete();\n",
      "      5     # Exit will kill the kernel. Let's see how Papermill handles that.\n",
      "\n",
      "AssertionError: \n",
      "\n",
      "Running notebook for ADULT.CEREAL/TX_17615_MAINSTREAM_1\n"
     ]
    },
    {
     "data": {
      "application/vnd.jupyter.widget-view+json": {
       "model_id": "6f845617d2054d7ebfa4c88fec3592f2",
       "version_major": 2,
       "version_minor": 0
      },
      "text/plain": [
       "HBox(children=(HTML(value='Executing'), FloatProgress(value=0.0, max=41.0), HTML(value='')))"
      ]
     },
     "metadata": {},
     "output_type": "display_data"
    },
    {
     "name": "stdout",
     "output_type": "stream",
     "text": [
      "\n",
      "Cannot read \n",
      "---------------------------------------------------------------------------\n",
      "Exception encountered at \"In [20]\":\n",
      "---------------------------------------------------------------------------\n",
      "AssertionError                            Traceback (most recent call last)\n",
      "<ipython-input-20-9b22ff7d12a1> in <module>\n",
      "      1 if df_CI_analysis.empty:\n",
      "----> 2     assert(False)\n",
      "      3     #%%javascript\n",
      "      4     #Jupyter.notebook.session.delete();\n",
      "      5     # Exit will kill the kernel. Let's see how Papermill handles that.\n",
      "\n",
      "AssertionError: \n",
      "\n",
      "Running notebook for ADULT.CEREAL/TX_2513_UPSCALE_1\n"
     ]
    },
    {
     "data": {
      "application/vnd.jupyter.widget-view+json": {
       "model_id": "7cec5e9ba3524185863edad0e1d74dc0",
       "version_major": 2,
       "version_minor": 0
      },
      "text/plain": [
       "HBox(children=(HTML(value='Executing'), FloatProgress(value=0.0, max=41.0), HTML(value='')))"
      ]
     },
     "metadata": {},
     "output_type": "display_data"
    },
    {
     "name": "stdout",
     "output_type": "stream",
     "text": [
      "\n",
      "Cannot read \n",
      "---------------------------------------------------------------------------\n",
      "Exception encountered at \"In [20]\":\n",
      "---------------------------------------------------------------------------\n",
      "AssertionError                            Traceback (most recent call last)\n",
      "<ipython-input-20-9b22ff7d12a1> in <module>\n",
      "      1 if df_CI_analysis.empty:\n",
      "----> 2     assert(False)\n",
      "      3     #%%javascript\n",
      "      4     #Jupyter.notebook.session.delete();\n",
      "      5     # Exit will kill the kernel. Let's see how Papermill handles that.\n",
      "\n",
      "AssertionError: \n",
      "\n",
      "Running notebook for ADULT.CEREAL/OH_2281_UPSCALE_1\n"
     ]
    },
    {
     "data": {
      "application/vnd.jupyter.widget-view+json": {
       "model_id": "508d59c4b80041fc8ce04ac87f339c9c",
       "version_major": 2,
       "version_minor": 0
      },
      "text/plain": [
       "HBox(children=(HTML(value='Executing'), FloatProgress(value=0.0, max=41.0), HTML(value='')))"
      ]
     },
     "metadata": {},
     "output_type": "display_data"
    },
    {
     "name": "stdout",
     "output_type": "stream",
     "text": [
      "\n",
      "Cannot read \n",
      "---------------------------------------------------------------------------\n",
      "Exception encountered at \"In [20]\":\n",
      "---------------------------------------------------------------------------\n",
      "AssertionError                            Traceback (most recent call last)\n",
      "<ipython-input-20-9b22ff7d12a1> in <module>\n",
      "      1 if df_CI_analysis.empty:\n",
      "----> 2     assert(False)\n",
      "      3     #%%javascript\n",
      "      4     #Jupyter.notebook.session.delete();\n",
      "      5     # Exit will kill the kernel. Let's see how Papermill handles that.\n",
      "\n",
      "AssertionError: \n",
      "\n",
      "Running notebook for ADULT.CEREAL/KY_19265_MAINSTREAM_1\n"
     ]
    },
    {
     "data": {
      "application/vnd.jupyter.widget-view+json": {
       "model_id": "959c8bfe842f4d60b91d746f6c26fc12",
       "version_major": 2,
       "version_minor": 0
      },
      "text/plain": [
       "HBox(children=(HTML(value='Executing'), FloatProgress(value=0.0, max=41.0), HTML(value='')))"
      ]
     },
     "metadata": {},
     "output_type": "display_data"
    },
    {
     "name": "stdout",
     "output_type": "stream",
     "text": [
      "\n",
      "Cannot read \n",
      "---------------------------------------------------------------------------\n",
      "Exception encountered at \"In [20]\":\n",
      "---------------------------------------------------------------------------\n",
      "AssertionError                            Traceback (most recent call last)\n",
      "<ipython-input-20-9b22ff7d12a1> in <module>\n",
      "      1 if df_CI_analysis.empty:\n",
      "----> 2     assert(False)\n",
      "      3     #%%javascript\n",
      "      4     #Jupyter.notebook.session.delete();\n",
      "      5     # Exit will kill the kernel. Let's see how Papermill handles that.\n",
      "\n",
      "AssertionError: \n",
      "\n",
      "Running notebook for ADULT.CEREAL/OH_26983_VALUE_1\n"
     ]
    },
    {
     "data": {
      "application/vnd.jupyter.widget-view+json": {
       "model_id": "c178981534e645d8bc0e9c9f6f10b7eb",
       "version_major": 2,
       "version_minor": 0
      },
      "text/plain": [
       "HBox(children=(HTML(value='Executing'), FloatProgress(value=0.0, max=41.0), HTML(value='')))"
      ]
     },
     "metadata": {},
     "output_type": "display_data"
    },
    {
     "name": "stdout",
     "output_type": "stream",
     "text": [
      "\n",
      "Cannot read \n",
      "---------------------------------------------------------------------------\n",
      "Exception encountered at \"In [20]\":\n",
      "---------------------------------------------------------------------------\n",
      "AssertionError                            Traceback (most recent call last)\n",
      "<ipython-input-20-9b22ff7d12a1> in <module>\n",
      "      1 if df_CI_analysis.empty:\n",
      "----> 2     assert(False)\n",
      "      3     #%%javascript\n",
      "      4     #Jupyter.notebook.session.delete();\n",
      "      5     # Exit will kill the kernel. Let's see how Papermill handles that.\n",
      "\n",
      "AssertionError: \n",
      "\n",
      "Running notebook for ADULT.CEREAL/OH_4259_VALUE_1\n"
     ]
    },
    {
     "data": {
      "application/vnd.jupyter.widget-view+json": {
       "model_id": "810f7343efed48f59c6658bce0429e35",
       "version_major": 2,
       "version_minor": 0
      },
      "text/plain": [
       "HBox(children=(HTML(value='Executing'), FloatProgress(value=0.0, max=41.0), HTML(value='')))"
      ]
     },
     "metadata": {},
     "output_type": "display_data"
    },
    {
     "name": "stdout",
     "output_type": "stream",
     "text": [
      "\n",
      "Cannot read \n",
      "---------------------------------------------------------------------------\n",
      "Exception encountered at \"In [20]\":\n",
      "---------------------------------------------------------------------------\n",
      "AssertionError                            Traceback (most recent call last)\n",
      "<ipython-input-20-9b22ff7d12a1> in <module>\n",
      "      1 if df_CI_analysis.empty:\n",
      "----> 2     assert(False)\n",
      "      3     #%%javascript\n",
      "      4     #Jupyter.notebook.session.delete();\n",
      "      5     # Exit will kill the kernel. Let's see how Papermill handles that.\n",
      "\n",
      "AssertionError: \n",
      "\n",
      "Running notebook for ADULT.CEREAL/TX_23327_MAINSTREAM_1\n"
     ]
    },
    {
     "data": {
      "application/vnd.jupyter.widget-view+json": {
       "model_id": "2e35550f98634727abf3b67e7a429ce3",
       "version_major": 2,
       "version_minor": 0
      },
      "text/plain": [
       "HBox(children=(HTML(value='Executing'), FloatProgress(value=0.0, max=41.0), HTML(value='')))"
      ]
     },
     "metadata": {},
     "output_type": "display_data"
    },
    {
     "name": "stdout",
     "output_type": "stream",
     "text": [
      "\n",
      "Cannot read \n",
      "---------------------------------------------------------------------------\n",
      "Exception encountered at \"In [20]\":\n",
      "---------------------------------------------------------------------------\n",
      "AssertionError                            Traceback (most recent call last)\n",
      "<ipython-input-20-9b22ff7d12a1> in <module>\n",
      "      1 if df_CI_analysis.empty:\n",
      "----> 2     assert(False)\n",
      "      3     #%%javascript\n",
      "      4     #Jupyter.notebook.session.delete();\n",
      "      5     # Exit will kill the kernel. Let's see how Papermill handles that.\n",
      "\n",
      "AssertionError: \n",
      "\n",
      "Running notebook for ADULT.CEREAL/OH_9825_MAINSTREAM_1\n"
     ]
    },
    {
     "data": {
      "application/vnd.jupyter.widget-view+json": {
       "model_id": "76679875c5f0498fb6f82210dae8b96f",
       "version_major": 2,
       "version_minor": 0
      },
      "text/plain": [
       "HBox(children=(HTML(value='Executing'), FloatProgress(value=0.0, max=41.0), HTML(value='')))"
      ]
     },
     "metadata": {},
     "output_type": "display_data"
    },
    {
     "name": "stdout",
     "output_type": "stream",
     "text": [
      "\n",
      "Cannot read \n",
      "---------------------------------------------------------------------------\n",
      "Exception encountered at \"In [20]\":\n",
      "---------------------------------------------------------------------------\n",
      "AssertionError                            Traceback (most recent call last)\n",
      "<ipython-input-20-9b22ff7d12a1> in <module>\n",
      "      1 if df_CI_analysis.empty:\n",
      "----> 2     assert(False)\n",
      "      3     #%%javascript\n",
      "      4     #Jupyter.notebook.session.delete();\n",
      "      5     # Exit will kill the kernel. Let's see how Papermill handles that.\n",
      "\n",
      "AssertionError: \n",
      "\n",
      "Running notebook for ADULT.CEREAL/TX_21479_VALUE_1\n"
     ]
    },
    {
     "data": {
      "application/vnd.jupyter.widget-view+json": {
       "model_id": "b003fcf075fa410696d323d0bd3ec5ad",
       "version_major": 2,
       "version_minor": 0
      },
      "text/plain": [
       "HBox(children=(HTML(value='Executing'), FloatProgress(value=0.0, max=41.0), HTML(value='')))"
      ]
     },
     "metadata": {},
     "output_type": "display_data"
    },
    {
     "name": "stdout",
     "output_type": "stream",
     "text": [
      "\n",
      "Cannot read \n",
      "---------------------------------------------------------------------------\n",
      "Exception encountered at \"In [20]\":\n",
      "---------------------------------------------------------------------------\n",
      "AssertionError                            Traceback (most recent call last)\n",
      "<ipython-input-20-9b22ff7d12a1> in <module>\n",
      "      1 if df_CI_analysis.empty:\n",
      "----> 2     assert(False)\n",
      "      3     #%%javascript\n",
      "      4     #Jupyter.notebook.session.delete();\n",
      "      5     # Exit will kill the kernel. Let's see how Papermill handles that.\n",
      "\n",
      "AssertionError: \n",
      "\n",
      "Running notebook for ADULT.CEREAL/TX_613_MAINSTREAM_1\n"
     ]
    },
    {
     "data": {
      "application/vnd.jupyter.widget-view+json": {
       "model_id": "504954e8171c408ea978b8b42fafcbed",
       "version_major": 2,
       "version_minor": 0
      },
      "text/plain": [
       "HBox(children=(HTML(value='Executing'), FloatProgress(value=0.0, max=41.0), HTML(value='')))"
      ]
     },
     "metadata": {},
     "output_type": "display_data"
    },
    {
     "name": "stdout",
     "output_type": "stream",
     "text": [
      "\n",
      "Cannot read \n",
      "---------------------------------------------------------------------------\n",
      "Exception encountered at \"In [20]\":\n",
      "---------------------------------------------------------------------------\n",
      "AssertionError                            Traceback (most recent call last)\n",
      "<ipython-input-20-9b22ff7d12a1> in <module>\n",
      "      1 if df_CI_analysis.empty:\n",
      "----> 2     assert(False)\n",
      "      3     #%%javascript\n",
      "      4     #Jupyter.notebook.session.delete();\n",
      "      5     # Exit will kill the kernel. Let's see how Papermill handles that.\n",
      "\n",
      "AssertionError: \n",
      "\n",
      "Running notebook for PRETZELS/OH_2277_UPSCALE_1\n"
     ]
    },
    {
     "data": {
      "application/vnd.jupyter.widget-view+json": {
       "model_id": "599369a4b11d487a91d5e0fbad8eabcb",
       "version_major": 2,
       "version_minor": 0
      },
      "text/plain": [
       "HBox(children=(HTML(value='Executing'), FloatProgress(value=0.0, max=41.0), HTML(value='')))"
      ]
     },
     "metadata": {},
     "output_type": "display_data"
    },
    {
     "name": "stdout",
     "output_type": "stream",
     "text": [
      "\n",
      "Running notebook for PRETZELS/OH_24991_UPSCALE_1\n"
     ]
    },
    {
     "data": {
      "application/vnd.jupyter.widget-view+json": {
       "model_id": "78ecf9fdeb0a414e9760b0bf6b50f4ee",
       "version_major": 2,
       "version_minor": 0
      },
      "text/plain": [
       "HBox(children=(HTML(value='Executing'), FloatProgress(value=0.0, max=41.0), HTML(value='')))"
      ]
     },
     "metadata": {},
     "output_type": "display_data"
    },
    {
     "name": "stdout",
     "output_type": "stream",
     "text": [
      "\n",
      "Running notebook for PRETZELS/OH_25027_MAINSTREAM_1\n"
     ]
    },
    {
     "data": {
      "application/vnd.jupyter.widget-view+json": {
       "model_id": "1563464858ec4afd9e97a77051e3470e",
       "version_major": 2,
       "version_minor": 0
      },
      "text/plain": [
       "HBox(children=(HTML(value='Executing'), FloatProgress(value=0.0, max=41.0), HTML(value='')))"
      ]
     },
     "metadata": {},
     "output_type": "display_data"
    },
    {
     "name": "stdout",
     "output_type": "stream",
     "text": [
      "\n",
      "Running notebook for PRETZELS/OH_21237_MAINSTREAM_1\n"
     ]
    },
    {
     "data": {
      "application/vnd.jupyter.widget-view+json": {
       "model_id": "9540a557d097427e8fab7e775df0279b",
       "version_major": 2,
       "version_minor": 0
      },
      "text/plain": [
       "HBox(children=(HTML(value='Executing'), FloatProgress(value=0.0, max=41.0), HTML(value='')))"
      ]
     },
     "metadata": {},
     "output_type": "display_data"
    },
    {
     "name": "stdout",
     "output_type": "stream",
     "text": [
      "\n",
      "Running notebook for PRETZELS/TX_623_MAINSTREAM_1\n"
     ]
    },
    {
     "data": {
      "application/vnd.jupyter.widget-view+json": {
       "model_id": "7293e5edaca4448784fb5ca4cf515b73",
       "version_major": 2,
       "version_minor": 0
      },
      "text/plain": [
       "HBox(children=(HTML(value='Executing'), FloatProgress(value=0.0, max=41.0), HTML(value='')))"
      ]
     },
     "metadata": {},
     "output_type": "display_data"
    },
    {
     "name": "stdout",
     "output_type": "stream",
     "text": [
      "\n",
      "Cannot read \n",
      "---------------------------------------------------------------------------\n",
      "Exception encountered at \"In [20]\":\n",
      "---------------------------------------------------------------------------\n",
      "AssertionError                            Traceback (most recent call last)\n",
      "<ipython-input-20-9b22ff7d12a1> in <module>\n",
      "      1 if df_CI_analysis.empty:\n",
      "----> 2     assert(False)\n",
      "      3     #%%javascript\n",
      "      4     #Jupyter.notebook.session.delete();\n",
      "      5     # Exit will kill the kernel. Let's see how Papermill handles that.\n",
      "\n",
      "AssertionError: \n",
      "\n",
      "Running notebook for PRETZELS/TX_25233_VALUE_1\n"
     ]
    },
    {
     "data": {
      "application/vnd.jupyter.widget-view+json": {
       "model_id": "2f817b17dd8d42d6bfc448160ab4a745",
       "version_major": 2,
       "version_minor": 0
      },
      "text/plain": [
       "HBox(children=(HTML(value='Executing'), FloatProgress(value=0.0, max=41.0), HTML(value='')))"
      ]
     },
     "metadata": {},
     "output_type": "display_data"
    },
    {
     "name": "stdout",
     "output_type": "stream",
     "text": [
      "\n",
      "Cannot read \n",
      "---------------------------------------------------------------------------\n",
      "Exception encountered at \"In [20]\":\n",
      "---------------------------------------------------------------------------\n",
      "AssertionError                            Traceback (most recent call last)\n",
      "<ipython-input-20-9b22ff7d12a1> in <module>\n",
      "      1 if df_CI_analysis.empty:\n",
      "----> 2     assert(False)\n",
      "      3     #%%javascript\n",
      "      4     #Jupyter.notebook.session.delete();\n",
      "      5     # Exit will kill the kernel. Let's see how Papermill handles that.\n",
      "\n",
      "AssertionError: \n",
      "\n",
      "Running notebook for PRETZELS/OH_6179_UPSCALE_1\n"
     ]
    },
    {
     "data": {
      "application/vnd.jupyter.widget-view+json": {
       "model_id": "a34bfd4247f5452c854edb4d348c4882",
       "version_major": 2,
       "version_minor": 0
      },
      "text/plain": [
       "HBox(children=(HTML(value='Executing'), FloatProgress(value=0.0, max=41.0), HTML(value='')))"
      ]
     },
     "metadata": {},
     "output_type": "display_data"
    },
    {
     "name": "stdout",
     "output_type": "stream",
     "text": [
      "\n",
      "Running notebook for PRETZELS/TX_25229_MAINSTREAM_1\n"
     ]
    },
    {
     "data": {
      "application/vnd.jupyter.widget-view+json": {
       "model_id": "8d425f63f0404c31bf13471e068eca07",
       "version_major": 2,
       "version_minor": 0
      },
      "text/plain": [
       "HBox(children=(HTML(value='Executing'), FloatProgress(value=0.0, max=41.0), HTML(value='')))"
      ]
     },
     "metadata": {},
     "output_type": "display_data"
    },
    {
     "name": "stdout",
     "output_type": "stream",
     "text": [
      "\n",
      "Cannot read \n",
      "---------------------------------------------------------------------------\n",
      "Exception encountered at \"In [20]\":\n",
      "---------------------------------------------------------------------------\n",
      "AssertionError                            Traceback (most recent call last)\n",
      "<ipython-input-20-9b22ff7d12a1> in <module>\n",
      "      1 if df_CI_analysis.empty:\n",
      "----> 2     assert(False)\n",
      "      3     #%%javascript\n",
      "      4     #Jupyter.notebook.session.delete();\n",
      "      5     # Exit will kill the kernel. Let's see how Papermill handles that.\n",
      "\n",
      "AssertionError: \n",
      "\n",
      "Running notebook for PRETZELS/OH_21227_UPSCALE_1\n"
     ]
    },
    {
     "data": {
      "application/vnd.jupyter.widget-view+json": {
       "model_id": "3fbd1a664a694a36b2e1bbcf7ff113bc",
       "version_major": 2,
       "version_minor": 0
      },
      "text/plain": [
       "HBox(children=(HTML(value='Executing'), FloatProgress(value=0.0, max=41.0), HTML(value='')))"
      ]
     },
     "metadata": {},
     "output_type": "display_data"
    },
    {
     "name": "stdout",
     "output_type": "stream",
     "text": [
      "\n",
      "Cannot read \n",
      "---------------------------------------------------------------------------\n",
      "Exception encountered at \"In [17]\":\n",
      "---------------------------------------------------------------------------\n",
      "ValueError                                Traceback (most recent call last)\n",
      "<ipython-input-17-f7dc8f9a4211> in <module>\n",
      "     65                 sales_sku_B = df_store[sku_B]\n",
      "     66 \n",
      "---> 67             ci_analysis = promies.calculate_causal_impact(sku_id_A, promo_sku_A, availability_sku_A, sales_sku_A, \\\n",
      "     68                 sku_id_B, promo_sku_B, availability_sku_B, sales_sku_B, \\\n",
      "     69                 idx_pre_intervention, idx_post_intervention, \\\n",
      "\n",
      "~/Google Drive/order/Machine Learning Part/Preparing the 3rd paper/promotional_helpers.py in calculate_causal_impact(sku_id_A, promo_sku_A, availability_sku_A, sales_sku_A, sku_id_B, promo_sku_B, availability_sku_B, sales_sku_B, idx_pre_intervention, idx_post_intervention, idx_holiday_to_exclude, min_diff_in_units_from_reg_to_promo, min_ratio_change, do_exclude_promos_SKU_B, be_verbose, min_overlapping_days_regular, min_overlapping_days_promo)\n",
      "    217 \n",
      "    218                 print('Running Causal Impact...')\n",
      "--> 219                 ci = CausalImpact(sales_sku_B, idx_regular_days, idx_promo_days)\n",
      "    220 \n",
      "    221                 #ci.lower_upper_percentile\n",
      "\n",
      "/usr/local/lib/python3.8/site-packages/causalimpact/main.py in __init__(self, data, pre_period, post_period, model, alpha, **kwargs)\n",
      "    226     \"\"\"\n",
      "    227     def __init__(self, data, pre_period, post_period, model=None, alpha=0.05, **kwargs):\n",
      "--> 228         checked_input = self._process_input_data(\n",
      "    229             data, pre_period, post_period, model, alpha, **kwargs\n",
      "    230         )\n",
      "\n",
      "/usr/local/lib/python3.8/site-packages/causalimpact/main.py in _process_input_data(self, data, pre_period, post_period, model, alpha, **kwargs)\n",
      "    375                              args=', '.join(none_args)))\n",
      "    376         processed_data = self._format_input_data(data)\n",
      "--> 377         pre_data, post_data = self._process_pre_post_data(processed_data, pre_period,\n",
      "    378                                                           post_period)\n",
      "    379         alpha = self._process_alpha(alpha)\n",
      "\n",
      "/usr/local/lib/python3.8/site-packages/causalimpact/main.py in _process_pre_post_data(self, data, pre_period, post_period)\n",
      "    668             raise ValueError('pre_period last number must be bigger than its first.')\n",
      "    669         if checked_pre_period[1] - checked_pre_period[0] < 3:\n",
      "--> 670             raise ValueError('pre_period must span at least 3 time points.')\n",
      "    671         if checked_post_period[1] < checked_post_period[0]:\n",
      "    672             raise ValueError('post_period last number must be bigger than its first.')\n",
      "\n",
      "ValueError: pre_period must span at least 3 time points.\n",
      "\n",
      "Running notebook for PRETZELS/OH_25021_VALUE_1\n"
     ]
    },
    {
     "data": {
      "application/vnd.jupyter.widget-view+json": {
       "model_id": "8ad088960bc44058abfa718e853fc3e2",
       "version_major": 2,
       "version_minor": 0
      },
      "text/plain": [
       "HBox(children=(HTML(value='Executing'), FloatProgress(value=0.0, max=41.0), HTML(value='')))"
      ]
     },
     "metadata": {},
     "output_type": "display_data"
    },
    {
     "name": "stdout",
     "output_type": "stream",
     "text": [
      "\n",
      "Cannot read \n",
      "---------------------------------------------------------------------------\n",
      "Exception encountered at \"In [20]\":\n",
      "---------------------------------------------------------------------------\n",
      "AssertionError                            Traceback (most recent call last)\n",
      "<ipython-input-20-9b22ff7d12a1> in <module>\n",
      "      1 if df_CI_analysis.empty:\n",
      "----> 2     assert(False)\n",
      "      3     #%%javascript\n",
      "      4     #Jupyter.notebook.session.delete();\n",
      "      5     # Exit will kill the kernel. Let's see how Papermill handles that.\n",
      "\n",
      "AssertionError: \n",
      "\n",
      "Running notebook for PRETZELS/TX_17615_MAINSTREAM_1\n"
     ]
    },
    {
     "data": {
      "application/vnd.jupyter.widget-view+json": {
       "model_id": "bfa0d0f094c44254a253eb5b98ed2d7b",
       "version_major": 2,
       "version_minor": 0
      },
      "text/plain": [
       "HBox(children=(HTML(value='Executing'), FloatProgress(value=0.0, max=41.0), HTML(value='')))"
      ]
     },
     "metadata": {},
     "output_type": "display_data"
    },
    {
     "name": "stdout",
     "output_type": "stream",
     "text": [
      "\n",
      "Cannot read \n",
      "---------------------------------------------------------------------------\n",
      "Exception encountered at \"In [20]\":\n",
      "---------------------------------------------------------------------------\n",
      "AssertionError                            Traceback (most recent call last)\n",
      "<ipython-input-20-9b22ff7d12a1> in <module>\n",
      "      1 if df_CI_analysis.empty:\n",
      "----> 2     assert(False)\n",
      "      3     #%%javascript\n",
      "      4     #Jupyter.notebook.session.delete();\n",
      "      5     # Exit will kill the kernel. Let's see how Papermill handles that.\n",
      "\n",
      "AssertionError: \n",
      "\n",
      "Running notebook for PRETZELS/TX_2513_UPSCALE_1\n"
     ]
    },
    {
     "data": {
      "application/vnd.jupyter.widget-view+json": {
       "model_id": "3ce3a1557a4b4ab8b7cea8e0c9e6c1e1",
       "version_major": 2,
       "version_minor": 0
      },
      "text/plain": [
       "HBox(children=(HTML(value='Executing'), FloatProgress(value=0.0, max=41.0), HTML(value='')))"
      ]
     },
     "metadata": {},
     "output_type": "display_data"
    },
    {
     "name": "stdout",
     "output_type": "stream",
     "text": [
      "\n",
      "Cannot read \n",
      "---------------------------------------------------------------------------\n",
      "Exception encountered at \"In [20]\":\n",
      "---------------------------------------------------------------------------\n",
      "AssertionError                            Traceback (most recent call last)\n",
      "<ipython-input-20-9b22ff7d12a1> in <module>\n",
      "      1 if df_CI_analysis.empty:\n",
      "----> 2     assert(False)\n",
      "      3     #%%javascript\n",
      "      4     #Jupyter.notebook.session.delete();\n",
      "      5     # Exit will kill the kernel. Let's see how Papermill handles that.\n",
      "\n",
      "AssertionError: \n",
      "\n",
      "Running notebook for PRETZELS/OH_2281_UPSCALE_1\n"
     ]
    },
    {
     "data": {
      "application/vnd.jupyter.widget-view+json": {
       "model_id": "0cc26425a72b47c18bfe88ff9e1e8c4a",
       "version_major": 2,
       "version_minor": 0
      },
      "text/plain": [
       "HBox(children=(HTML(value='Executing'), FloatProgress(value=0.0, max=41.0), HTML(value='')))"
      ]
     },
     "metadata": {},
     "output_type": "display_data"
    },
    {
     "name": "stdout",
     "output_type": "stream",
     "text": [
      "\n",
      "Cannot read \n",
      "---------------------------------------------------------------------------\n",
      "Exception encountered at \"In [20]\":\n",
      "---------------------------------------------------------------------------\n",
      "AssertionError                            Traceback (most recent call last)\n",
      "<ipython-input-20-9b22ff7d12a1> in <module>\n",
      "      1 if df_CI_analysis.empty:\n",
      "----> 2     assert(False)\n",
      "      3     #%%javascript\n",
      "      4     #Jupyter.notebook.session.delete();\n",
      "      5     # Exit will kill the kernel. Let's see how Papermill handles that.\n",
      "\n",
      "AssertionError: \n",
      "\n",
      "Running notebook for PRETZELS/KY_19265_MAINSTREAM_1\n"
     ]
    },
    {
     "data": {
      "application/vnd.jupyter.widget-view+json": {
       "model_id": "7c3ffcf550db409798c87cf9bc2517a7",
       "version_major": 2,
       "version_minor": 0
      },
      "text/plain": [
       "HBox(children=(HTML(value='Executing'), FloatProgress(value=0.0, max=41.0), HTML(value='')))"
      ]
     },
     "metadata": {},
     "output_type": "display_data"
    },
    {
     "name": "stdout",
     "output_type": "stream",
     "text": [
      "\n",
      "Cannot read \n",
      "---------------------------------------------------------------------------\n",
      "Exception encountered at \"In [20]\":\n",
      "---------------------------------------------------------------------------\n",
      "AssertionError                            Traceback (most recent call last)\n",
      "<ipython-input-20-9b22ff7d12a1> in <module>\n",
      "      1 if df_CI_analysis.empty:\n",
      "----> 2     assert(False)\n",
      "      3     #%%javascript\n",
      "      4     #Jupyter.notebook.session.delete();\n",
      "      5     # Exit will kill the kernel. Let's see how Papermill handles that.\n",
      "\n",
      "AssertionError: \n",
      "\n",
      "Running notebook for PRETZELS/OH_26983_VALUE_1\n"
     ]
    },
    {
     "data": {
      "application/vnd.jupyter.widget-view+json": {
       "model_id": "3d77c5a806f24226b0cae7b5ba557712",
       "version_major": 2,
       "version_minor": 0
      },
      "text/plain": [
       "HBox(children=(HTML(value='Executing'), FloatProgress(value=0.0, max=41.0), HTML(value='')))"
      ]
     },
     "metadata": {},
     "output_type": "display_data"
    },
    {
     "name": "stdout",
     "output_type": "stream",
     "text": [
      "\n",
      "Cannot read \n",
      "---------------------------------------------------------------------------\n",
      "Exception encountered at \"In [20]\":\n",
      "---------------------------------------------------------------------------\n",
      "AssertionError                            Traceback (most recent call last)\n",
      "<ipython-input-20-9b22ff7d12a1> in <module>\n",
      "      1 if df_CI_analysis.empty:\n",
      "----> 2     assert(False)\n",
      "      3     #%%javascript\n",
      "      4     #Jupyter.notebook.session.delete();\n",
      "      5     # Exit will kill the kernel. Let's see how Papermill handles that.\n",
      "\n",
      "AssertionError: \n",
      "\n",
      "Running notebook for PRETZELS/OH_4259_VALUE_1\n"
     ]
    },
    {
     "data": {
      "application/vnd.jupyter.widget-view+json": {
       "model_id": "d82857548ad14e7292735cec1426560d",
       "version_major": 2,
       "version_minor": 0
      },
      "text/plain": [
       "HBox(children=(HTML(value='Executing'), FloatProgress(value=0.0, max=41.0), HTML(value='')))"
      ]
     },
     "metadata": {},
     "output_type": "display_data"
    },
    {
     "name": "stdout",
     "output_type": "stream",
     "text": [
      "\n",
      "Cannot read \n",
      "---------------------------------------------------------------------------\n",
      "Exception encountered at \"In [20]\":\n",
      "---------------------------------------------------------------------------\n",
      "AssertionError                            Traceback (most recent call last)\n",
      "<ipython-input-20-9b22ff7d12a1> in <module>\n",
      "      1 if df_CI_analysis.empty:\n",
      "----> 2     assert(False)\n",
      "      3     #%%javascript\n",
      "      4     #Jupyter.notebook.session.delete();\n",
      "      5     # Exit will kill the kernel. Let's see how Papermill handles that.\n",
      "\n",
      "AssertionError: \n",
      "\n",
      "Running notebook for PRETZELS/TX_23327_MAINSTREAM_1\n"
     ]
    },
    {
     "data": {
      "application/vnd.jupyter.widget-view+json": {
       "model_id": "27a3223ab5824b63a34cdf7d9c52103f",
       "version_major": 2,
       "version_minor": 0
      },
      "text/plain": [
       "HBox(children=(HTML(value='Executing'), FloatProgress(value=0.0, max=41.0), HTML(value='')))"
      ]
     },
     "metadata": {},
     "output_type": "display_data"
    },
    {
     "name": "stdout",
     "output_type": "stream",
     "text": [
      "\n",
      "Cannot read \n",
      "---------------------------------------------------------------------------\n",
      "Exception encountered at \"In [20]\":\n",
      "---------------------------------------------------------------------------\n",
      "AssertionError                            Traceback (most recent call last)\n",
      "<ipython-input-20-9b22ff7d12a1> in <module>\n",
      "      1 if df_CI_analysis.empty:\n",
      "----> 2     assert(False)\n",
      "      3     #%%javascript\n",
      "      4     #Jupyter.notebook.session.delete();\n",
      "      5     # Exit will kill the kernel. Let's see how Papermill handles that.\n",
      "\n",
      "AssertionError: \n",
      "\n",
      "Running notebook for PRETZELS/OH_9825_MAINSTREAM_1\n"
     ]
    },
    {
     "data": {
      "application/vnd.jupyter.widget-view+json": {
       "model_id": "352180656f34459b86f1db68ee0e557d",
       "version_major": 2,
       "version_minor": 0
      },
      "text/plain": [
       "HBox(children=(HTML(value='Executing'), FloatProgress(value=0.0, max=41.0), HTML(value='')))"
      ]
     },
     "metadata": {},
     "output_type": "display_data"
    },
    {
     "name": "stdout",
     "output_type": "stream",
     "text": [
      "\n",
      "Running notebook for PRETZELS/TX_21479_VALUE_1\n"
     ]
    },
    {
     "data": {
      "application/vnd.jupyter.widget-view+json": {
       "model_id": "9cfa6d30b0a84f2da7408997aaa6e37a",
       "version_major": 2,
       "version_minor": 0
      },
      "text/plain": [
       "HBox(children=(HTML(value='Executing'), FloatProgress(value=0.0, max=41.0), HTML(value='')))"
      ]
     },
     "metadata": {},
     "output_type": "display_data"
    },
    {
     "name": "stdout",
     "output_type": "stream",
     "text": [
      "\n",
      "Cannot read \n",
      "---------------------------------------------------------------------------\n",
      "Exception encountered at \"In [20]\":\n",
      "---------------------------------------------------------------------------\n",
      "AssertionError                            Traceback (most recent call last)\n",
      "<ipython-input-20-9b22ff7d12a1> in <module>\n",
      "      1 if df_CI_analysis.empty:\n",
      "----> 2     assert(False)\n",
      "      3     #%%javascript\n",
      "      4     #Jupyter.notebook.session.delete();\n",
      "      5     # Exit will kill the kernel. Let's see how Papermill handles that.\n",
      "\n",
      "AssertionError: \n",
      "\n",
      "Running notebook for PRETZELS/TX_613_MAINSTREAM_1\n"
     ]
    },
    {
     "data": {
      "application/vnd.jupyter.widget-view+json": {
       "model_id": "d26f9f29438947f28556b3f65952452e",
       "version_major": 2,
       "version_minor": 0
      },
      "text/plain": [
       "HBox(children=(HTML(value='Executing'), FloatProgress(value=0.0, max=41.0), HTML(value='')))"
      ]
     },
     "metadata": {},
     "output_type": "display_data"
    },
    {
     "name": "stdout",
     "output_type": "stream",
     "text": [
      "\n",
      "Cannot read \n",
      "---------------------------------------------------------------------------\n",
      "Exception encountered at \"In [20]\":\n",
      "---------------------------------------------------------------------------\n",
      "AssertionError                            Traceback (most recent call last)\n",
      "<ipython-input-20-9b22ff7d12a1> in <module>\n",
      "      1 if df_CI_analysis.empty:\n",
      "----> 2     assert(False)\n",
      "      3     #%%javascript\n",
      "      4     #Jupyter.notebook.session.delete();\n",
      "      5     # Exit will kill the kernel. Let's see how Papermill handles that.\n",
      "\n",
      "AssertionError: \n",
      "\n",
      "Running notebook for ALL.FAMILY.CEREAL/OH_2277_UPSCALE_1\n"
     ]
    },
    {
     "data": {
      "application/vnd.jupyter.widget-view+json": {
       "model_id": "2740be5964fc44a4a98be5d33c0c52d7",
       "version_major": 2,
       "version_minor": 0
      },
      "text/plain": [
       "HBox(children=(HTML(value='Executing'), FloatProgress(value=0.0, max=41.0), HTML(value='')))"
      ]
     },
     "metadata": {},
     "output_type": "display_data"
    },
    {
     "name": "stdout",
     "output_type": "stream",
     "text": [
      "\n",
      "Cannot read \n",
      "---------------------------------------------------------------------------\n",
      "Exception encountered at \"In [20]\":\n",
      "---------------------------------------------------------------------------\n",
      "AssertionError                            Traceback (most recent call last)\n",
      "<ipython-input-20-9b22ff7d12a1> in <module>\n",
      "      1 if df_CI_analysis.empty:\n",
      "----> 2     assert(False)\n",
      "      3     #%%javascript\n",
      "      4     #Jupyter.notebook.session.delete();\n",
      "      5     # Exit will kill the kernel. Let's see how Papermill handles that.\n",
      "\n",
      "AssertionError: \n",
      "\n",
      "Running notebook for ALL.FAMILY.CEREAL/OH_24991_UPSCALE_1\n"
     ]
    },
    {
     "data": {
      "application/vnd.jupyter.widget-view+json": {
       "model_id": "f276b4aeabef4858b66f5d4bca4f6db7",
       "version_major": 2,
       "version_minor": 0
      },
      "text/plain": [
       "HBox(children=(HTML(value='Executing'), FloatProgress(value=0.0, max=41.0), HTML(value='')))"
      ]
     },
     "metadata": {},
     "output_type": "display_data"
    },
    {
     "name": "stdout",
     "output_type": "stream",
     "text": [
      "\n",
      "Running notebook for ALL.FAMILY.CEREAL/OH_25027_MAINSTREAM_1\n"
     ]
    },
    {
     "data": {
      "application/vnd.jupyter.widget-view+json": {
       "model_id": "9addb126fa9049318f342a767beeb8b8",
       "version_major": 2,
       "version_minor": 0
      },
      "text/plain": [
       "HBox(children=(HTML(value='Executing'), FloatProgress(value=0.0, max=41.0), HTML(value='')))"
      ]
     },
     "metadata": {},
     "output_type": "display_data"
    },
    {
     "name": "stdout",
     "output_type": "stream",
     "text": [
      "\n",
      "Cannot read \n",
      "---------------------------------------------------------------------------\n",
      "Exception encountered at \"In [20]\":\n",
      "---------------------------------------------------------------------------\n",
      "AssertionError                            Traceback (most recent call last)\n",
      "<ipython-input-20-9b22ff7d12a1> in <module>\n",
      "      1 if df_CI_analysis.empty:\n",
      "----> 2     assert(False)\n",
      "      3     #%%javascript\n",
      "      4     #Jupyter.notebook.session.delete();\n",
      "      5     # Exit will kill the kernel. Let's see how Papermill handles that.\n",
      "\n",
      "AssertionError: \n",
      "\n",
      "Running notebook for ALL.FAMILY.CEREAL/OH_21237_MAINSTREAM_1\n"
     ]
    },
    {
     "data": {
      "application/vnd.jupyter.widget-view+json": {
       "model_id": "f2ca1de8807e499ea85b180f3a88c3e7",
       "version_major": 2,
       "version_minor": 0
      },
      "text/plain": [
       "HBox(children=(HTML(value='Executing'), FloatProgress(value=0.0, max=41.0), HTML(value='')))"
      ]
     },
     "metadata": {},
     "output_type": "display_data"
    },
    {
     "name": "stdout",
     "output_type": "stream",
     "text": [
      "\n",
      "Cannot read \n",
      "---------------------------------------------------------------------------\n",
      "Exception encountered at \"In [20]\":\n",
      "---------------------------------------------------------------------------\n",
      "AssertionError                            Traceback (most recent call last)\n",
      "<ipython-input-20-9b22ff7d12a1> in <module>\n",
      "      1 if df_CI_analysis.empty:\n",
      "----> 2     assert(False)\n",
      "      3     #%%javascript\n",
      "      4     #Jupyter.notebook.session.delete();\n",
      "      5     # Exit will kill the kernel. Let's see how Papermill handles that.\n",
      "\n",
      "AssertionError: \n",
      "\n",
      "Running notebook for ALL.FAMILY.CEREAL/TX_623_MAINSTREAM_1\n"
     ]
    },
    {
     "data": {
      "application/vnd.jupyter.widget-view+json": {
       "model_id": "1cd7828c8c8e4455ba3f0b83523acdea",
       "version_major": 2,
       "version_minor": 0
      },
      "text/plain": [
       "HBox(children=(HTML(value='Executing'), FloatProgress(value=0.0, max=41.0), HTML(value='')))"
      ]
     },
     "metadata": {},
     "output_type": "display_data"
    },
    {
     "name": "stdout",
     "output_type": "stream",
     "text": [
      "\n",
      "Cannot read \n",
      "---------------------------------------------------------------------------\n",
      "Exception encountered at \"In [20]\":\n",
      "---------------------------------------------------------------------------\n",
      "AssertionError                            Traceback (most recent call last)\n",
      "<ipython-input-20-9b22ff7d12a1> in <module>\n",
      "      1 if df_CI_analysis.empty:\n",
      "----> 2     assert(False)\n",
      "      3     #%%javascript\n",
      "      4     #Jupyter.notebook.session.delete();\n",
      "      5     # Exit will kill the kernel. Let's see how Papermill handles that.\n",
      "\n",
      "AssertionError: \n",
      "\n",
      "Running notebook for ALL.FAMILY.CEREAL/TX_25233_VALUE_1\n"
     ]
    },
    {
     "data": {
      "application/vnd.jupyter.widget-view+json": {
       "model_id": "d1e32d856b6d4f5898335b95378b4d63",
       "version_major": 2,
       "version_minor": 0
      },
      "text/plain": [
       "HBox(children=(HTML(value='Executing'), FloatProgress(value=0.0, max=41.0), HTML(value='')))"
      ]
     },
     "metadata": {},
     "output_type": "display_data"
    },
    {
     "name": "stdout",
     "output_type": "stream",
     "text": [
      "\n",
      "Cannot read \n",
      "---------------------------------------------------------------------------\n",
      "Exception encountered at \"In [20]\":\n",
      "---------------------------------------------------------------------------\n",
      "AssertionError                            Traceback (most recent call last)\n",
      "<ipython-input-20-9b22ff7d12a1> in <module>\n",
      "      1 if df_CI_analysis.empty:\n",
      "----> 2     assert(False)\n",
      "      3     #%%javascript\n",
      "      4     #Jupyter.notebook.session.delete();\n",
      "      5     # Exit will kill the kernel. Let's see how Papermill handles that.\n",
      "\n",
      "AssertionError: \n",
      "\n",
      "Running notebook for ALL.FAMILY.CEREAL/OH_6179_UPSCALE_1\n"
     ]
    },
    {
     "data": {
      "application/vnd.jupyter.widget-view+json": {
       "model_id": "77ce2788041d4ef2978d2503c9160fe7",
       "version_major": 2,
       "version_minor": 0
      },
      "text/plain": [
       "HBox(children=(HTML(value='Executing'), FloatProgress(value=0.0, max=41.0), HTML(value='')))"
      ]
     },
     "metadata": {},
     "output_type": "display_data"
    },
    {
     "name": "stdout",
     "output_type": "stream",
     "text": [
      "\n",
      "Cannot read \n",
      "---------------------------------------------------------------------------\n",
      "Exception encountered at \"In [20]\":\n",
      "---------------------------------------------------------------------------\n",
      "AssertionError                            Traceback (most recent call last)\n",
      "<ipython-input-20-9b22ff7d12a1> in <module>\n",
      "      1 if df_CI_analysis.empty:\n",
      "----> 2     assert(False)\n",
      "      3     #%%javascript\n",
      "      4     #Jupyter.notebook.session.delete();\n",
      "      5     # Exit will kill the kernel. Let's see how Papermill handles that.\n",
      "\n",
      "AssertionError: \n",
      "\n",
      "Running notebook for ALL.FAMILY.CEREAL/TX_25229_MAINSTREAM_1\n"
     ]
    },
    {
     "data": {
      "application/vnd.jupyter.widget-view+json": {
       "model_id": "7bada7925f2c458a855c1b1957859e3a",
       "version_major": 2,
       "version_minor": 0
      },
      "text/plain": [
       "HBox(children=(HTML(value='Executing'), FloatProgress(value=0.0, max=41.0), HTML(value='')))"
      ]
     },
     "metadata": {},
     "output_type": "display_data"
    },
    {
     "name": "stdout",
     "output_type": "stream",
     "text": [
      "\n",
      "Cannot read \n",
      "---------------------------------------------------------------------------\n",
      "Exception encountered at \"In [20]\":\n",
      "---------------------------------------------------------------------------\n",
      "AssertionError                            Traceback (most recent call last)\n",
      "<ipython-input-20-9b22ff7d12a1> in <module>\n",
      "      1 if df_CI_analysis.empty:\n",
      "----> 2     assert(False)\n",
      "      3     #%%javascript\n",
      "      4     #Jupyter.notebook.session.delete();\n",
      "      5     # Exit will kill the kernel. Let's see how Papermill handles that.\n",
      "\n",
      "AssertionError: \n",
      "\n",
      "Running notebook for ALL.FAMILY.CEREAL/OH_21227_UPSCALE_1\n"
     ]
    },
    {
     "data": {
      "application/vnd.jupyter.widget-view+json": {
       "model_id": "9e6ab993194f4991b91b295389a50e4c",
       "version_major": 2,
       "version_minor": 0
      },
      "text/plain": [
       "HBox(children=(HTML(value='Executing'), FloatProgress(value=0.0, max=41.0), HTML(value='')))"
      ]
     },
     "metadata": {},
     "output_type": "display_data"
    },
    {
     "name": "stdout",
     "output_type": "stream",
     "text": [
      "\n",
      "Cannot read \n",
      "---------------------------------------------------------------------------\n",
      "Exception encountered at \"In [20]\":\n",
      "---------------------------------------------------------------------------\n",
      "AssertionError                            Traceback (most recent call last)\n",
      "<ipython-input-20-9b22ff7d12a1> in <module>\n",
      "      1 if df_CI_analysis.empty:\n",
      "----> 2     assert(False)\n",
      "      3     #%%javascript\n",
      "      4     #Jupyter.notebook.session.delete();\n",
      "      5     # Exit will kill the kernel. Let's see how Papermill handles that.\n",
      "\n",
      "AssertionError: \n",
      "\n",
      "Running notebook for ALL.FAMILY.CEREAL/OH_25021_VALUE_1\n"
     ]
    },
    {
     "data": {
      "application/vnd.jupyter.widget-view+json": {
       "model_id": "cb566b1ac6f24c11bfae19cbd321131f",
       "version_major": 2,
       "version_minor": 0
      },
      "text/plain": [
       "HBox(children=(HTML(value='Executing'), FloatProgress(value=0.0, max=41.0), HTML(value='')))"
      ]
     },
     "metadata": {},
     "output_type": "display_data"
    },
    {
     "name": "stdout",
     "output_type": "stream",
     "text": [
      "\n",
      "Running notebook for ALL.FAMILY.CEREAL/TX_17615_MAINSTREAM_1\n"
     ]
    },
    {
     "data": {
      "application/vnd.jupyter.widget-view+json": {
       "model_id": "2e701cd1efc845ea970d7a6f50415e2b",
       "version_major": 2,
       "version_minor": 0
      },
      "text/plain": [
       "HBox(children=(HTML(value='Executing'), FloatProgress(value=0.0, max=41.0), HTML(value='')))"
      ]
     },
     "metadata": {},
     "output_type": "display_data"
    },
    {
     "name": "stdout",
     "output_type": "stream",
     "text": [
      "\n",
      "Cannot read \n",
      "---------------------------------------------------------------------------\n",
      "Exception encountered at \"In [20]\":\n",
      "---------------------------------------------------------------------------\n",
      "AssertionError                            Traceback (most recent call last)\n",
      "<ipython-input-20-9b22ff7d12a1> in <module>\n",
      "      1 if df_CI_analysis.empty:\n",
      "----> 2     assert(False)\n",
      "      3     #%%javascript\n",
      "      4     #Jupyter.notebook.session.delete();\n",
      "      5     # Exit will kill the kernel. Let's see how Papermill handles that.\n",
      "\n",
      "AssertionError: \n",
      "\n",
      "Running notebook for ALL.FAMILY.CEREAL/TX_2513_UPSCALE_1\n"
     ]
    },
    {
     "data": {
      "application/vnd.jupyter.widget-view+json": {
       "model_id": "bf2ee4fb50c6453b86584c88c2bde26b",
       "version_major": 2,
       "version_minor": 0
      },
      "text/plain": [
       "HBox(children=(HTML(value='Executing'), FloatProgress(value=0.0, max=41.0), HTML(value='')))"
      ]
     },
     "metadata": {},
     "output_type": "display_data"
    },
    {
     "name": "stdout",
     "output_type": "stream",
     "text": [
      "\n",
      "Cannot read \n",
      "---------------------------------------------------------------------------\n",
      "Exception encountered at \"In [20]\":\n",
      "---------------------------------------------------------------------------\n",
      "AssertionError                            Traceback (most recent call last)\n",
      "<ipython-input-20-9b22ff7d12a1> in <module>\n",
      "      1 if df_CI_analysis.empty:\n",
      "----> 2     assert(False)\n",
      "      3     #%%javascript\n",
      "      4     #Jupyter.notebook.session.delete();\n",
      "      5     # Exit will kill the kernel. Let's see how Papermill handles that.\n",
      "\n",
      "AssertionError: \n",
      "\n",
      "Running notebook for ALL.FAMILY.CEREAL/OH_2281_UPSCALE_1\n"
     ]
    },
    {
     "data": {
      "application/vnd.jupyter.widget-view+json": {
       "model_id": "704e499a65ad4348a315beeb62de805c",
       "version_major": 2,
       "version_minor": 0
      },
      "text/plain": [
       "HBox(children=(HTML(value='Executing'), FloatProgress(value=0.0, max=41.0), HTML(value='')))"
      ]
     },
     "metadata": {},
     "output_type": "display_data"
    },
    {
     "name": "stdout",
     "output_type": "stream",
     "text": [
      "\n",
      "Cannot read \n",
      "---------------------------------------------------------------------------\n",
      "Exception encountered at \"In [20]\":\n",
      "---------------------------------------------------------------------------\n",
      "AssertionError                            Traceback (most recent call last)\n",
      "<ipython-input-20-9b22ff7d12a1> in <module>\n",
      "      1 if df_CI_analysis.empty:\n",
      "----> 2     assert(False)\n",
      "      3     #%%javascript\n",
      "      4     #Jupyter.notebook.session.delete();\n",
      "      5     # Exit will kill the kernel. Let's see how Papermill handles that.\n",
      "\n",
      "AssertionError: \n",
      "\n",
      "Running notebook for ALL.FAMILY.CEREAL/KY_19265_MAINSTREAM_1\n"
     ]
    },
    {
     "data": {
      "application/vnd.jupyter.widget-view+json": {
       "model_id": "283bcc4148754be9aff075562a5e5e67",
       "version_major": 2,
       "version_minor": 0
      },
      "text/plain": [
       "HBox(children=(HTML(value='Executing'), FloatProgress(value=0.0, max=41.0), HTML(value='')))"
      ]
     },
     "metadata": {},
     "output_type": "display_data"
    },
    {
     "name": "stdout",
     "output_type": "stream",
     "text": [
      "\n",
      "Running notebook for ALL.FAMILY.CEREAL/OH_26983_VALUE_1\n"
     ]
    },
    {
     "data": {
      "application/vnd.jupyter.widget-view+json": {
       "model_id": "c67b7069ff294bad98c346005f933277",
       "version_major": 2,
       "version_minor": 0
      },
      "text/plain": [
       "HBox(children=(HTML(value='Executing'), FloatProgress(value=0.0, max=41.0), HTML(value='')))"
      ]
     },
     "metadata": {},
     "output_type": "display_data"
    },
    {
     "name": "stdout",
     "output_type": "stream",
     "text": [
      "\n",
      "Cannot read \n",
      "---------------------------------------------------------------------------\n",
      "Exception encountered at \"In [20]\":\n",
      "---------------------------------------------------------------------------\n",
      "AssertionError                            Traceback (most recent call last)\n",
      "<ipython-input-20-9b22ff7d12a1> in <module>\n",
      "      1 if df_CI_analysis.empty:\n",
      "----> 2     assert(False)\n",
      "      3     #%%javascript\n",
      "      4     #Jupyter.notebook.session.delete();\n",
      "      5     # Exit will kill the kernel. Let's see how Papermill handles that.\n",
      "\n",
      "AssertionError: \n",
      "\n",
      "Running notebook for ALL.FAMILY.CEREAL/OH_4259_VALUE_1\n"
     ]
    },
    {
     "data": {
      "application/vnd.jupyter.widget-view+json": {
       "model_id": "5bbdae1223e647ce92d827ffc62c3749",
       "version_major": 2,
       "version_minor": 0
      },
      "text/plain": [
       "HBox(children=(HTML(value='Executing'), FloatProgress(value=0.0, max=41.0), HTML(value='')))"
      ]
     },
     "metadata": {},
     "output_type": "display_data"
    },
    {
     "name": "stdout",
     "output_type": "stream",
     "text": [
      "\n",
      "Running notebook for ALL.FAMILY.CEREAL/TX_23327_MAINSTREAM_1\n"
     ]
    },
    {
     "data": {
      "application/vnd.jupyter.widget-view+json": {
       "model_id": "e95097ffd45c466ab0d10a320c3e4038",
       "version_major": 2,
       "version_minor": 0
      },
      "text/plain": [
       "HBox(children=(HTML(value='Executing'), FloatProgress(value=0.0, max=41.0), HTML(value='')))"
      ]
     },
     "metadata": {},
     "output_type": "display_data"
    },
    {
     "name": "stdout",
     "output_type": "stream",
     "text": [
      "\n",
      "Cannot read \n",
      "---------------------------------------------------------------------------\n",
      "Exception encountered at \"In [20]\":\n",
      "---------------------------------------------------------------------------\n",
      "AssertionError                            Traceback (most recent call last)\n",
      "<ipython-input-20-9b22ff7d12a1> in <module>\n",
      "      1 if df_CI_analysis.empty:\n",
      "----> 2     assert(False)\n",
      "      3     #%%javascript\n",
      "      4     #Jupyter.notebook.session.delete();\n",
      "      5     # Exit will kill the kernel. Let's see how Papermill handles that.\n",
      "\n",
      "AssertionError: \n",
      "\n",
      "Running notebook for ALL.FAMILY.CEREAL/OH_9825_MAINSTREAM_1\n"
     ]
    },
    {
     "data": {
      "application/vnd.jupyter.widget-view+json": {
       "model_id": "7447db44567b4d288005a769ff0ea542",
       "version_major": 2,
       "version_minor": 0
      },
      "text/plain": [
       "HBox(children=(HTML(value='Executing'), FloatProgress(value=0.0, max=41.0), HTML(value='')))"
      ]
     },
     "metadata": {},
     "output_type": "display_data"
    },
    {
     "name": "stdout",
     "output_type": "stream",
     "text": [
      "\n",
      "Running notebook for ALL.FAMILY.CEREAL/TX_21479_VALUE_1\n"
     ]
    },
    {
     "data": {
      "application/vnd.jupyter.widget-view+json": {
       "model_id": "3818ea416e404f808e69c37b70d6aa3c",
       "version_major": 2,
       "version_minor": 0
      },
      "text/plain": [
       "HBox(children=(HTML(value='Executing'), FloatProgress(value=0.0, max=41.0), HTML(value='')))"
      ]
     },
     "metadata": {},
     "output_type": "display_data"
    },
    {
     "name": "stdout",
     "output_type": "stream",
     "text": [
      "\n",
      "Cannot read \n",
      "---------------------------------------------------------------------------\n",
      "Exception encountered at \"In [20]\":\n",
      "---------------------------------------------------------------------------\n",
      "AssertionError                            Traceback (most recent call last)\n",
      "<ipython-input-20-9b22ff7d12a1> in <module>\n",
      "      1 if df_CI_analysis.empty:\n",
      "----> 2     assert(False)\n",
      "      3     #%%javascript\n",
      "      4     #Jupyter.notebook.session.delete();\n",
      "      5     # Exit will kill the kernel. Let's see how Papermill handles that.\n",
      "\n",
      "AssertionError: \n",
      "\n",
      "Running notebook for ALL.FAMILY.CEREAL/TX_613_MAINSTREAM_1\n"
     ]
    },
    {
     "data": {
      "application/vnd.jupyter.widget-view+json": {
       "model_id": "80d30441da2745cf9ba7e49da6253bd0",
       "version_major": 2,
       "version_minor": 0
      },
      "text/plain": [
       "HBox(children=(HTML(value='Executing'), FloatProgress(value=0.0, max=41.0), HTML(value='')))"
      ]
     },
     "metadata": {},
     "output_type": "display_data"
    },
    {
     "name": "stdout",
     "output_type": "stream",
     "text": [
      "\n",
      "Running notebook for KIDS.CEREAL/OH_2277_UPSCALE_1\n"
     ]
    },
    {
     "data": {
      "application/vnd.jupyter.widget-view+json": {
       "model_id": "798154534b2044df8e36762320e0e847",
       "version_major": 2,
       "version_minor": 0
      },
      "text/plain": [
       "HBox(children=(HTML(value='Executing'), FloatProgress(value=0.0, max=41.0), HTML(value='')))"
      ]
     },
     "metadata": {},
     "output_type": "display_data"
    },
    {
     "name": "stdout",
     "output_type": "stream",
     "text": [
      "\n",
      "Cannot read \n",
      "---------------------------------------------------------------------------\n",
      "Exception encountered at \"In [20]\":\n",
      "---------------------------------------------------------------------------\n",
      "AssertionError                            Traceback (most recent call last)\n",
      "<ipython-input-20-9b22ff7d12a1> in <module>\n",
      "      1 if df_CI_analysis.empty:\n",
      "----> 2     assert(False)\n",
      "      3     #%%javascript\n",
      "      4     #Jupyter.notebook.session.delete();\n",
      "      5     # Exit will kill the kernel. Let's see how Papermill handles that.\n",
      "\n",
      "AssertionError: \n",
      "\n",
      "Running notebook for KIDS.CEREAL/OH_24991_UPSCALE_1\n"
     ]
    },
    {
     "data": {
      "application/vnd.jupyter.widget-view+json": {
       "model_id": "0275141b4b92465abcfa5f60434b2e7d",
       "version_major": 2,
       "version_minor": 0
      },
      "text/plain": [
       "HBox(children=(HTML(value='Executing'), FloatProgress(value=0.0, max=41.0), HTML(value='')))"
      ]
     },
     "metadata": {},
     "output_type": "display_data"
    },
    {
     "name": "stdout",
     "output_type": "stream",
     "text": [
      "\n",
      "Running notebook for KIDS.CEREAL/OH_25027_MAINSTREAM_1\n"
     ]
    },
    {
     "data": {
      "application/vnd.jupyter.widget-view+json": {
       "model_id": "15a41a41d21d424c9e5921668daf7404",
       "version_major": 2,
       "version_minor": 0
      },
      "text/plain": [
       "HBox(children=(HTML(value='Executing'), FloatProgress(value=0.0, max=41.0), HTML(value='')))"
      ]
     },
     "metadata": {},
     "output_type": "display_data"
    },
    {
     "name": "stdout",
     "output_type": "stream",
     "text": [
      "\n",
      "Cannot read \n",
      "---------------------------------------------------------------------------\n",
      "Exception encountered at \"In [20]\":\n",
      "---------------------------------------------------------------------------\n",
      "AssertionError                            Traceback (most recent call last)\n",
      "<ipython-input-20-9b22ff7d12a1> in <module>\n",
      "      1 if df_CI_analysis.empty:\n",
      "----> 2     assert(False)\n",
      "      3     #%%javascript\n",
      "      4     #Jupyter.notebook.session.delete();\n",
      "      5     # Exit will kill the kernel. Let's see how Papermill handles that.\n",
      "\n",
      "AssertionError: \n",
      "\n",
      "Running notebook for KIDS.CEREAL/OH_21237_MAINSTREAM_1\n"
     ]
    },
    {
     "data": {
      "application/vnd.jupyter.widget-view+json": {
       "model_id": "ec9798a44400439fadd9b552d2d56060",
       "version_major": 2,
       "version_minor": 0
      },
      "text/plain": [
       "HBox(children=(HTML(value='Executing'), FloatProgress(value=0.0, max=41.0), HTML(value='')))"
      ]
     },
     "metadata": {},
     "output_type": "display_data"
    },
    {
     "name": "stdout",
     "output_type": "stream",
     "text": [
      "\n",
      "Running notebook for KIDS.CEREAL/TX_623_MAINSTREAM_1\n"
     ]
    },
    {
     "data": {
      "application/vnd.jupyter.widget-view+json": {
       "model_id": "4e251016169e4c99908a6d7530fb1ec1",
       "version_major": 2,
       "version_minor": 0
      },
      "text/plain": [
       "HBox(children=(HTML(value='Executing'), FloatProgress(value=0.0, max=41.0), HTML(value='')))"
      ]
     },
     "metadata": {},
     "output_type": "display_data"
    },
    {
     "name": "stdout",
     "output_type": "stream",
     "text": [
      "\n",
      "Cannot read \n",
      "---------------------------------------------------------------------------\n",
      "Exception encountered at \"In [20]\":\n",
      "---------------------------------------------------------------------------\n",
      "AssertionError                            Traceback (most recent call last)\n",
      "<ipython-input-20-9b22ff7d12a1> in <module>\n",
      "      1 if df_CI_analysis.empty:\n",
      "----> 2     assert(False)\n",
      "      3     #%%javascript\n",
      "      4     #Jupyter.notebook.session.delete();\n",
      "      5     # Exit will kill the kernel. Let's see how Papermill handles that.\n",
      "\n",
      "AssertionError: \n",
      "\n",
      "Running notebook for KIDS.CEREAL/TX_25233_VALUE_1\n"
     ]
    },
    {
     "data": {
      "application/vnd.jupyter.widget-view+json": {
       "model_id": "b91d35059d574179b1ac5fa4414530ec",
       "version_major": 2,
       "version_minor": 0
      },
      "text/plain": [
       "HBox(children=(HTML(value='Executing'), FloatProgress(value=0.0, max=41.0), HTML(value='')))"
      ]
     },
     "metadata": {},
     "output_type": "display_data"
    },
    {
     "name": "stdout",
     "output_type": "stream",
     "text": [
      "\n",
      "Cannot read \n",
      "---------------------------------------------------------------------------\n",
      "Exception encountered at \"In [20]\":\n",
      "---------------------------------------------------------------------------\n",
      "AssertionError                            Traceback (most recent call last)\n",
      "<ipython-input-20-9b22ff7d12a1> in <module>\n",
      "      1 if df_CI_analysis.empty:\n",
      "----> 2     assert(False)\n",
      "      3     #%%javascript\n",
      "      4     #Jupyter.notebook.session.delete();\n",
      "      5     # Exit will kill the kernel. Let's see how Papermill handles that.\n",
      "\n",
      "AssertionError: \n",
      "\n",
      "Running notebook for KIDS.CEREAL/OH_6179_UPSCALE_1\n"
     ]
    },
    {
     "data": {
      "application/vnd.jupyter.widget-view+json": {
       "model_id": "6a2dc34985db41bda17883eb3c6e8bbf",
       "version_major": 2,
       "version_minor": 0
      },
      "text/plain": [
       "HBox(children=(HTML(value='Executing'), FloatProgress(value=0.0, max=41.0), HTML(value='')))"
      ]
     },
     "metadata": {},
     "output_type": "display_data"
    },
    {
     "name": "stdout",
     "output_type": "stream",
     "text": [
      "\n",
      "Running notebook for KIDS.CEREAL/TX_25229_MAINSTREAM_1\n"
     ]
    },
    {
     "data": {
      "application/vnd.jupyter.widget-view+json": {
       "model_id": "8fd4c8927d4547ccae17e6452265e6a8",
       "version_major": 2,
       "version_minor": 0
      },
      "text/plain": [
       "HBox(children=(HTML(value='Executing'), FloatProgress(value=0.0, max=41.0), HTML(value='')))"
      ]
     },
     "metadata": {},
     "output_type": "display_data"
    },
    {
     "name": "stdout",
     "output_type": "stream",
     "text": [
      "\n",
      "Cannot read \n",
      "---------------------------------------------------------------------------\n",
      "Exception encountered at \"In [20]\":\n",
      "---------------------------------------------------------------------------\n",
      "AssertionError                            Traceback (most recent call last)\n",
      "<ipython-input-20-9b22ff7d12a1> in <module>\n",
      "      1 if df_CI_analysis.empty:\n",
      "----> 2     assert(False)\n",
      "      3     #%%javascript\n",
      "      4     #Jupyter.notebook.session.delete();\n",
      "      5     # Exit will kill the kernel. Let's see how Papermill handles that.\n",
      "\n",
      "AssertionError: \n",
      "\n",
      "Running notebook for KIDS.CEREAL/OH_21227_UPSCALE_1\n"
     ]
    },
    {
     "data": {
      "application/vnd.jupyter.widget-view+json": {
       "model_id": "04a48d18140c4be9a0150b7236ee65fd",
       "version_major": 2,
       "version_minor": 0
      },
      "text/plain": [
       "HBox(children=(HTML(value='Executing'), FloatProgress(value=0.0, max=41.0), HTML(value='')))"
      ]
     },
     "metadata": {},
     "output_type": "display_data"
    },
    {
     "name": "stdout",
     "output_type": "stream",
     "text": [
      "\n",
      "Cannot read \n",
      "---------------------------------------------------------------------------\n",
      "Exception encountered at \"In [20]\":\n",
      "---------------------------------------------------------------------------\n",
      "AssertionError                            Traceback (most recent call last)\n",
      "<ipython-input-20-9b22ff7d12a1> in <module>\n",
      "      1 if df_CI_analysis.empty:\n",
      "----> 2     assert(False)\n",
      "      3     #%%javascript\n",
      "      4     #Jupyter.notebook.session.delete();\n",
      "      5     # Exit will kill the kernel. Let's see how Papermill handles that.\n",
      "\n",
      "AssertionError: \n",
      "\n",
      "Running notebook for KIDS.CEREAL/OH_25021_VALUE_1\n"
     ]
    },
    {
     "data": {
      "application/vnd.jupyter.widget-view+json": {
       "model_id": "1cb6d67782db4793bb0409d9cbaf851c",
       "version_major": 2,
       "version_minor": 0
      },
      "text/plain": [
       "HBox(children=(HTML(value='Executing'), FloatProgress(value=0.0, max=41.0), HTML(value='')))"
      ]
     },
     "metadata": {},
     "output_type": "display_data"
    },
    {
     "name": "stdout",
     "output_type": "stream",
     "text": [
      "\n",
      "Cannot read \n",
      "---------------------------------------------------------------------------\n",
      "Exception encountered at \"In [20]\":\n",
      "---------------------------------------------------------------------------\n",
      "AssertionError                            Traceback (most recent call last)\n",
      "<ipython-input-20-9b22ff7d12a1> in <module>\n",
      "      1 if df_CI_analysis.empty:\n",
      "----> 2     assert(False)\n",
      "      3     #%%javascript\n",
      "      4     #Jupyter.notebook.session.delete();\n",
      "      5     # Exit will kill the kernel. Let's see how Papermill handles that.\n",
      "\n",
      "AssertionError: \n",
      "\n",
      "Running notebook for KIDS.CEREAL/TX_17615_MAINSTREAM_1\n"
     ]
    },
    {
     "data": {
      "application/vnd.jupyter.widget-view+json": {
       "model_id": "41f48bee6fd648dca688db72fbe21c9b",
       "version_major": 2,
       "version_minor": 0
      },
      "text/plain": [
       "HBox(children=(HTML(value='Executing'), FloatProgress(value=0.0, max=41.0), HTML(value='')))"
      ]
     },
     "metadata": {},
     "output_type": "display_data"
    },
    {
     "name": "stdout",
     "output_type": "stream",
     "text": [
      "\n",
      "Cannot read \n",
      "---------------------------------------------------------------------------\n",
      "Exception encountered at \"In [20]\":\n",
      "---------------------------------------------------------------------------\n",
      "AssertionError                            Traceback (most recent call last)\n",
      "<ipython-input-20-9b22ff7d12a1> in <module>\n",
      "      1 if df_CI_analysis.empty:\n",
      "----> 2     assert(False)\n",
      "      3     #%%javascript\n",
      "      4     #Jupyter.notebook.session.delete();\n",
      "      5     # Exit will kill the kernel. Let's see how Papermill handles that.\n",
      "\n",
      "AssertionError: \n",
      "\n",
      "Running notebook for KIDS.CEREAL/TX_2513_UPSCALE_1\n"
     ]
    },
    {
     "data": {
      "application/vnd.jupyter.widget-view+json": {
       "model_id": "8b570f5266204d1aad4e7ea2d4120059",
       "version_major": 2,
       "version_minor": 0
      },
      "text/plain": [
       "HBox(children=(HTML(value='Executing'), FloatProgress(value=0.0, max=41.0), HTML(value='')))"
      ]
     },
     "metadata": {},
     "output_type": "display_data"
    },
    {
     "name": "stdout",
     "output_type": "stream",
     "text": [
      "\n",
      "Cannot read \n",
      "---------------------------------------------------------------------------\n",
      "Exception encountered at \"In [20]\":\n",
      "---------------------------------------------------------------------------\n",
      "AssertionError                            Traceback (most recent call last)\n",
      "<ipython-input-20-9b22ff7d12a1> in <module>\n",
      "      1 if df_CI_analysis.empty:\n",
      "----> 2     assert(False)\n",
      "      3     #%%javascript\n",
      "      4     #Jupyter.notebook.session.delete();\n",
      "      5     # Exit will kill the kernel. Let's see how Papermill handles that.\n",
      "\n",
      "AssertionError: \n",
      "\n",
      "Running notebook for KIDS.CEREAL/OH_2281_UPSCALE_1\n"
     ]
    },
    {
     "data": {
      "application/vnd.jupyter.widget-view+json": {
       "model_id": "acfa53906ef14b9382db8e96a6bf5e59",
       "version_major": 2,
       "version_minor": 0
      },
      "text/plain": [
       "HBox(children=(HTML(value='Executing'), FloatProgress(value=0.0, max=41.0), HTML(value='')))"
      ]
     },
     "metadata": {},
     "output_type": "display_data"
    },
    {
     "name": "stdout",
     "output_type": "stream",
     "text": [
      "\n",
      "Running notebook for KIDS.CEREAL/KY_19265_MAINSTREAM_1\n"
     ]
    },
    {
     "data": {
      "application/vnd.jupyter.widget-view+json": {
       "model_id": "934b7f4d92b14d0d8392c0b58d551e41",
       "version_major": 2,
       "version_minor": 0
      },
      "text/plain": [
       "HBox(children=(HTML(value='Executing'), FloatProgress(value=0.0, max=41.0), HTML(value='')))"
      ]
     },
     "metadata": {},
     "output_type": "display_data"
    },
    {
     "name": "stdout",
     "output_type": "stream",
     "text": [
      "\n",
      "Cannot read \n",
      "---------------------------------------------------------------------------\n",
      "Exception encountered at \"In [20]\":\n",
      "---------------------------------------------------------------------------\n",
      "AssertionError                            Traceback (most recent call last)\n",
      "<ipython-input-20-9b22ff7d12a1> in <module>\n",
      "      1 if df_CI_analysis.empty:\n",
      "----> 2     assert(False)\n",
      "      3     #%%javascript\n",
      "      4     #Jupyter.notebook.session.delete();\n",
      "      5     # Exit will kill the kernel. Let's see how Papermill handles that.\n",
      "\n",
      "AssertionError: \n",
      "\n",
      "Running notebook for KIDS.CEREAL/OH_26983_VALUE_1\n"
     ]
    },
    {
     "data": {
      "application/vnd.jupyter.widget-view+json": {
       "model_id": "e1344113479a4e72bc2cf41d79e3629b",
       "version_major": 2,
       "version_minor": 0
      },
      "text/plain": [
       "HBox(children=(HTML(value='Executing'), FloatProgress(value=0.0, max=41.0), HTML(value='')))"
      ]
     },
     "metadata": {},
     "output_type": "display_data"
    },
    {
     "name": "stdout",
     "output_type": "stream",
     "text": [
      "\n",
      "Cannot read \n",
      "---------------------------------------------------------------------------\n",
      "Exception encountered at \"In [20]\":\n",
      "---------------------------------------------------------------------------\n",
      "AssertionError                            Traceback (most recent call last)\n",
      "<ipython-input-20-9b22ff7d12a1> in <module>\n",
      "      1 if df_CI_analysis.empty:\n",
      "----> 2     assert(False)\n",
      "      3     #%%javascript\n",
      "      4     #Jupyter.notebook.session.delete();\n",
      "      5     # Exit will kill the kernel. Let's see how Papermill handles that.\n",
      "\n",
      "AssertionError: \n",
      "\n",
      "Running notebook for KIDS.CEREAL/OH_4259_VALUE_1\n"
     ]
    },
    {
     "data": {
      "application/vnd.jupyter.widget-view+json": {
       "model_id": "1e5eafd3dcdf492bb6b09a97e83d4553",
       "version_major": 2,
       "version_minor": 0
      },
      "text/plain": [
       "HBox(children=(HTML(value='Executing'), FloatProgress(value=0.0, max=41.0), HTML(value='')))"
      ]
     },
     "metadata": {},
     "output_type": "display_data"
    },
    {
     "name": "stdout",
     "output_type": "stream",
     "text": [
      "\n",
      "Running notebook for KIDS.CEREAL/TX_23327_MAINSTREAM_1\n"
     ]
    },
    {
     "data": {
      "application/vnd.jupyter.widget-view+json": {
       "model_id": "1293e4ab6f7c4218a8c51f5c3e3616c6",
       "version_major": 2,
       "version_minor": 0
      },
      "text/plain": [
       "HBox(children=(HTML(value='Executing'), FloatProgress(value=0.0, max=41.0), HTML(value='')))"
      ]
     },
     "metadata": {},
     "output_type": "display_data"
    },
    {
     "name": "stdout",
     "output_type": "stream",
     "text": [
      "\n",
      "Cannot read \n",
      "---------------------------------------------------------------------------\n",
      "Exception encountered at \"In [20]\":\n",
      "---------------------------------------------------------------------------\n",
      "AssertionError                            Traceback (most recent call last)\n",
      "<ipython-input-20-9b22ff7d12a1> in <module>\n",
      "      1 if df_CI_analysis.empty:\n",
      "----> 2     assert(False)\n",
      "      3     #%%javascript\n",
      "      4     #Jupyter.notebook.session.delete();\n",
      "      5     # Exit will kill the kernel. Let's see how Papermill handles that.\n",
      "\n",
      "AssertionError: \n",
      "\n",
      "Running notebook for KIDS.CEREAL/OH_9825_MAINSTREAM_1\n"
     ]
    },
    {
     "data": {
      "application/vnd.jupyter.widget-view+json": {
       "model_id": "f59159379ee34b929873151145d82d04",
       "version_major": 2,
       "version_minor": 0
      },
      "text/plain": [
       "HBox(children=(HTML(value='Executing'), FloatProgress(value=0.0, max=41.0), HTML(value='')))"
      ]
     },
     "metadata": {},
     "output_type": "display_data"
    },
    {
     "name": "stdout",
     "output_type": "stream",
     "text": [
      "\n",
      "Cannot read \n",
      "---------------------------------------------------------------------------\n",
      "Exception encountered at \"In [20]\":\n",
      "---------------------------------------------------------------------------\n",
      "AssertionError                            Traceback (most recent call last)\n",
      "<ipython-input-20-9b22ff7d12a1> in <module>\n",
      "      1 if df_CI_analysis.empty:\n",
      "----> 2     assert(False)\n",
      "      3     #%%javascript\n",
      "      4     #Jupyter.notebook.session.delete();\n",
      "      5     # Exit will kill the kernel. Let's see how Papermill handles that.\n",
      "\n",
      "AssertionError: \n",
      "\n",
      "Running notebook for KIDS.CEREAL/TX_21479_VALUE_1\n"
     ]
    },
    {
     "data": {
      "application/vnd.jupyter.widget-view+json": {
       "model_id": "dc78bbf9057e47a7a7b08118bb1383b0",
       "version_major": 2,
       "version_minor": 0
      },
      "text/plain": [
       "HBox(children=(HTML(value='Executing'), FloatProgress(value=0.0, max=41.0), HTML(value='')))"
      ]
     },
     "metadata": {},
     "output_type": "display_data"
    },
    {
     "name": "stdout",
     "output_type": "stream",
     "text": [
      "\n",
      "Cannot read \n",
      "---------------------------------------------------------------------------\n",
      "Exception encountered at \"In [20]\":\n",
      "---------------------------------------------------------------------------\n",
      "AssertionError                            Traceback (most recent call last)\n",
      "<ipython-input-20-9b22ff7d12a1> in <module>\n",
      "      1 if df_CI_analysis.empty:\n",
      "----> 2     assert(False)\n",
      "      3     #%%javascript\n",
      "      4     #Jupyter.notebook.session.delete();\n",
      "      5     # Exit will kill the kernel. Let's see how Papermill handles that.\n",
      "\n",
      "AssertionError: \n",
      "\n",
      "Running notebook for KIDS.CEREAL/TX_613_MAINSTREAM_1\n"
     ]
    },
    {
     "data": {
      "application/vnd.jupyter.widget-view+json": {
       "model_id": "d6aebd94a53941e0bbd96a3d3d754c42",
       "version_major": 2,
       "version_minor": 0
      },
      "text/plain": [
       "HBox(children=(HTML(value='Executing'), FloatProgress(value=0.0, max=41.0), HTML(value='')))"
      ]
     },
     "metadata": {},
     "output_type": "display_data"
    },
    {
     "name": "stdout",
     "output_type": "stream",
     "text": [
      "\n",
      "Cannot read \n",
      "---------------------------------------------------------------------------\n",
      "Exception encountered at \"In [20]\":\n",
      "---------------------------------------------------------------------------\n",
      "AssertionError                            Traceback (most recent call last)\n",
      "<ipython-input-20-9b22ff7d12a1> in <module>\n",
      "      1 if df_CI_analysis.empty:\n",
      "----> 2     assert(False)\n",
      "      3     #%%javascript\n",
      "      4     #Jupyter.notebook.session.delete();\n",
      "      5     # Exit will kill the kernel. Let's see how Papermill handles that.\n",
      "\n",
      "AssertionError: \n",
      "\n",
      "Running notebook for PIZZA.PREMIUM/OH_2277_UPSCALE_1\n"
     ]
    },
    {
     "data": {
      "application/vnd.jupyter.widget-view+json": {
       "model_id": "cddf686eab0a4319bfdba9ad18ee892a",
       "version_major": 2,
       "version_minor": 0
      },
      "text/plain": [
       "HBox(children=(HTML(value='Executing'), FloatProgress(value=0.0, max=41.0), HTML(value='')))"
      ]
     },
     "metadata": {},
     "output_type": "display_data"
    },
    {
     "name": "stdout",
     "output_type": "stream",
     "text": [
      "\n",
      "Cannot read \n",
      "---------------------------------------------------------------------------\n",
      "Exception encountered at \"In [20]\":\n",
      "---------------------------------------------------------------------------\n",
      "AssertionError                            Traceback (most recent call last)\n",
      "<ipython-input-20-9b22ff7d12a1> in <module>\n",
      "      1 if df_CI_analysis.empty:\n",
      "----> 2     assert(False)\n",
      "      3     #%%javascript\n",
      "      4     #Jupyter.notebook.session.delete();\n",
      "      5     # Exit will kill the kernel. Let's see how Papermill handles that.\n",
      "\n",
      "AssertionError: \n",
      "\n",
      "Running notebook for PIZZA.PREMIUM/OH_24991_UPSCALE_1\n"
     ]
    },
    {
     "data": {
      "application/vnd.jupyter.widget-view+json": {
       "model_id": "ad930c554c274f7482dd4df2e354e542",
       "version_major": 2,
       "version_minor": 0
      },
      "text/plain": [
       "HBox(children=(HTML(value='Executing'), FloatProgress(value=0.0, max=41.0), HTML(value='')))"
      ]
     },
     "metadata": {},
     "output_type": "display_data"
    },
    {
     "name": "stdout",
     "output_type": "stream",
     "text": [
      "\n",
      "Running notebook for PIZZA.PREMIUM/OH_25027_MAINSTREAM_1\n"
     ]
    },
    {
     "data": {
      "application/vnd.jupyter.widget-view+json": {
       "model_id": "a9f174f10b494d3593a3455ce12f0e9d",
       "version_major": 2,
       "version_minor": 0
      },
      "text/plain": [
       "HBox(children=(HTML(value='Executing'), FloatProgress(value=0.0, max=41.0), HTML(value='')))"
      ]
     },
     "metadata": {},
     "output_type": "display_data"
    },
    {
     "name": "stdout",
     "output_type": "stream",
     "text": [
      "\n",
      "Running notebook for PIZZA.PREMIUM/OH_21237_MAINSTREAM_1\n"
     ]
    },
    {
     "data": {
      "application/vnd.jupyter.widget-view+json": {
       "model_id": "6cefab59e31748cba632947105a615a5",
       "version_major": 2,
       "version_minor": 0
      },
      "text/plain": [
       "HBox(children=(HTML(value='Executing'), FloatProgress(value=0.0, max=41.0), HTML(value='')))"
      ]
     },
     "metadata": {},
     "output_type": "display_data"
    },
    {
     "name": "stdout",
     "output_type": "stream",
     "text": [
      "\n",
      "Cannot read \n",
      "---------------------------------------------------------------------------\n",
      "Exception encountered at \"In [20]\":\n",
      "---------------------------------------------------------------------------\n",
      "AssertionError                            Traceback (most recent call last)\n",
      "<ipython-input-20-9b22ff7d12a1> in <module>\n",
      "      1 if df_CI_analysis.empty:\n",
      "----> 2     assert(False)\n",
      "      3     #%%javascript\n",
      "      4     #Jupyter.notebook.session.delete();\n",
      "      5     # Exit will kill the kernel. Let's see how Papermill handles that.\n",
      "\n",
      "AssertionError: \n",
      "\n",
      "Running notebook for PIZZA.PREMIUM/TX_623_MAINSTREAM_1\n"
     ]
    },
    {
     "data": {
      "application/vnd.jupyter.widget-view+json": {
       "model_id": "868c39748ac94e71b233ce6804703c01",
       "version_major": 2,
       "version_minor": 0
      },
      "text/plain": [
       "HBox(children=(HTML(value='Executing'), FloatProgress(value=0.0, max=41.0), HTML(value='')))"
      ]
     },
     "metadata": {},
     "output_type": "display_data"
    },
    {
     "name": "stdout",
     "output_type": "stream",
     "text": [
      "\n",
      "Cannot read \n",
      "---------------------------------------------------------------------------\n",
      "Exception encountered at \"In [20]\":\n",
      "---------------------------------------------------------------------------\n",
      "AssertionError                            Traceback (most recent call last)\n",
      "<ipython-input-20-9b22ff7d12a1> in <module>\n",
      "      1 if df_CI_analysis.empty:\n",
      "----> 2     assert(False)\n",
      "      3     #%%javascript\n",
      "      4     #Jupyter.notebook.session.delete();\n",
      "      5     # Exit will kill the kernel. Let's see how Papermill handles that.\n",
      "\n",
      "AssertionError: \n",
      "\n",
      "Running notebook for PIZZA.PREMIUM/TX_25233_VALUE_1\n"
     ]
    },
    {
     "data": {
      "application/vnd.jupyter.widget-view+json": {
       "model_id": "a75ac5aef9804ce58854b51a10d375ed",
       "version_major": 2,
       "version_minor": 0
      },
      "text/plain": [
       "HBox(children=(HTML(value='Executing'), FloatProgress(value=0.0, max=41.0), HTML(value='')))"
      ]
     },
     "metadata": {},
     "output_type": "display_data"
    },
    {
     "name": "stdout",
     "output_type": "stream",
     "text": [
      "\n",
      "Cannot read \n",
      "---------------------------------------------------------------------------\n",
      "Exception encountered at \"In [20]\":\n",
      "---------------------------------------------------------------------------\n",
      "AssertionError                            Traceback (most recent call last)\n",
      "<ipython-input-20-9b22ff7d12a1> in <module>\n",
      "      1 if df_CI_analysis.empty:\n",
      "----> 2     assert(False)\n",
      "      3     #%%javascript\n",
      "      4     #Jupyter.notebook.session.delete();\n",
      "      5     # Exit will kill the kernel. Let's see how Papermill handles that.\n",
      "\n",
      "AssertionError: \n",
      "\n",
      "Running notebook for PIZZA.PREMIUM/OH_6179_UPSCALE_1\n"
     ]
    },
    {
     "data": {
      "application/vnd.jupyter.widget-view+json": {
       "model_id": "f6574dfc2396455e90553aff0efc409a",
       "version_major": 2,
       "version_minor": 0
      },
      "text/plain": [
       "HBox(children=(HTML(value='Executing'), FloatProgress(value=0.0, max=41.0), HTML(value='')))"
      ]
     },
     "metadata": {},
     "output_type": "display_data"
    },
    {
     "name": "stdout",
     "output_type": "stream",
     "text": [
      "\n",
      "Cannot read \n",
      "---------------------------------------------------------------------------\n",
      "Exception encountered at \"In [20]\":\n",
      "---------------------------------------------------------------------------\n",
      "AssertionError                            Traceback (most recent call last)\n",
      "<ipython-input-20-9b22ff7d12a1> in <module>\n",
      "      1 if df_CI_analysis.empty:\n",
      "----> 2     assert(False)\n",
      "      3     #%%javascript\n",
      "      4     #Jupyter.notebook.session.delete();\n",
      "      5     # Exit will kill the kernel. Let's see how Papermill handles that.\n",
      "\n",
      "AssertionError: \n",
      "\n",
      "Running notebook for PIZZA.PREMIUM/TX_25229_MAINSTREAM_1\n"
     ]
    },
    {
     "data": {
      "application/vnd.jupyter.widget-view+json": {
       "model_id": "d94c5275b39943cfa6763db0005fe8af",
       "version_major": 2,
       "version_minor": 0
      },
      "text/plain": [
       "HBox(children=(HTML(value='Executing'), FloatProgress(value=0.0, max=41.0), HTML(value='')))"
      ]
     },
     "metadata": {},
     "output_type": "display_data"
    },
    {
     "name": "stdout",
     "output_type": "stream",
     "text": [
      "\n",
      "Cannot read \n",
      "---------------------------------------------------------------------------\n",
      "Exception encountered at \"In [20]\":\n",
      "---------------------------------------------------------------------------\n",
      "AssertionError                            Traceback (most recent call last)\n",
      "<ipython-input-20-9b22ff7d12a1> in <module>\n",
      "      1 if df_CI_analysis.empty:\n",
      "----> 2     assert(False)\n",
      "      3     #%%javascript\n",
      "      4     #Jupyter.notebook.session.delete();\n",
      "      5     # Exit will kill the kernel. Let's see how Papermill handles that.\n",
      "\n",
      "AssertionError: \n",
      "\n",
      "Running notebook for PIZZA.PREMIUM/OH_21227_UPSCALE_1\n"
     ]
    },
    {
     "data": {
      "application/vnd.jupyter.widget-view+json": {
       "model_id": "f62bd5b19af74c9ba8acfab180bd5fed",
       "version_major": 2,
       "version_minor": 0
      },
      "text/plain": [
       "HBox(children=(HTML(value='Executing'), FloatProgress(value=0.0, max=41.0), HTML(value='')))"
      ]
     },
     "metadata": {},
     "output_type": "display_data"
    },
    {
     "name": "stdout",
     "output_type": "stream",
     "text": [
      "\n",
      "Running notebook for PIZZA.PREMIUM/OH_25021_VALUE_1\n"
     ]
    },
    {
     "data": {
      "application/vnd.jupyter.widget-view+json": {
       "model_id": "ff654dfcdcad4161b7d5997eb85d6b3f",
       "version_major": 2,
       "version_minor": 0
      },
      "text/plain": [
       "HBox(children=(HTML(value='Executing'), FloatProgress(value=0.0, max=41.0), HTML(value='')))"
      ]
     },
     "metadata": {},
     "output_type": "display_data"
    },
    {
     "name": "stdout",
     "output_type": "stream",
     "text": [
      "\n",
      "Cannot read \n",
      "---------------------------------------------------------------------------\n",
      "Exception encountered at \"In [20]\":\n",
      "---------------------------------------------------------------------------\n",
      "AssertionError                            Traceback (most recent call last)\n",
      "<ipython-input-20-9b22ff7d12a1> in <module>\n",
      "      1 if df_CI_analysis.empty:\n",
      "----> 2     assert(False)\n",
      "      3     #%%javascript\n",
      "      4     #Jupyter.notebook.session.delete();\n",
      "      5     # Exit will kill the kernel. Let's see how Papermill handles that.\n",
      "\n",
      "AssertionError: \n",
      "\n",
      "Running notebook for PIZZA.PREMIUM/TX_17615_MAINSTREAM_1\n"
     ]
    },
    {
     "data": {
      "application/vnd.jupyter.widget-view+json": {
       "model_id": "63b6e97ace0f46268ba76d9c2600373f",
       "version_major": 2,
       "version_minor": 0
      },
      "text/plain": [
       "HBox(children=(HTML(value='Executing'), FloatProgress(value=0.0, max=41.0), HTML(value='')))"
      ]
     },
     "metadata": {},
     "output_type": "display_data"
    },
    {
     "name": "stdout",
     "output_type": "stream",
     "text": [
      "\n",
      "Cannot read \n",
      "---------------------------------------------------------------------------\n",
      "Exception encountered at \"In [20]\":\n",
      "---------------------------------------------------------------------------\n",
      "AssertionError                            Traceback (most recent call last)\n",
      "<ipython-input-20-9b22ff7d12a1> in <module>\n",
      "      1 if df_CI_analysis.empty:\n",
      "----> 2     assert(False)\n",
      "      3     #%%javascript\n",
      "      4     #Jupyter.notebook.session.delete();\n",
      "      5     # Exit will kill the kernel. Let's see how Papermill handles that.\n",
      "\n",
      "AssertionError: \n",
      "\n",
      "Running notebook for PIZZA.PREMIUM/TX_2513_UPSCALE_1\n"
     ]
    },
    {
     "data": {
      "application/vnd.jupyter.widget-view+json": {
       "model_id": "a3ed41d0198a4f45aa6039c6aa0fd1fa",
       "version_major": 2,
       "version_minor": 0
      },
      "text/plain": [
       "HBox(children=(HTML(value='Executing'), FloatProgress(value=0.0, max=41.0), HTML(value='')))"
      ]
     },
     "metadata": {},
     "output_type": "display_data"
    },
    {
     "name": "stdout",
     "output_type": "stream",
     "text": [
      "\n",
      "Cannot read \n",
      "---------------------------------------------------------------------------\n",
      "Exception encountered at \"In [20]\":\n",
      "---------------------------------------------------------------------------\n",
      "AssertionError                            Traceback (most recent call last)\n",
      "<ipython-input-20-9b22ff7d12a1> in <module>\n",
      "      1 if df_CI_analysis.empty:\n",
      "----> 2     assert(False)\n",
      "      3     #%%javascript\n",
      "      4     #Jupyter.notebook.session.delete();\n",
      "      5     # Exit will kill the kernel. Let's see how Papermill handles that.\n",
      "\n",
      "AssertionError: \n",
      "\n",
      "Running notebook for PIZZA.PREMIUM/OH_2281_UPSCALE_1\n"
     ]
    },
    {
     "data": {
      "application/vnd.jupyter.widget-view+json": {
       "model_id": "2d2826b29ae34bff9d7c77bf8c6a3046",
       "version_major": 2,
       "version_minor": 0
      },
      "text/plain": [
       "HBox(children=(HTML(value='Executing'), FloatProgress(value=0.0, max=41.0), HTML(value='')))"
      ]
     },
     "metadata": {},
     "output_type": "display_data"
    },
    {
     "name": "stdout",
     "output_type": "stream",
     "text": [
      "\n",
      "Cannot read \n",
      "---------------------------------------------------------------------------\n",
      "Exception encountered at \"In [20]\":\n",
      "---------------------------------------------------------------------------\n",
      "AssertionError                            Traceback (most recent call last)\n",
      "<ipython-input-20-9b22ff7d12a1> in <module>\n",
      "      1 if df_CI_analysis.empty:\n",
      "----> 2     assert(False)\n",
      "      3     #%%javascript\n",
      "      4     #Jupyter.notebook.session.delete();\n",
      "      5     # Exit will kill the kernel. Let's see how Papermill handles that.\n",
      "\n",
      "AssertionError: \n",
      "\n",
      "Running notebook for PIZZA.PREMIUM/KY_19265_MAINSTREAM_1\n"
     ]
    },
    {
     "data": {
      "application/vnd.jupyter.widget-view+json": {
       "model_id": "4ca5340b51b14b3297e1d0a7581e9636",
       "version_major": 2,
       "version_minor": 0
      },
      "text/plain": [
       "HBox(children=(HTML(value='Executing'), FloatProgress(value=0.0, max=41.0), HTML(value='')))"
      ]
     },
     "metadata": {},
     "output_type": "display_data"
    },
    {
     "name": "stdout",
     "output_type": "stream",
     "text": [
      "\n",
      "Running notebook for PIZZA.PREMIUM/OH_26983_VALUE_1\n"
     ]
    },
    {
     "data": {
      "application/vnd.jupyter.widget-view+json": {
       "model_id": "1d5203d18f7649ee84b2e19fa50f55d1",
       "version_major": 2,
       "version_minor": 0
      },
      "text/plain": [
       "HBox(children=(HTML(value='Executing'), FloatProgress(value=0.0, max=41.0), HTML(value='')))"
      ]
     },
     "metadata": {},
     "output_type": "display_data"
    },
    {
     "name": "stdout",
     "output_type": "stream",
     "text": [
      "\n",
      "Cannot read \n",
      "---------------------------------------------------------------------------\n",
      "Exception encountered at \"In [20]\":\n",
      "---------------------------------------------------------------------------\n",
      "AssertionError                            Traceback (most recent call last)\n",
      "<ipython-input-20-9b22ff7d12a1> in <module>\n",
      "      1 if df_CI_analysis.empty:\n",
      "----> 2     assert(False)\n",
      "      3     #%%javascript\n",
      "      4     #Jupyter.notebook.session.delete();\n",
      "      5     # Exit will kill the kernel. Let's see how Papermill handles that.\n",
      "\n",
      "AssertionError: \n",
      "\n",
      "Running notebook for PIZZA.PREMIUM/OH_4259_VALUE_1\n"
     ]
    },
    {
     "data": {
      "application/vnd.jupyter.widget-view+json": {
       "model_id": "dd244b1101614bea851efe77ffabe2f0",
       "version_major": 2,
       "version_minor": 0
      },
      "text/plain": [
       "HBox(children=(HTML(value='Executing'), FloatProgress(value=0.0, max=41.0), HTML(value='')))"
      ]
     },
     "metadata": {},
     "output_type": "display_data"
    },
    {
     "name": "stdout",
     "output_type": "stream",
     "text": [
      "\n",
      "Cannot read \n",
      "---------------------------------------------------------------------------\n",
      "Exception encountered at \"In [20]\":\n",
      "---------------------------------------------------------------------------\n",
      "AssertionError                            Traceback (most recent call last)\n",
      "<ipython-input-20-9b22ff7d12a1> in <module>\n",
      "      1 if df_CI_analysis.empty:\n",
      "----> 2     assert(False)\n",
      "      3     #%%javascript\n",
      "      4     #Jupyter.notebook.session.delete();\n",
      "      5     # Exit will kill the kernel. Let's see how Papermill handles that.\n",
      "\n",
      "AssertionError: \n",
      "\n",
      "Running notebook for PIZZA.PREMIUM/TX_23327_MAINSTREAM_1\n"
     ]
    },
    {
     "data": {
      "application/vnd.jupyter.widget-view+json": {
       "model_id": "4da1a551cc7d4d7bb2098bdcdfa6680d",
       "version_major": 2,
       "version_minor": 0
      },
      "text/plain": [
       "HBox(children=(HTML(value='Executing'), FloatProgress(value=0.0, max=41.0), HTML(value='')))"
      ]
     },
     "metadata": {},
     "output_type": "display_data"
    },
    {
     "name": "stdout",
     "output_type": "stream",
     "text": [
      "\n",
      "Cannot read \n",
      "---------------------------------------------------------------------------\n",
      "Exception encountered at \"In [20]\":\n",
      "---------------------------------------------------------------------------\n",
      "AssertionError                            Traceback (most recent call last)\n",
      "<ipython-input-20-9b22ff7d12a1> in <module>\n",
      "      1 if df_CI_analysis.empty:\n",
      "----> 2     assert(False)\n",
      "      3     #%%javascript\n",
      "      4     #Jupyter.notebook.session.delete();\n",
      "      5     # Exit will kill the kernel. Let's see how Papermill handles that.\n",
      "\n",
      "AssertionError: \n",
      "\n",
      "Running notebook for PIZZA.PREMIUM/OH_9825_MAINSTREAM_1\n"
     ]
    },
    {
     "data": {
      "application/vnd.jupyter.widget-view+json": {
       "model_id": "c0d60f5db8f94e248400e7a51631dce4",
       "version_major": 2,
       "version_minor": 0
      },
      "text/plain": [
       "HBox(children=(HTML(value='Executing'), FloatProgress(value=0.0, max=41.0), HTML(value='')))"
      ]
     },
     "metadata": {},
     "output_type": "display_data"
    },
    {
     "name": "stdout",
     "output_type": "stream",
     "text": [
      "\n",
      "Running notebook for PIZZA.PREMIUM/TX_21479_VALUE_1\n"
     ]
    },
    {
     "data": {
      "application/vnd.jupyter.widget-view+json": {
       "model_id": "d4df754321e247b1858751bd1412ec45",
       "version_major": 2,
       "version_minor": 0
      },
      "text/plain": [
       "HBox(children=(HTML(value='Executing'), FloatProgress(value=0.0, max=41.0), HTML(value='')))"
      ]
     },
     "metadata": {},
     "output_type": "display_data"
    },
    {
     "name": "stdout",
     "output_type": "stream",
     "text": [
      "\n",
      "Cannot read \n",
      "---------------------------------------------------------------------------\n",
      "Exception encountered at \"In [20]\":\n",
      "---------------------------------------------------------------------------\n",
      "AssertionError                            Traceback (most recent call last)\n",
      "<ipython-input-20-9b22ff7d12a1> in <module>\n",
      "      1 if df_CI_analysis.empty:\n",
      "----> 2     assert(False)\n",
      "      3     #%%javascript\n",
      "      4     #Jupyter.notebook.session.delete();\n",
      "      5     # Exit will kill the kernel. Let's see how Papermill handles that.\n",
      "\n",
      "AssertionError: \n",
      "\n",
      "Running notebook for PIZZA.PREMIUM/TX_613_MAINSTREAM_1\n"
     ]
    },
    {
     "data": {
      "application/vnd.jupyter.widget-view+json": {
       "model_id": "7c3cee362f4a41ff8ae7746f96721c02",
       "version_major": 2,
       "version_minor": 0
      },
      "text/plain": [
       "HBox(children=(HTML(value='Executing'), FloatProgress(value=0.0, max=41.0), HTML(value='')))"
      ]
     },
     "metadata": {},
     "output_type": "display_data"
    },
    {
     "name": "stdout",
     "output_type": "stream",
     "text": [
      "\n",
      "Cannot read \n",
      "---------------------------------------------------------------------------\n",
      "Exception encountered at \"In [20]\":\n",
      "---------------------------------------------------------------------------\n",
      "AssertionError                            Traceback (most recent call last)\n",
      "<ipython-input-20-9b22ff7d12a1> in <module>\n",
      "      1 if df_CI_analysis.empty:\n",
      "----> 2     assert(False)\n",
      "      3     #%%javascript\n",
      "      4     #Jupyter.notebook.session.delete();\n",
      "      5     # Exit will kill the kernel. Let's see how Papermill handles that.\n",
      "\n",
      "AssertionError: \n",
      "\n",
      "Running notebook for MOUTHWASHES.(ANTISEPTIC)/OH_2277_UPSCALE_1\n"
     ]
    },
    {
     "data": {
      "application/vnd.jupyter.widget-view+json": {
       "model_id": "605282ecaa284982b58b168b8f23a5d5",
       "version_major": 2,
       "version_minor": 0
      },
      "text/plain": [
       "HBox(children=(HTML(value='Executing'), FloatProgress(value=0.0, max=41.0), HTML(value='')))"
      ]
     },
     "metadata": {},
     "output_type": "display_data"
    },
    {
     "name": "stdout",
     "output_type": "stream",
     "text": [
      "\n",
      "Cannot read \n",
      "---------------------------------------------------------------------------\n",
      "Exception encountered at \"In [20]\":\n",
      "---------------------------------------------------------------------------\n",
      "AssertionError                            Traceback (most recent call last)\n",
      "<ipython-input-20-9b22ff7d12a1> in <module>\n",
      "      1 if df_CI_analysis.empty:\n",
      "----> 2     assert(False)\n",
      "      3     #%%javascript\n",
      "      4     #Jupyter.notebook.session.delete();\n",
      "      5     # Exit will kill the kernel. Let's see how Papermill handles that.\n",
      "\n",
      "AssertionError: \n",
      "\n",
      "Running notebook for MOUTHWASHES.(ANTISEPTIC)/OH_24991_UPSCALE_1\n"
     ]
    },
    {
     "data": {
      "application/vnd.jupyter.widget-view+json": {
       "model_id": "ec5a7798c0c2476e9cf0d1a7f1eed5ce",
       "version_major": 2,
       "version_minor": 0
      },
      "text/plain": [
       "HBox(children=(HTML(value='Executing'), FloatProgress(value=0.0, max=41.0), HTML(value='')))"
      ]
     },
     "metadata": {},
     "output_type": "display_data"
    },
    {
     "name": "stdout",
     "output_type": "stream",
     "text": [
      "\n",
      "Cannot read \n",
      "---------------------------------------------------------------------------\n",
      "Exception encountered at \"In [20]\":\n",
      "---------------------------------------------------------------------------\n",
      "AssertionError                            Traceback (most recent call last)\n",
      "<ipython-input-20-9b22ff7d12a1> in <module>\n",
      "      1 if df_CI_analysis.empty:\n",
      "----> 2     assert(False)\n",
      "      3     #%%javascript\n",
      "      4     #Jupyter.notebook.session.delete();\n",
      "      5     # Exit will kill the kernel. Let's see how Papermill handles that.\n",
      "\n",
      "AssertionError: \n",
      "\n",
      "Running notebook for MOUTHWASHES.(ANTISEPTIC)/OH_25027_MAINSTREAM_1\n"
     ]
    },
    {
     "data": {
      "application/vnd.jupyter.widget-view+json": {
       "model_id": "30c3bb91202844b39845892c99019d5e",
       "version_major": 2,
       "version_minor": 0
      },
      "text/plain": [
       "HBox(children=(HTML(value='Executing'), FloatProgress(value=0.0, max=41.0), HTML(value='')))"
      ]
     },
     "metadata": {},
     "output_type": "display_data"
    },
    {
     "name": "stdout",
     "output_type": "stream",
     "text": [
      "\n",
      "Cannot read \n",
      "---------------------------------------------------------------------------\n",
      "Exception encountered at \"In [20]\":\n",
      "---------------------------------------------------------------------------\n",
      "AssertionError                            Traceback (most recent call last)\n",
      "<ipython-input-20-9b22ff7d12a1> in <module>\n",
      "      1 if df_CI_analysis.empty:\n",
      "----> 2     assert(False)\n",
      "      3     #%%javascript\n",
      "      4     #Jupyter.notebook.session.delete();\n",
      "      5     # Exit will kill the kernel. Let's see how Papermill handles that.\n",
      "\n",
      "AssertionError: \n",
      "\n",
      "Running notebook for MOUTHWASHES.(ANTISEPTIC)/OH_21237_MAINSTREAM_1\n"
     ]
    },
    {
     "data": {
      "application/vnd.jupyter.widget-view+json": {
       "model_id": "1dc29f19bd8e4cfdb8761b9f70b57d03",
       "version_major": 2,
       "version_minor": 0
      },
      "text/plain": [
       "HBox(children=(HTML(value='Executing'), FloatProgress(value=0.0, max=41.0), HTML(value='')))"
      ]
     },
     "metadata": {},
     "output_type": "display_data"
    },
    {
     "name": "stdout",
     "output_type": "stream",
     "text": [
      "\n",
      "Cannot read \n",
      "---------------------------------------------------------------------------\n",
      "Exception encountered at \"In [20]\":\n",
      "---------------------------------------------------------------------------\n",
      "AssertionError                            Traceback (most recent call last)\n",
      "<ipython-input-20-9b22ff7d12a1> in <module>\n",
      "      1 if df_CI_analysis.empty:\n",
      "----> 2     assert(False)\n",
      "      3     #%%javascript\n",
      "      4     #Jupyter.notebook.session.delete();\n",
      "      5     # Exit will kill the kernel. Let's see how Papermill handles that.\n",
      "\n",
      "AssertionError: \n",
      "\n",
      "Running notebook for MOUTHWASHES.(ANTISEPTIC)/TX_623_MAINSTREAM_1\n"
     ]
    },
    {
     "data": {
      "application/vnd.jupyter.widget-view+json": {
       "model_id": "a8eee59e291f4964829969d5dbb5ef60",
       "version_major": 2,
       "version_minor": 0
      },
      "text/plain": [
       "HBox(children=(HTML(value='Executing'), FloatProgress(value=0.0, max=41.0), HTML(value='')))"
      ]
     },
     "metadata": {},
     "output_type": "display_data"
    },
    {
     "name": "stdout",
     "output_type": "stream",
     "text": [
      "\n",
      "Cannot read \n",
      "---------------------------------------------------------------------------\n",
      "Exception encountered at \"In [20]\":\n",
      "---------------------------------------------------------------------------\n",
      "AssertionError                            Traceback (most recent call last)\n",
      "<ipython-input-20-9b22ff7d12a1> in <module>\n",
      "      1 if df_CI_analysis.empty:\n",
      "----> 2     assert(False)\n",
      "      3     #%%javascript\n",
      "      4     #Jupyter.notebook.session.delete();\n",
      "      5     # Exit will kill the kernel. Let's see how Papermill handles that.\n",
      "\n",
      "AssertionError: \n",
      "\n",
      "Running notebook for MOUTHWASHES.(ANTISEPTIC)/TX_25233_VALUE_1\n"
     ]
    },
    {
     "data": {
      "application/vnd.jupyter.widget-view+json": {
       "model_id": "5503b91e6f1046ae82d8112a446112f5",
       "version_major": 2,
       "version_minor": 0
      },
      "text/plain": [
       "HBox(children=(HTML(value='Executing'), FloatProgress(value=0.0, max=41.0), HTML(value='')))"
      ]
     },
     "metadata": {},
     "output_type": "display_data"
    },
    {
     "name": "stdout",
     "output_type": "stream",
     "text": [
      "\n",
      "Cannot read \n",
      "---------------------------------------------------------------------------\n",
      "Exception encountered at \"In [20]\":\n",
      "---------------------------------------------------------------------------\n",
      "AssertionError                            Traceback (most recent call last)\n",
      "<ipython-input-20-9b22ff7d12a1> in <module>\n",
      "      1 if df_CI_analysis.empty:\n",
      "----> 2     assert(False)\n",
      "      3     #%%javascript\n",
      "      4     #Jupyter.notebook.session.delete();\n",
      "      5     # Exit will kill the kernel. Let's see how Papermill handles that.\n",
      "\n",
      "AssertionError: \n",
      "\n",
      "Running notebook for MOUTHWASHES.(ANTISEPTIC)/OH_6179_UPSCALE_1\n"
     ]
    },
    {
     "data": {
      "application/vnd.jupyter.widget-view+json": {
       "model_id": "ec2afff55ff54b208f70c5d5a2a2aad3",
       "version_major": 2,
       "version_minor": 0
      },
      "text/plain": [
       "HBox(children=(HTML(value='Executing'), FloatProgress(value=0.0, max=41.0), HTML(value='')))"
      ]
     },
     "metadata": {},
     "output_type": "display_data"
    },
    {
     "name": "stdout",
     "output_type": "stream",
     "text": [
      "\n",
      "Cannot read \n",
      "---------------------------------------------------------------------------\n",
      "Exception encountered at \"In [20]\":\n",
      "---------------------------------------------------------------------------\n",
      "AssertionError                            Traceback (most recent call last)\n",
      "<ipython-input-20-9b22ff7d12a1> in <module>\n",
      "      1 if df_CI_analysis.empty:\n",
      "----> 2     assert(False)\n",
      "      3     #%%javascript\n",
      "      4     #Jupyter.notebook.session.delete();\n",
      "      5     # Exit will kill the kernel. Let's see how Papermill handles that.\n",
      "\n",
      "AssertionError: \n",
      "\n",
      "Running notebook for MOUTHWASHES.(ANTISEPTIC)/TX_25229_MAINSTREAM_1\n"
     ]
    },
    {
     "data": {
      "application/vnd.jupyter.widget-view+json": {
       "model_id": "3554d514c583456596b3cf63b2c56252",
       "version_major": 2,
       "version_minor": 0
      },
      "text/plain": [
       "HBox(children=(HTML(value='Executing'), FloatProgress(value=0.0, max=41.0), HTML(value='')))"
      ]
     },
     "metadata": {},
     "output_type": "display_data"
    },
    {
     "name": "stdout",
     "output_type": "stream",
     "text": [
      "\n",
      "Cannot read \n",
      "---------------------------------------------------------------------------\n",
      "Exception encountered at \"In [20]\":\n",
      "---------------------------------------------------------------------------\n",
      "AssertionError                            Traceback (most recent call last)\n",
      "<ipython-input-20-9b22ff7d12a1> in <module>\n",
      "      1 if df_CI_analysis.empty:\n",
      "----> 2     assert(False)\n",
      "      3     #%%javascript\n",
      "      4     #Jupyter.notebook.session.delete();\n",
      "      5     # Exit will kill the kernel. Let's see how Papermill handles that.\n",
      "\n",
      "AssertionError: \n",
      "\n",
      "Running notebook for MOUTHWASHES.(ANTISEPTIC)/OH_21227_UPSCALE_1\n"
     ]
    },
    {
     "data": {
      "application/vnd.jupyter.widget-view+json": {
       "model_id": "42ad95de60df40bb8a276bdd9d999174",
       "version_major": 2,
       "version_minor": 0
      },
      "text/plain": [
       "HBox(children=(HTML(value='Executing'), FloatProgress(value=0.0, max=41.0), HTML(value='')))"
      ]
     },
     "metadata": {},
     "output_type": "display_data"
    },
    {
     "name": "stdout",
     "output_type": "stream",
     "text": [
      "\n",
      "Cannot read \n",
      "---------------------------------------------------------------------------\n",
      "Exception encountered at \"In [20]\":\n",
      "---------------------------------------------------------------------------\n",
      "AssertionError                            Traceback (most recent call last)\n",
      "<ipython-input-20-9b22ff7d12a1> in <module>\n",
      "      1 if df_CI_analysis.empty:\n",
      "----> 2     assert(False)\n",
      "      3     #%%javascript\n",
      "      4     #Jupyter.notebook.session.delete();\n",
      "      5     # Exit will kill the kernel. Let's see how Papermill handles that.\n",
      "\n",
      "AssertionError: \n",
      "\n",
      "Running notebook for MOUTHWASHES.(ANTISEPTIC)/OH_25021_VALUE_1\n"
     ]
    },
    {
     "data": {
      "application/vnd.jupyter.widget-view+json": {
       "model_id": "7d20686ae686453f80ef5a57ce38e1e1",
       "version_major": 2,
       "version_minor": 0
      },
      "text/plain": [
       "HBox(children=(HTML(value='Executing'), FloatProgress(value=0.0, max=41.0), HTML(value='')))"
      ]
     },
     "metadata": {},
     "output_type": "display_data"
    },
    {
     "name": "stdout",
     "output_type": "stream",
     "text": [
      "\n",
      "Cannot read \n",
      "---------------------------------------------------------------------------\n",
      "Exception encountered at \"In [20]\":\n",
      "---------------------------------------------------------------------------\n",
      "AssertionError                            Traceback (most recent call last)\n",
      "<ipython-input-20-9b22ff7d12a1> in <module>\n",
      "      1 if df_CI_analysis.empty:\n",
      "----> 2     assert(False)\n",
      "      3     #%%javascript\n",
      "      4     #Jupyter.notebook.session.delete();\n",
      "      5     # Exit will kill the kernel. Let's see how Papermill handles that.\n",
      "\n",
      "AssertionError: \n",
      "\n",
      "Running notebook for MOUTHWASHES.(ANTISEPTIC)/TX_17615_MAINSTREAM_1\n"
     ]
    },
    {
     "data": {
      "application/vnd.jupyter.widget-view+json": {
       "model_id": "ccb06e1abac24bc4b12f8caa305c9724",
       "version_major": 2,
       "version_minor": 0
      },
      "text/plain": [
       "HBox(children=(HTML(value='Executing'), FloatProgress(value=0.0, max=41.0), HTML(value='')))"
      ]
     },
     "metadata": {},
     "output_type": "display_data"
    },
    {
     "name": "stdout",
     "output_type": "stream",
     "text": [
      "\n",
      "Cannot read \n",
      "---------------------------------------------------------------------------\n",
      "Exception encountered at \"In [20]\":\n",
      "---------------------------------------------------------------------------\n",
      "AssertionError                            Traceback (most recent call last)\n",
      "<ipython-input-20-9b22ff7d12a1> in <module>\n",
      "      1 if df_CI_analysis.empty:\n",
      "----> 2     assert(False)\n",
      "      3     #%%javascript\n",
      "      4     #Jupyter.notebook.session.delete();\n",
      "      5     # Exit will kill the kernel. Let's see how Papermill handles that.\n",
      "\n",
      "AssertionError: \n",
      "\n",
      "Running notebook for MOUTHWASHES.(ANTISEPTIC)/TX_2513_UPSCALE_1\n"
     ]
    },
    {
     "data": {
      "application/vnd.jupyter.widget-view+json": {
       "model_id": "fc5413ab67c64ec8aa714b481e539c54",
       "version_major": 2,
       "version_minor": 0
      },
      "text/plain": [
       "HBox(children=(HTML(value='Executing'), FloatProgress(value=0.0, max=41.0), HTML(value='')))"
      ]
     },
     "metadata": {},
     "output_type": "display_data"
    },
    {
     "name": "stdout",
     "output_type": "stream",
     "text": [
      "\n",
      "Cannot read \n",
      "---------------------------------------------------------------------------\n",
      "Exception encountered at \"In [20]\":\n",
      "---------------------------------------------------------------------------\n",
      "AssertionError                            Traceback (most recent call last)\n",
      "<ipython-input-20-9b22ff7d12a1> in <module>\n",
      "      1 if df_CI_analysis.empty:\n",
      "----> 2     assert(False)\n",
      "      3     #%%javascript\n",
      "      4     #Jupyter.notebook.session.delete();\n",
      "      5     # Exit will kill the kernel. Let's see how Papermill handles that.\n",
      "\n",
      "AssertionError: \n",
      "\n",
      "Running notebook for MOUTHWASHES.(ANTISEPTIC)/OH_2281_UPSCALE_1\n"
     ]
    },
    {
     "data": {
      "application/vnd.jupyter.widget-view+json": {
       "model_id": "26f9ce39914c48f0837d7a3b2e9a6c42",
       "version_major": 2,
       "version_minor": 0
      },
      "text/plain": [
       "HBox(children=(HTML(value='Executing'), FloatProgress(value=0.0, max=41.0), HTML(value='')))"
      ]
     },
     "metadata": {},
     "output_type": "display_data"
    },
    {
     "name": "stdout",
     "output_type": "stream",
     "text": [
      "\n",
      "Cannot read \n",
      "---------------------------------------------------------------------------\n",
      "Exception encountered at \"In [20]\":\n",
      "---------------------------------------------------------------------------\n",
      "AssertionError                            Traceback (most recent call last)\n",
      "<ipython-input-20-9b22ff7d12a1> in <module>\n",
      "      1 if df_CI_analysis.empty:\n",
      "----> 2     assert(False)\n",
      "      3     #%%javascript\n",
      "      4     #Jupyter.notebook.session.delete();\n",
      "      5     # Exit will kill the kernel. Let's see how Papermill handles that.\n",
      "\n",
      "AssertionError: \n",
      "\n",
      "Running notebook for MOUTHWASHES.(ANTISEPTIC)/KY_19265_MAINSTREAM_1\n"
     ]
    },
    {
     "data": {
      "application/vnd.jupyter.widget-view+json": {
       "model_id": "f13de4ce488f48af9841b9ae12065113",
       "version_major": 2,
       "version_minor": 0
      },
      "text/plain": [
       "HBox(children=(HTML(value='Executing'), FloatProgress(value=0.0, max=41.0), HTML(value='')))"
      ]
     },
     "metadata": {},
     "output_type": "display_data"
    },
    {
     "name": "stdout",
     "output_type": "stream",
     "text": [
      "\n",
      "Cannot read \n",
      "---------------------------------------------------------------------------\n",
      "Exception encountered at \"In [20]\":\n",
      "---------------------------------------------------------------------------\n",
      "AssertionError                            Traceback (most recent call last)\n",
      "<ipython-input-20-9b22ff7d12a1> in <module>\n",
      "      1 if df_CI_analysis.empty:\n",
      "----> 2     assert(False)\n",
      "      3     #%%javascript\n",
      "      4     #Jupyter.notebook.session.delete();\n",
      "      5     # Exit will kill the kernel. Let's see how Papermill handles that.\n",
      "\n",
      "AssertionError: \n",
      "\n",
      "Running notebook for MOUTHWASHES.(ANTISEPTIC)/OH_26983_VALUE_1\n"
     ]
    },
    {
     "data": {
      "application/vnd.jupyter.widget-view+json": {
       "model_id": "de8ddf249ed847b3b7503c41c2a7d114",
       "version_major": 2,
       "version_minor": 0
      },
      "text/plain": [
       "HBox(children=(HTML(value='Executing'), FloatProgress(value=0.0, max=41.0), HTML(value='')))"
      ]
     },
     "metadata": {},
     "output_type": "display_data"
    },
    {
     "name": "stdout",
     "output_type": "stream",
     "text": [
      "\n",
      "Cannot read \n",
      "---------------------------------------------------------------------------\n",
      "Exception encountered at \"In [20]\":\n",
      "---------------------------------------------------------------------------\n",
      "AssertionError                            Traceback (most recent call last)\n",
      "<ipython-input-20-9b22ff7d12a1> in <module>\n",
      "      1 if df_CI_analysis.empty:\n",
      "----> 2     assert(False)\n",
      "      3     #%%javascript\n",
      "      4     #Jupyter.notebook.session.delete();\n",
      "      5     # Exit will kill the kernel. Let's see how Papermill handles that.\n",
      "\n",
      "AssertionError: \n",
      "\n",
      "Running notebook for MOUTHWASHES.(ANTISEPTIC)/OH_4259_VALUE_1\n"
     ]
    },
    {
     "data": {
      "application/vnd.jupyter.widget-view+json": {
       "model_id": "506864f052894b80ac5f0c451d22417d",
       "version_major": 2,
       "version_minor": 0
      },
      "text/plain": [
       "HBox(children=(HTML(value='Executing'), FloatProgress(value=0.0, max=41.0), HTML(value='')))"
      ]
     },
     "metadata": {},
     "output_type": "display_data"
    },
    {
     "name": "stdout",
     "output_type": "stream",
     "text": [
      "\n",
      "Cannot read \n",
      "---------------------------------------------------------------------------\n",
      "Exception encountered at \"In [20]\":\n",
      "---------------------------------------------------------------------------\n",
      "AssertionError                            Traceback (most recent call last)\n",
      "<ipython-input-20-9b22ff7d12a1> in <module>\n",
      "      1 if df_CI_analysis.empty:\n",
      "----> 2     assert(False)\n",
      "      3     #%%javascript\n",
      "      4     #Jupyter.notebook.session.delete();\n",
      "      5     # Exit will kill the kernel. Let's see how Papermill handles that.\n",
      "\n",
      "AssertionError: \n",
      "\n",
      "Running notebook for MOUTHWASHES.(ANTISEPTIC)/TX_23327_MAINSTREAM_1\n"
     ]
    },
    {
     "data": {
      "application/vnd.jupyter.widget-view+json": {
       "model_id": "3dcc66ce70c042869954f7a5721f422d",
       "version_major": 2,
       "version_minor": 0
      },
      "text/plain": [
       "HBox(children=(HTML(value='Executing'), FloatProgress(value=0.0, max=41.0), HTML(value='')))"
      ]
     },
     "metadata": {},
     "output_type": "display_data"
    },
    {
     "name": "stdout",
     "output_type": "stream",
     "text": [
      "\n",
      "Cannot read \n",
      "---------------------------------------------------------------------------\n",
      "Exception encountered at \"In [20]\":\n",
      "---------------------------------------------------------------------------\n",
      "AssertionError                            Traceback (most recent call last)\n",
      "<ipython-input-20-9b22ff7d12a1> in <module>\n",
      "      1 if df_CI_analysis.empty:\n",
      "----> 2     assert(False)\n",
      "      3     #%%javascript\n",
      "      4     #Jupyter.notebook.session.delete();\n",
      "      5     # Exit will kill the kernel. Let's see how Papermill handles that.\n",
      "\n",
      "AssertionError: \n",
      "\n",
      "Running notebook for MOUTHWASHES.(ANTISEPTIC)/OH_9825_MAINSTREAM_1\n"
     ]
    },
    {
     "data": {
      "application/vnd.jupyter.widget-view+json": {
       "model_id": "84b162c447d641518b38b2db7389df17",
       "version_major": 2,
       "version_minor": 0
      },
      "text/plain": [
       "HBox(children=(HTML(value='Executing'), FloatProgress(value=0.0, max=41.0), HTML(value='')))"
      ]
     },
     "metadata": {},
     "output_type": "display_data"
    },
    {
     "name": "stdout",
     "output_type": "stream",
     "text": [
      "\n",
      "Cannot read \n",
      "---------------------------------------------------------------------------\n",
      "Exception encountered at \"In [20]\":\n",
      "---------------------------------------------------------------------------\n",
      "AssertionError                            Traceback (most recent call last)\n",
      "<ipython-input-20-9b22ff7d12a1> in <module>\n",
      "      1 if df_CI_analysis.empty:\n",
      "----> 2     assert(False)\n",
      "      3     #%%javascript\n",
      "      4     #Jupyter.notebook.session.delete();\n",
      "      5     # Exit will kill the kernel. Let's see how Papermill handles that.\n",
      "\n",
      "AssertionError: \n",
      "\n",
      "Running notebook for MOUTHWASHES.(ANTISEPTIC)/TX_21479_VALUE_1\n"
     ]
    },
    {
     "data": {
      "application/vnd.jupyter.widget-view+json": {
       "model_id": "bf1d1b32ad0249ea965e8b2ed3a1254c",
       "version_major": 2,
       "version_minor": 0
      },
      "text/plain": [
       "HBox(children=(HTML(value='Executing'), FloatProgress(value=0.0, max=41.0), HTML(value='')))"
      ]
     },
     "metadata": {},
     "output_type": "display_data"
    },
    {
     "name": "stdout",
     "output_type": "stream",
     "text": [
      "\n",
      "Cannot read \n",
      "---------------------------------------------------------------------------\n",
      "Exception encountered at \"In [20]\":\n",
      "---------------------------------------------------------------------------\n",
      "AssertionError                            Traceback (most recent call last)\n",
      "<ipython-input-20-9b22ff7d12a1> in <module>\n",
      "      1 if df_CI_analysis.empty:\n",
      "----> 2     assert(False)\n",
      "      3     #%%javascript\n",
      "      4     #Jupyter.notebook.session.delete();\n",
      "      5     # Exit will kill the kernel. Let's see how Papermill handles that.\n",
      "\n",
      "AssertionError: \n",
      "\n",
      "Running notebook for MOUTHWASHES.(ANTISEPTIC)/TX_613_MAINSTREAM_1\n"
     ]
    },
    {
     "data": {
      "application/vnd.jupyter.widget-view+json": {
       "model_id": "828c0d398892433da066ee5ad7f7cc12",
       "version_major": 2,
       "version_minor": 0
      },
      "text/plain": [
       "HBox(children=(HTML(value='Executing'), FloatProgress(value=0.0, max=41.0), HTML(value='')))"
      ]
     },
     "metadata": {},
     "output_type": "display_data"
    },
    {
     "name": "stdout",
     "output_type": "stream",
     "text": [
      "\n",
      "Cannot read \n",
      "---------------------------------------------------------------------------\n",
      "Exception encountered at \"In [20]\":\n",
      "---------------------------------------------------------------------------\n",
      "AssertionError                            Traceback (most recent call last)\n",
      "<ipython-input-20-9b22ff7d12a1> in <module>\n",
      "      1 if df_CI_analysis.empty:\n",
      "----> 2     assert(False)\n",
      "      3     #%%javascript\n",
      "      4     #Jupyter.notebook.session.delete();\n",
      "      5     # Exit will kill the kernel. Let's see how Papermill handles that.\n",
      "\n",
      "AssertionError: \n",
      "\n",
      "Running notebook for MOUTHWASH.RINSES.AND.SPRAYS/OH_2277_UPSCALE_1\n"
     ]
    },
    {
     "data": {
      "application/vnd.jupyter.widget-view+json": {
       "model_id": "b0a072d3964b47629a16b9bf61436655",
       "version_major": 2,
       "version_minor": 0
      },
      "text/plain": [
       "HBox(children=(HTML(value='Executing'), FloatProgress(value=0.0, max=41.0), HTML(value='')))"
      ]
     },
     "metadata": {},
     "output_type": "display_data"
    },
    {
     "name": "stdout",
     "output_type": "stream",
     "text": [
      "\n",
      "Cannot read \n",
      "---------------------------------------------------------------------------\n",
      "Exception encountered at \"In [20]\":\n",
      "---------------------------------------------------------------------------\n",
      "AssertionError                            Traceback (most recent call last)\n",
      "<ipython-input-20-9b22ff7d12a1> in <module>\n",
      "      1 if df_CI_analysis.empty:\n",
      "----> 2     assert(False)\n",
      "      3     #%%javascript\n",
      "      4     #Jupyter.notebook.session.delete();\n",
      "      5     # Exit will kill the kernel. Let's see how Papermill handles that.\n",
      "\n",
      "AssertionError: \n",
      "\n",
      "Running notebook for MOUTHWASH.RINSES.AND.SPRAYS/OH_24991_UPSCALE_1\n"
     ]
    },
    {
     "data": {
      "application/vnd.jupyter.widget-view+json": {
       "model_id": "81232419eaef4c81bec64b302db93dbc",
       "version_major": 2,
       "version_minor": 0
      },
      "text/plain": [
       "HBox(children=(HTML(value='Executing'), FloatProgress(value=0.0, max=41.0), HTML(value='')))"
      ]
     },
     "metadata": {},
     "output_type": "display_data"
    },
    {
     "name": "stdout",
     "output_type": "stream",
     "text": [
      "\n",
      "Cannot read \n",
      "---------------------------------------------------------------------------\n",
      "Exception encountered at \"In [20]\":\n",
      "---------------------------------------------------------------------------\n",
      "AssertionError                            Traceback (most recent call last)\n",
      "<ipython-input-20-9b22ff7d12a1> in <module>\n",
      "      1 if df_CI_analysis.empty:\n",
      "----> 2     assert(False)\n",
      "      3     #%%javascript\n",
      "      4     #Jupyter.notebook.session.delete();\n",
      "      5     # Exit will kill the kernel. Let's see how Papermill handles that.\n",
      "\n",
      "AssertionError: \n",
      "\n",
      "Running notebook for MOUTHWASH.RINSES.AND.SPRAYS/OH_25027_MAINSTREAM_1\n"
     ]
    },
    {
     "data": {
      "application/vnd.jupyter.widget-view+json": {
       "model_id": "dec113e3dbe74f3682daf9320d3450b9",
       "version_major": 2,
       "version_minor": 0
      },
      "text/plain": [
       "HBox(children=(HTML(value='Executing'), FloatProgress(value=0.0, max=41.0), HTML(value='')))"
      ]
     },
     "metadata": {},
     "output_type": "display_data"
    },
    {
     "name": "stdout",
     "output_type": "stream",
     "text": [
      "\n",
      "Cannot read \n",
      "---------------------------------------------------------------------------\n",
      "Exception encountered at \"In [20]\":\n",
      "---------------------------------------------------------------------------\n",
      "AssertionError                            Traceback (most recent call last)\n",
      "<ipython-input-20-9b22ff7d12a1> in <module>\n",
      "      1 if df_CI_analysis.empty:\n",
      "----> 2     assert(False)\n",
      "      3     #%%javascript\n",
      "      4     #Jupyter.notebook.session.delete();\n",
      "      5     # Exit will kill the kernel. Let's see how Papermill handles that.\n",
      "\n",
      "AssertionError: \n",
      "\n",
      "Running notebook for MOUTHWASH.RINSES.AND.SPRAYS/OH_21237_MAINSTREAM_1\n"
     ]
    },
    {
     "data": {
      "application/vnd.jupyter.widget-view+json": {
       "model_id": "126a695bb68a4ed9baf3653888e3787d",
       "version_major": 2,
       "version_minor": 0
      },
      "text/plain": [
       "HBox(children=(HTML(value='Executing'), FloatProgress(value=0.0, max=41.0), HTML(value='')))"
      ]
     },
     "metadata": {},
     "output_type": "display_data"
    },
    {
     "name": "stdout",
     "output_type": "stream",
     "text": [
      "\n",
      "Cannot read \n",
      "---------------------------------------------------------------------------\n",
      "Exception encountered at \"In [20]\":\n",
      "---------------------------------------------------------------------------\n",
      "AssertionError                            Traceback (most recent call last)\n",
      "<ipython-input-20-9b22ff7d12a1> in <module>\n",
      "      1 if df_CI_analysis.empty:\n",
      "----> 2     assert(False)\n",
      "      3     #%%javascript\n",
      "      4     #Jupyter.notebook.session.delete();\n",
      "      5     # Exit will kill the kernel. Let's see how Papermill handles that.\n",
      "\n",
      "AssertionError: \n",
      "\n",
      "Running notebook for MOUTHWASH.RINSES.AND.SPRAYS/TX_623_MAINSTREAM_1\n"
     ]
    },
    {
     "data": {
      "application/vnd.jupyter.widget-view+json": {
       "model_id": "c17b6efbcefd4471be7b826c4f27122e",
       "version_major": 2,
       "version_minor": 0
      },
      "text/plain": [
       "HBox(children=(HTML(value='Executing'), FloatProgress(value=0.0, max=41.0), HTML(value='')))"
      ]
     },
     "metadata": {},
     "output_type": "display_data"
    },
    {
     "name": "stdout",
     "output_type": "stream",
     "text": [
      "\n",
      "Cannot read \n",
      "---------------------------------------------------------------------------\n",
      "Exception encountered at \"In [20]\":\n",
      "---------------------------------------------------------------------------\n",
      "AssertionError                            Traceback (most recent call last)\n",
      "<ipython-input-20-9b22ff7d12a1> in <module>\n",
      "      1 if df_CI_analysis.empty:\n",
      "----> 2     assert(False)\n",
      "      3     #%%javascript\n",
      "      4     #Jupyter.notebook.session.delete();\n",
      "      5     # Exit will kill the kernel. Let's see how Papermill handles that.\n",
      "\n",
      "AssertionError: \n",
      "\n",
      "Running notebook for MOUTHWASH.RINSES.AND.SPRAYS/TX_25233_VALUE_1\n"
     ]
    },
    {
     "data": {
      "application/vnd.jupyter.widget-view+json": {
       "model_id": "1973cdc1e3524bc9807d83c08a980ce6",
       "version_major": 2,
       "version_minor": 0
      },
      "text/plain": [
       "HBox(children=(HTML(value='Executing'), FloatProgress(value=0.0, max=41.0), HTML(value='')))"
      ]
     },
     "metadata": {},
     "output_type": "display_data"
    },
    {
     "name": "stdout",
     "output_type": "stream",
     "text": [
      "\n",
      "Cannot read \n",
      "---------------------------------------------------------------------------\n",
      "Exception encountered at \"In [20]\":\n",
      "---------------------------------------------------------------------------\n",
      "AssertionError                            Traceback (most recent call last)\n",
      "<ipython-input-20-9b22ff7d12a1> in <module>\n",
      "      1 if df_CI_analysis.empty:\n",
      "----> 2     assert(False)\n",
      "      3     #%%javascript\n",
      "      4     #Jupyter.notebook.session.delete();\n",
      "      5     # Exit will kill the kernel. Let's see how Papermill handles that.\n",
      "\n",
      "AssertionError: \n",
      "\n",
      "Running notebook for MOUTHWASH.RINSES.AND.SPRAYS/OH_6179_UPSCALE_1\n"
     ]
    },
    {
     "data": {
      "application/vnd.jupyter.widget-view+json": {
       "model_id": "ed499ab9e6994492949a6a5a75e9610d",
       "version_major": 2,
       "version_minor": 0
      },
      "text/plain": [
       "HBox(children=(HTML(value='Executing'), FloatProgress(value=0.0, max=41.0), HTML(value='')))"
      ]
     },
     "metadata": {},
     "output_type": "display_data"
    },
    {
     "name": "stdout",
     "output_type": "stream",
     "text": [
      "\n",
      "Cannot read \n",
      "---------------------------------------------------------------------------\n",
      "Exception encountered at \"In [20]\":\n",
      "---------------------------------------------------------------------------\n",
      "AssertionError                            Traceback (most recent call last)\n",
      "<ipython-input-20-9b22ff7d12a1> in <module>\n",
      "      1 if df_CI_analysis.empty:\n",
      "----> 2     assert(False)\n",
      "      3     #%%javascript\n",
      "      4     #Jupyter.notebook.session.delete();\n",
      "      5     # Exit will kill the kernel. Let's see how Papermill handles that.\n",
      "\n",
      "AssertionError: \n",
      "\n",
      "Running notebook for MOUTHWASH.RINSES.AND.SPRAYS/TX_25229_MAINSTREAM_1\n"
     ]
    },
    {
     "data": {
      "application/vnd.jupyter.widget-view+json": {
       "model_id": "7c730a9229b24af2bc5fbcaf1f220274",
       "version_major": 2,
       "version_minor": 0
      },
      "text/plain": [
       "HBox(children=(HTML(value='Executing'), FloatProgress(value=0.0, max=41.0), HTML(value='')))"
      ]
     },
     "metadata": {},
     "output_type": "display_data"
    },
    {
     "name": "stdout",
     "output_type": "stream",
     "text": [
      "\n",
      "Cannot read \n",
      "---------------------------------------------------------------------------\n",
      "Exception encountered at \"In [20]\":\n",
      "---------------------------------------------------------------------------\n",
      "AssertionError                            Traceback (most recent call last)\n",
      "<ipython-input-20-9b22ff7d12a1> in <module>\n",
      "      1 if df_CI_analysis.empty:\n",
      "----> 2     assert(False)\n",
      "      3     #%%javascript\n",
      "      4     #Jupyter.notebook.session.delete();\n",
      "      5     # Exit will kill the kernel. Let's see how Papermill handles that.\n",
      "\n",
      "AssertionError: \n",
      "\n",
      "Running notebook for MOUTHWASH.RINSES.AND.SPRAYS/OH_21227_UPSCALE_1\n"
     ]
    },
    {
     "data": {
      "application/vnd.jupyter.widget-view+json": {
       "model_id": "b52a789287414b99b9bfa26cfa29fe68",
       "version_major": 2,
       "version_minor": 0
      },
      "text/plain": [
       "HBox(children=(HTML(value='Executing'), FloatProgress(value=0.0, max=41.0), HTML(value='')))"
      ]
     },
     "metadata": {},
     "output_type": "display_data"
    },
    {
     "name": "stdout",
     "output_type": "stream",
     "text": [
      "\n",
      "Cannot read \n",
      "---------------------------------------------------------------------------\n",
      "Exception encountered at \"In [20]\":\n",
      "---------------------------------------------------------------------------\n",
      "AssertionError                            Traceback (most recent call last)\n",
      "<ipython-input-20-9b22ff7d12a1> in <module>\n",
      "      1 if df_CI_analysis.empty:\n",
      "----> 2     assert(False)\n",
      "      3     #%%javascript\n",
      "      4     #Jupyter.notebook.session.delete();\n",
      "      5     # Exit will kill the kernel. Let's see how Papermill handles that.\n",
      "\n",
      "AssertionError: \n",
      "\n",
      "Running notebook for MOUTHWASH.RINSES.AND.SPRAYS/OH_25021_VALUE_1\n"
     ]
    },
    {
     "data": {
      "application/vnd.jupyter.widget-view+json": {
       "model_id": "a58ec9b6d35e41debd794906de29f383",
       "version_major": 2,
       "version_minor": 0
      },
      "text/plain": [
       "HBox(children=(HTML(value='Executing'), FloatProgress(value=0.0, max=41.0), HTML(value='')))"
      ]
     },
     "metadata": {},
     "output_type": "display_data"
    },
    {
     "name": "stdout",
     "output_type": "stream",
     "text": [
      "\n",
      "Cannot read \n",
      "---------------------------------------------------------------------------\n",
      "Exception encountered at \"In [20]\":\n",
      "---------------------------------------------------------------------------\n",
      "AssertionError                            Traceback (most recent call last)\n",
      "<ipython-input-20-9b22ff7d12a1> in <module>\n",
      "      1 if df_CI_analysis.empty:\n",
      "----> 2     assert(False)\n",
      "      3     #%%javascript\n",
      "      4     #Jupyter.notebook.session.delete();\n",
      "      5     # Exit will kill the kernel. Let's see how Papermill handles that.\n",
      "\n",
      "AssertionError: \n",
      "\n",
      "Running notebook for MOUTHWASH.RINSES.AND.SPRAYS/TX_17615_MAINSTREAM_1\n"
     ]
    },
    {
     "data": {
      "application/vnd.jupyter.widget-view+json": {
       "model_id": "a6e813a5acab496d8db688003164bc8b",
       "version_major": 2,
       "version_minor": 0
      },
      "text/plain": [
       "HBox(children=(HTML(value='Executing'), FloatProgress(value=0.0, max=41.0), HTML(value='')))"
      ]
     },
     "metadata": {},
     "output_type": "display_data"
    },
    {
     "name": "stdout",
     "output_type": "stream",
     "text": [
      "\n",
      "Cannot read \n",
      "---------------------------------------------------------------------------\n",
      "Exception encountered at \"In [20]\":\n",
      "---------------------------------------------------------------------------\n",
      "AssertionError                            Traceback (most recent call last)\n",
      "<ipython-input-20-9b22ff7d12a1> in <module>\n",
      "      1 if df_CI_analysis.empty:\n",
      "----> 2     assert(False)\n",
      "      3     #%%javascript\n",
      "      4     #Jupyter.notebook.session.delete();\n",
      "      5     # Exit will kill the kernel. Let's see how Papermill handles that.\n",
      "\n",
      "AssertionError: \n",
      "\n",
      "Running notebook for MOUTHWASH.RINSES.AND.SPRAYS/TX_2513_UPSCALE_1\n"
     ]
    },
    {
     "data": {
      "application/vnd.jupyter.widget-view+json": {
       "model_id": "6099b468e1f54dd687b8155c9e5c92cc",
       "version_major": 2,
       "version_minor": 0
      },
      "text/plain": [
       "HBox(children=(HTML(value='Executing'), FloatProgress(value=0.0, max=41.0), HTML(value='')))"
      ]
     },
     "metadata": {},
     "output_type": "display_data"
    },
    {
     "name": "stdout",
     "output_type": "stream",
     "text": [
      "\n",
      "Cannot read \n",
      "---------------------------------------------------------------------------\n",
      "Exception encountered at \"In [20]\":\n",
      "---------------------------------------------------------------------------\n",
      "AssertionError                            Traceback (most recent call last)\n",
      "<ipython-input-20-9b22ff7d12a1> in <module>\n",
      "      1 if df_CI_analysis.empty:\n",
      "----> 2     assert(False)\n",
      "      3     #%%javascript\n",
      "      4     #Jupyter.notebook.session.delete();\n",
      "      5     # Exit will kill the kernel. Let's see how Papermill handles that.\n",
      "\n",
      "AssertionError: \n",
      "\n",
      "Running notebook for MOUTHWASH.RINSES.AND.SPRAYS/OH_2281_UPSCALE_1\n"
     ]
    },
    {
     "data": {
      "application/vnd.jupyter.widget-view+json": {
       "model_id": "37b98dd0a5df43989f85ab467ec1c0ed",
       "version_major": 2,
       "version_minor": 0
      },
      "text/plain": [
       "HBox(children=(HTML(value='Executing'), FloatProgress(value=0.0, max=41.0), HTML(value='')))"
      ]
     },
     "metadata": {},
     "output_type": "display_data"
    },
    {
     "name": "stdout",
     "output_type": "stream",
     "text": [
      "\n",
      "Cannot read \n",
      "---------------------------------------------------------------------------\n",
      "Exception encountered at \"In [20]\":\n",
      "---------------------------------------------------------------------------\n",
      "AssertionError                            Traceback (most recent call last)\n",
      "<ipython-input-20-9b22ff7d12a1> in <module>\n",
      "      1 if df_CI_analysis.empty:\n",
      "----> 2     assert(False)\n",
      "      3     #%%javascript\n",
      "      4     #Jupyter.notebook.session.delete();\n",
      "      5     # Exit will kill the kernel. Let's see how Papermill handles that.\n",
      "\n",
      "AssertionError: \n",
      "\n",
      "Running notebook for MOUTHWASH.RINSES.AND.SPRAYS/KY_19265_MAINSTREAM_1\n"
     ]
    },
    {
     "data": {
      "application/vnd.jupyter.widget-view+json": {
       "model_id": "ecb84dc3d42c48b9b9c22db6132a2107",
       "version_major": 2,
       "version_minor": 0
      },
      "text/plain": [
       "HBox(children=(HTML(value='Executing'), FloatProgress(value=0.0, max=41.0), HTML(value='')))"
      ]
     },
     "metadata": {},
     "output_type": "display_data"
    },
    {
     "name": "stdout",
     "output_type": "stream",
     "text": [
      "\n",
      "Cannot read \n",
      "---------------------------------------------------------------------------\n",
      "Exception encountered at \"In [20]\":\n",
      "---------------------------------------------------------------------------\n",
      "AssertionError                            Traceback (most recent call last)\n",
      "<ipython-input-20-9b22ff7d12a1> in <module>\n",
      "      1 if df_CI_analysis.empty:\n",
      "----> 2     assert(False)\n",
      "      3     #%%javascript\n",
      "      4     #Jupyter.notebook.session.delete();\n",
      "      5     # Exit will kill the kernel. Let's see how Papermill handles that.\n",
      "\n",
      "AssertionError: \n",
      "\n",
      "Running notebook for MOUTHWASH.RINSES.AND.SPRAYS/OH_26983_VALUE_1\n"
     ]
    },
    {
     "data": {
      "application/vnd.jupyter.widget-view+json": {
       "model_id": "f53d04acbb0c406c918be6556d3398b2",
       "version_major": 2,
       "version_minor": 0
      },
      "text/plain": [
       "HBox(children=(HTML(value='Executing'), FloatProgress(value=0.0, max=41.0), HTML(value='')))"
      ]
     },
     "metadata": {},
     "output_type": "display_data"
    },
    {
     "name": "stdout",
     "output_type": "stream",
     "text": [
      "\n",
      "Cannot read \n",
      "---------------------------------------------------------------------------\n",
      "Exception encountered at \"In [20]\":\n",
      "---------------------------------------------------------------------------\n",
      "AssertionError                            Traceback (most recent call last)\n",
      "<ipython-input-20-9b22ff7d12a1> in <module>\n",
      "      1 if df_CI_analysis.empty:\n",
      "----> 2     assert(False)\n",
      "      3     #%%javascript\n",
      "      4     #Jupyter.notebook.session.delete();\n",
      "      5     # Exit will kill the kernel. Let's see how Papermill handles that.\n",
      "\n",
      "AssertionError: \n",
      "\n",
      "Running notebook for MOUTHWASH.RINSES.AND.SPRAYS/OH_4259_VALUE_1\n"
     ]
    },
    {
     "data": {
      "application/vnd.jupyter.widget-view+json": {
       "model_id": "c4820200cda54287870e886cdd956b17",
       "version_major": 2,
       "version_minor": 0
      },
      "text/plain": [
       "HBox(children=(HTML(value='Executing'), FloatProgress(value=0.0, max=41.0), HTML(value='')))"
      ]
     },
     "metadata": {},
     "output_type": "display_data"
    },
    {
     "name": "stdout",
     "output_type": "stream",
     "text": [
      "\n",
      "Cannot read \n",
      "---------------------------------------------------------------------------\n",
      "Exception encountered at \"In [20]\":\n",
      "---------------------------------------------------------------------------\n",
      "AssertionError                            Traceback (most recent call last)\n",
      "<ipython-input-20-9b22ff7d12a1> in <module>\n",
      "      1 if df_CI_analysis.empty:\n",
      "----> 2     assert(False)\n",
      "      3     #%%javascript\n",
      "      4     #Jupyter.notebook.session.delete();\n",
      "      5     # Exit will kill the kernel. Let's see how Papermill handles that.\n",
      "\n",
      "AssertionError: \n",
      "\n",
      "Running notebook for MOUTHWASH.RINSES.AND.SPRAYS/TX_23327_MAINSTREAM_1\n"
     ]
    },
    {
     "data": {
      "application/vnd.jupyter.widget-view+json": {
       "model_id": "baf1b0c8ba8045c992d160f5b5d2a72a",
       "version_major": 2,
       "version_minor": 0
      },
      "text/plain": [
       "HBox(children=(HTML(value='Executing'), FloatProgress(value=0.0, max=41.0), HTML(value='')))"
      ]
     },
     "metadata": {},
     "output_type": "display_data"
    },
    {
     "name": "stdout",
     "output_type": "stream",
     "text": [
      "\n",
      "Cannot read \n",
      "---------------------------------------------------------------------------\n",
      "Exception encountered at \"In [20]\":\n",
      "---------------------------------------------------------------------------\n",
      "AssertionError                            Traceback (most recent call last)\n",
      "<ipython-input-20-9b22ff7d12a1> in <module>\n",
      "      1 if df_CI_analysis.empty:\n",
      "----> 2     assert(False)\n",
      "      3     #%%javascript\n",
      "      4     #Jupyter.notebook.session.delete();\n",
      "      5     # Exit will kill the kernel. Let's see how Papermill handles that.\n",
      "\n",
      "AssertionError: \n",
      "\n",
      "Running notebook for MOUTHWASH.RINSES.AND.SPRAYS/OH_9825_MAINSTREAM_1\n"
     ]
    },
    {
     "data": {
      "application/vnd.jupyter.widget-view+json": {
       "model_id": "d8d14c0006d549feb84845f40b02c857",
       "version_major": 2,
       "version_minor": 0
      },
      "text/plain": [
       "HBox(children=(HTML(value='Executing'), FloatProgress(value=0.0, max=41.0), HTML(value='')))"
      ]
     },
     "metadata": {},
     "output_type": "display_data"
    },
    {
     "name": "stdout",
     "output_type": "stream",
     "text": [
      "\n",
      "Cannot read \n",
      "---------------------------------------------------------------------------\n",
      "Exception encountered at \"In [20]\":\n",
      "---------------------------------------------------------------------------\n",
      "AssertionError                            Traceback (most recent call last)\n",
      "<ipython-input-20-9b22ff7d12a1> in <module>\n",
      "      1 if df_CI_analysis.empty:\n",
      "----> 2     assert(False)\n",
      "      3     #%%javascript\n",
      "      4     #Jupyter.notebook.session.delete();\n",
      "      5     # Exit will kill the kernel. Let's see how Papermill handles that.\n",
      "\n",
      "AssertionError: \n",
      "\n",
      "Running notebook for MOUTHWASH.RINSES.AND.SPRAYS/TX_21479_VALUE_1\n"
     ]
    },
    {
     "data": {
      "application/vnd.jupyter.widget-view+json": {
       "model_id": "9386e13ae4b74c1d8379969541247940",
       "version_major": 2,
       "version_minor": 0
      },
      "text/plain": [
       "HBox(children=(HTML(value='Executing'), FloatProgress(value=0.0, max=41.0), HTML(value='')))"
      ]
     },
     "metadata": {},
     "output_type": "display_data"
    },
    {
     "name": "stdout",
     "output_type": "stream",
     "text": [
      "\n",
      "Cannot read \n",
      "---------------------------------------------------------------------------\n",
      "Exception encountered at \"In [20]\":\n",
      "---------------------------------------------------------------------------\n",
      "AssertionError                            Traceback (most recent call last)\n",
      "<ipython-input-20-9b22ff7d12a1> in <module>\n",
      "      1 if df_CI_analysis.empty:\n",
      "----> 2     assert(False)\n",
      "      3     #%%javascript\n",
      "      4     #Jupyter.notebook.session.delete();\n",
      "      5     # Exit will kill the kernel. Let's see how Papermill handles that.\n",
      "\n",
      "AssertionError: \n",
      "\n",
      "Running notebook for MOUTHWASH.RINSES.AND.SPRAYS/TX_613_MAINSTREAM_1\n"
     ]
    },
    {
     "data": {
      "application/vnd.jupyter.widget-view+json": {
       "model_id": "dfe77e1f87034f159594f9b0d27287fe",
       "version_major": 2,
       "version_minor": 0
      },
      "text/plain": [
       "HBox(children=(HTML(value='Executing'), FloatProgress(value=0.0, max=41.0), HTML(value='')))"
      ]
     },
     "metadata": {},
     "output_type": "display_data"
    },
    {
     "name": "stdout",
     "output_type": "stream",
     "text": [
      "\n",
      "Cannot read \n",
      "---------------------------------------------------------------------------\n",
      "Exception encountered at \"In [20]\":\n",
      "---------------------------------------------------------------------------\n",
      "AssertionError                            Traceback (most recent call last)\n",
      "<ipython-input-20-9b22ff7d12a1> in <module>\n",
      "      1 if df_CI_analysis.empty:\n",
      "----> 2     assert(False)\n",
      "      3     #%%javascript\n",
      "      4     #Jupyter.notebook.session.delete();\n",
      "      5     # Exit will kill the kernel. Let's see how Papermill handles that.\n",
      "\n",
      "AssertionError: \n",
      "\n"
     ]
    }
   ],
   "source": [
    "# Save the plots\n",
    "save_all_cannibals = False\n",
    "# variables that pertain to the new code\n",
    "min_diff_in_units_from_reg_to_promo = 5\n",
    "# when analysing the SKUs - THIS IS IN WEEKS FOR DUNNHUMBY\n",
    "min_promo_days=2\n",
    "min_regular_days=4\n",
    "# values for the CI analysis\n",
    "min_ratio_change = 0.5\n",
    "do_exclude_promos_SKU_B = True\n",
    "# This flag is pretty good for debugging/development\n",
    "be_verbose=True\n",
    "# This threshold is used to detect uplifters based on the difference in average sales\n",
    "sales_threshold = 1/3\n",
    "# min AVG sales to be considered - this is weekly units for Dunnhumby\n",
    "min_avg_sales = 20\n",
    "# LOESS - weekly (2 weeks)\n",
    "period_in_days = 2\n",
    "# If true, use the sales without the weekly pattern\n",
    "do_decomposition = False\n",
    "# This threshold is used to detect the reduction in sales that one uplifter causes\n",
    "cannibalisation_threshold = 1/3\n",
    "# min days/times that both products overlap during the promotions of the cannibal\n",
    "min_snap_days = 2\n",
    "# Overlapping days (weeks for DH)\n",
    "min_overlapping_days_regular=2\n",
    "min_overlapping_days_promo=1\n",
    "\n",
    "\n",
    "\n",
    "for dept_id in selected_departments:\n",
    "    for store_id in stores:\n",
    "        print(f'Running notebook for {dept_id}/{store_id}')\n",
    "        try:\n",
    "            pm.execute_notebook(input_path='./Dunnhumby_CausalImpact_Analysis_base.ipynb',\n",
    "                                output_path=f'./Dunnhumby_papermill_runners/Dunnhumby-causal_impact_{dept_id}_{store_id}.ipynb',\n",
    "                                parameters={'dept_id': dept_id,\n",
    "                                            'min_diff_in_units_from_reg_to_promo': min_diff_in_units_from_reg_to_promo,\n",
    "                                            'store_name': store_id, \n",
    "                                            'min_promo_days': min_promo_days, \n",
    "                                            'min_regular_days': min_regular_days,\n",
    "                                            'min_ratio_change':min_ratio_change,\n",
    "                                            'do_exclude_promos_SKU_B': do_exclude_promos_SKU_B,\n",
    "                                            'be_verbose': be_verbose,\n",
    "                                            'sales_threshold': sales_threshold,\n",
    "                                            'min_avg_sales': min_avg_sales,\n",
    "                                            'period_in_days': period_in_days,\n",
    "                                            'do_decomposition': do_decomposition,\n",
    "                                            'cannibalisation_threshold': cannibalisation_threshold,\n",
    "                                            'min_overlapping_days_regular':min_overlapping_days_regular,\n",
    "                                            'min_overlapping_days_promo': min_overlapping_days_promo,\n",
    "                                            'min_snap_days': min_snap_days})\n",
    "        except Exception as e:\n",
    "            print('Cannot read {}'.format(e))"
   ]
  },
  {
   "cell_type": "code",
   "execution_count": null,
   "metadata": {},
   "outputs": [],
   "source": []
  }
 ],
 "metadata": {
  "kernelspec": {
   "display_name": "Python 3",
   "language": "python",
   "name": "python3"
  },
  "language_info": {
   "codemirror_mode": {
    "name": "ipython",
    "version": 3
   },
   "file_extension": ".py",
   "mimetype": "text/x-python",
   "name": "python",
   "nbconvert_exporter": "python",
   "pygments_lexer": "ipython3",
   "version": "3.8.7"
  }
 },
 "nbformat": 4,
 "nbformat_minor": 4
}
