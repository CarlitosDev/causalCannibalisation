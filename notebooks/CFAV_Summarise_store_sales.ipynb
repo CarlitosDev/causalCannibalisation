{
 "cells": [
  {
   "cell_type": "markdown",
   "metadata": {},
   "source": [
    "### Summarise all products and promotions for the paper"
   ]
  },
  {
   "cell_type": "code",
   "execution_count": 1,
   "metadata": {},
   "outputs": [],
   "source": [
    "import numpy as np\n",
    "import uuid\n",
    "import pandas as pd\n",
    "import os\n",
    "import pickle\n",
    "from datetime import datetime\n",
    "import matplotlib.pyplot as plt\n",
    "import matplotlib\n",
    "import fcn_helpers as fhelp\n",
    "import glob\n",
    "\n",
    "dataFolder = os.path.expanduser('~/Google Drive/order/Machine Learning Part/data/CorporacionFavorita')"
   ]
  },
  {
   "cell_type": "code",
   "execution_count": 2,
   "metadata": {},
   "outputs": [],
   "source": [
    "mapper_family_to_category = fhelp.cfav_get_map_dept_to_cat()"
   ]
  },
  {
   "cell_type": "code",
   "execution_count": 3,
   "metadata": {},
   "outputs": [],
   "source": [
    "selected_departments = [ 'LIQUOR,WINE,BEER', 'GROCERY_II','GROCERY_I',  'BEVERAGES', 'DAIRY', 'DELI', 'EGGS', 'FROZEN_FOODS',\n",
    "'MEATS', 'POULTRY', 'PREPARED_FOODS', 'PRODUCE', 'BREAD_BAKERY']"
   ]
  },
  {
   "cell_type": "code",
   "execution_count": 4,
   "metadata": {},
   "outputs": [],
   "source": [
    "stores = ['Pichincha_44_A_5',\n",
    "'Pichincha_47_A_14', \n",
    "'Pichincha_46_A_14',\n",
    "'Pichincha_48_A_14',\n",
    "'Pichincha_3_D_8',\n",
    "'Pichincha_4_D_9',\n",
    "'Pichincha_45_A_11',\n",
    "'Pichincha_49_A_11',\n",
    "'Pichincha_6_D_13',\n",
    "'Pichincha_7_D_8',\n",
    "'Pichincha_8_D_8']"
   ]
  },
  {
   "cell_type": "code",
   "execution_count": 5,
   "metadata": {},
   "outputs": [],
   "source": [
    "min_num_days_on_promo = 10\n",
    "\n",
    "all_stores = []\n",
    "all_skus = []\n",
    "all_skus_promo = []\n",
    "all_category_id = []\n",
    "all_dept_id = []\n",
    "all_skus_avg_sales = []"
   ]
  },
  {
   "cell_type": "code",
   "execution_count": 6,
   "metadata": {},
   "outputs": [],
   "source": [
    "for dept_id in selected_departments:\n",
    "    for store_name in stores:        \n",
    "        # Read departement sales for the current store\n",
    "        category_id = mapper_family_to_category.get(dept_id, '')\n",
    "        foldername = os.path.join(dataFolder, category_id, dept_id, 'store_sales')\n",
    "        filename = os.path.join(foldername, f'{store_name}.pickle')\n",
    "        df_store = fhelp.readPickleFile(filename)\n",
    "\n",
    "        sales_vars = [iVar for iVar in df_store.columns if 'sales-' in iVar]\n",
    "        promotion_vars = [iVar for iVar in df_store.columns if 'promotion_flag-' in iVar]\n",
    "\n",
    "        num_skus = len(sales_vars)\n",
    "        # products that have been on promo more than 10 days\n",
    "        num_products_on_promo = (df_store[promotion_vars].sum(axis=0)>min_num_days_on_promo).sum()\n",
    "\n",
    "\n",
    "\n",
    "        all_stores.append(store_name)\n",
    "        all_skus.append(num_skus)\n",
    "        all_skus_promo.append(num_products_on_promo)\n",
    "        all_skus_avg_sales.append(df_store[sales_vars].sum(axis=1).mean())\n",
    "        all_category_id.append(category_id)\n",
    "        all_dept_id.append(dept_id)"
   ]
  },
  {
   "cell_type": "code",
   "execution_count": 7,
   "metadata": {},
   "outputs": [],
   "source": [
    "df_summary = pd.DataFrame(\n",
    "{'category':all_category_id,\n",
    " 'department': all_dept_id,\n",
    "'stores':all_stores,\n",
    "'num_skus':all_skus,\n",
    "'all_skus_promo':all_skus_promo,\n",
    "'all_skus_avg_sales': all_skus_avg_sales\n",
    "})"
   ]
  },
  {
   "cell_type": "code",
   "execution_count": 8,
   "metadata": {},
   "outputs": [],
   "source": [
    "aggregations  = {'num_skus': 'mean', 'all_skus_promo': 'mean', 'all_skus_avg_sales': 'mean'}\n",
    "df_results_agg = df_summary.groupby(['category', 'department', ], as_index=False).agg(aggregations)\n",
    "df_results_agg.sort_values(by=['category', 'department'], inplace=True)\n",
    "df_results_agg['cat_dep'] = df_results_agg[['category', 'department']].apply(lambda st: f'{st[0]}-{st[1]}', axis=1)\n",
    "vars_to_save = ['cat_dep', 'num_skus', 'all_skus_promo', 'all_skus_avg_sales']"
   ]
  },
  {
   "cell_type": "code",
   "execution_count": 9,
   "metadata": {},
   "outputs": [
    {
     "name": "stdout",
     "output_type": "stream",
     "text": [
      "\\begin{tabular}{lrrr}\n",
      "\\toprule\n",
      "                 cat\\_dep &  num\\_skus &  all\\_skus\\_promo &  all\\_skus\\_avg\\_sales \\\\\n",
      "\\midrule\n",
      "        DRINKS-BEVERAGES &       613 &          191.91 &             7088.31 \\\\\n",
      " DRINKS-LIQUOR,WINE,BEER &        73 &           19.27 &              170.33 \\\\\n",
      "       FOOD-BREAD\\_BAKERY &       134 &           43.00 &             1083.31 \\\\\n",
      "              FOOD-DAIRY &       242 &          146.27 &             1943.90 \\\\\n",
      "               FOOD-DELI &        91 &           74.36 &              516.36 \\\\\n",
      "               FOOD-EGGS &        41 &           31.36 &              346.59 \\\\\n",
      "       FOOD-FROZEN\\_FOODS &        55 &           13.82 &              276.08 \\\\\n",
      "              FOOD-MEATS &        84 &           53.82 &              816.60 \\\\\n",
      "            FOOD-POULTRY &        54 &           45.55 &              977.83 \\\\\n",
      "     FOOD-PREPARED\\_FOODS &        26 &            6.73 &              225.08 \\\\\n",
      "            FOOD-PRODUCE &       306 &          240.82 &             5608.58 \\\\\n",
      "       GROCERY-GROCERY\\_I &      1334 &          399.18 &             8187.60 \\\\\n",
      "      GROCERY-GROCERY\\_II &        14 &            2.09 &               59.40 \\\\\n",
      "\\bottomrule\n",
      "\\end{tabular}\n",
      "\n"
     ]
    }
   ],
   "source": [
    "str_latex = df_results_agg[vars_to_save].to_latex(index=False, float_format='{:3.2f}'.format)\n",
    "print(str_latex)"
   ]
  },
  {
   "cell_type": "code",
   "execution_count": 11,
   "metadata": {},
   "outputs": [
    {
     "data": {
      "text/plain": [
       "3067"
      ]
     },
     "execution_count": 11,
     "metadata": {},
     "output_type": "execute_result"
    }
   ],
   "source": [
    "# Total number of SKU analysed\n",
    "df_results_agg['num_skus'].sum()"
   ]
  },
  {
   "cell_type": "code",
   "execution_count": 13,
   "metadata": {},
   "outputs": [
    {
     "data": {
      "text/plain": [
       "13"
      ]
     },
     "execution_count": 13,
     "metadata": {},
     "output_type": "execute_result"
    }
   ],
   "source": [
    "# number of departments\n",
    "df_results_agg.shape[0]"
   ]
  },
  {
   "cell_type": "code",
   "execution_count": 14,
   "metadata": {},
   "outputs": [
    {
     "data": {
      "text/plain": [
       "3"
      ]
     },
     "execution_count": 14,
     "metadata": {},
     "output_type": "execute_result"
    }
   ],
   "source": [
    "len(df_results_agg['category'].unique().tolist())"
   ]
  },
  {
   "cell_type": "code",
   "execution_count": null,
   "metadata": {},
   "outputs": [],
   "source": []
  }
 ],
 "metadata": {
  "kernelspec": {
   "display_name": "Python 3",
   "language": "python",
   "name": "python3"
  },
  "language_info": {
   "codemirror_mode": {
    "name": "ipython",
    "version": 3
   },
   "file_extension": ".py",
   "mimetype": "text/x-python",
   "name": "python",
   "nbconvert_exporter": "python",
   "pygments_lexer": "ipython3",
   "version": "3.8.4"
  }
 },
 "nbformat": 4,
 "nbformat_minor": 4
}
