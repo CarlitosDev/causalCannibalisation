{
 "cells": [
  {
   "cell_type": "markdown",
   "metadata": {},
   "source": [
    "### CFAV Signal decomposition\n",
    "\n",
    "WIP. Nothing done yet!\n",
    "\n",
    "Decompose the signal into its seasonal components.\n",
    "\n",
    "Use the trend to calculate the availability flag.\n",
    "\n",
    "\n",
    "\n",
    "Updates:\n",
    "\n",
    "    19.09.2020 - First round\n",
    "    28.09.2020 - Calculate HOBBIES\n",
    "    16.10.2020 - Adapt to CFAV"
   ]
  },
  {
   "cell_type": "code",
   "execution_count": 2,
   "metadata": {},
   "outputs": [],
   "source": [
    "import os\n",
    "import glob\n",
    "import pandas as pd\n",
    "import numpy as np\n",
    "import matplotlib.pyplot as plt\n",
    "import fcn_helpers as fhelp\n",
    "import fcn_simulation as fsim\n",
    "from catboost import CatBoostRegressor, Pool\n",
    "from sklearn.model_selection import train_test_split\n",
    "plt.rcParams['figure.figsize'] = [14, 7]\n",
    "fhelp.makeFolder('results')\n",
    "pd.options.display.max_rows = None\n",
    "# Use v2.0 colour cycle\n",
    "def_colours = plt.rcParams['axes.prop_cycle'].by_key()['color']\n",
    "# Fig sizes\n",
    "fig_h = 10\n",
    "fig_w = 18"
   ]
  },
  {
   "cell_type": "code",
   "execution_count": 3,
   "metadata": {},
   "outputs": [],
   "source": [
    "dataFolder = '~/Google Drive/order/Machine Learning Part/data/CorporacionFavorita'\n",
    "xlsx_path = '~/Google Drive/order/Machine Learning Part/data/CorporacionFavorita'\n",
    "graphsFolder = fhelp.fullfile(dataFolder, 'graphs_cannibalisation')"
   ]
  },
  {
   "cell_type": "code",
   "execution_count": 2,
   "metadata": {},
   "outputs": [],
   "source": [
    "dept_id = 'HOBBIES_2'"
   ]
  },
  {
   "cell_type": "code",
   "execution_count": 3,
   "metadata": {},
   "outputs": [],
   "source": [
    "outputBaseFolder = '~/Google Drive/order/Machine Learning Part/data/Walmart(M5)'\n",
    "\n",
    "glob_pattern = os.path.join(os.path.expanduser(outputBaseFolder), '*', dept_id, '*', 'stores', '*.pickle')\n",
    "store_level_files = glob.glob(glob_pattern)\n"
   ]
  },
  {
   "cell_type": "code",
   "execution_count": 4,
   "metadata": {},
   "outputs": [],
   "source": [
    "store_names = ['CA_1','CA_2','CA_3','CA_4', 'TX_1', 'TX_2', 'TX_3', 'WI_1', 'WI_2', 'WI_3']\n",
    "map_stores_to_idx = {store_names[idx_str]:idx_str for idx_str in range(0, len(store_names))}\n",
    "# placeholder for the sales\n",
    "stores = [ [] for idx_str in range(0, len(store_names))]"
   ]
  },
  {
   "cell_type": "code",
   "execution_count": 5,
   "metadata": {},
   "outputs": [],
   "source": [
    "# Keep the preprocessing flags\n",
    "#'snap_flag'\n",
    "#any_event_flag = df_store['event_type_1'].notna() | df_store['event_type_2'].notna()"
   ]
  },
  {
   "cell_type": "code",
   "execution_count": 6,
   "metadata": {},
   "outputs": [],
   "source": [
    "# That should be used in the stats\n",
    "#df_decomposition['heartbeat_flag'].sum()/df_decomposition.shape[0]"
   ]
  },
  {
   "cell_type": "markdown",
   "metadata": {},
   "source": [
    "### Go through all the stores"
   ]
  },
  {
   "cell_type": "code",
   "execution_count": 7,
   "metadata": {},
   "outputs": [
    {
     "name": "stdout",
     "output_type": "stream",
     "text": [
      "Reading /Users/carlos.aguilar/Google Drive/order/Machine Learning Part/data/Walmart(M5)/HOBBIES/HOBBIES_2/HOBBIES_2_100/stores/HOBBIES_2_100_stores.pickle\n",
      "Reading /Users/carlos.aguilar/Google Drive/order/Machine Learning Part/data/Walmart(M5)/HOBBIES/HOBBIES_2/HOBBIES_2_032/stores/HOBBIES_2_032_stores.pickle\n",
      "Reading /Users/carlos.aguilar/Google Drive/order/Machine Learning Part/data/Walmart(M5)/HOBBIES/HOBBIES_2/HOBBIES_2_104/stores/HOBBIES_2_104_stores.pickle\n",
      "Reading /Users/carlos.aguilar/Google Drive/order/Machine Learning Part/data/Walmart(M5)/HOBBIES/HOBBIES_2/HOBBIES_2_062/stores/HOBBIES_2_062_stores.pickle\n"
     ]
    }
   ],
   "source": [
    "for idx, this_file in enumerate(store_level_files):\n",
    "    fhelp.print_every_n(f'Reading {this_file}', idx, 38)\n",
    "    df_stores = fhelp.readPickleFile(this_file)\n",
    "    for df_store in df_stores:\n",
    "       \n",
    "        item_id = df_store.item_id.iloc[0]\n",
    "        store_id = df_store.store_id.iloc[0]\n",
    "\n",
    "        # Season-Trend decomposition using LOESS\n",
    "        df_decomposition = fhelp.decompose_signal(df_store.sales, \\\n",
    "            period_in_days=14, minimum_heartbeat=0.25)\n",
    "        \n",
    "        df_decomposition['sales'] = df_store.sales\n",
    "\n",
    "        rename_map = {iCol: f'{iCol}-{item_id}-{store_id}' for iCol in df_decomposition.columns}\n",
    "        \n",
    "        idx_store = map_stores_to_idx[store_id]\n",
    "\n",
    "        stores[idx_store].append(df_decomposition.rename(columns=rename_map))"
   ]
  },
  {
   "cell_type": "code",
   "execution_count": 8,
   "metadata": {},
   "outputs": [],
   "source": [
    "dates = df_store['date']\n",
    "weekdays = df_store['weekday']\n",
    "\n",
    "nameparts = item_id.split('_')\n",
    "category_id = f'{nameparts[0]}'\n",
    "dept_id = f'{nameparts[0]}_{nameparts[1]}'"
   ]
  },
  {
   "cell_type": "code",
   "execution_count": 9,
   "metadata": {},
   "outputs": [
    {
     "name": "stdout",
     "output_type": "stream",
     "text": [
      "Saving /Users/carlos.aguilar/Google Drive/order/Machine Learning Part/data/Walmart(M5)/sku_decomposition/HOBBIES/HOBBIES_2/CA_1.pickle...\n",
      "Saving /Users/carlos.aguilar/Google Drive/order/Machine Learning Part/data/Walmart(M5)/sku_decomposition/HOBBIES/HOBBIES_2/CA_2.pickle...\n",
      "Saving /Users/carlos.aguilar/Google Drive/order/Machine Learning Part/data/Walmart(M5)/sku_decomposition/HOBBIES/HOBBIES_2/CA_3.pickle...\n",
      "Saving /Users/carlos.aguilar/Google Drive/order/Machine Learning Part/data/Walmart(M5)/sku_decomposition/HOBBIES/HOBBIES_2/CA_4.pickle...\n",
      "Saving /Users/carlos.aguilar/Google Drive/order/Machine Learning Part/data/Walmart(M5)/sku_decomposition/HOBBIES/HOBBIES_2/TX_1.pickle...\n",
      "Saving /Users/carlos.aguilar/Google Drive/order/Machine Learning Part/data/Walmart(M5)/sku_decomposition/HOBBIES/HOBBIES_2/TX_2.pickle...\n",
      "Saving /Users/carlos.aguilar/Google Drive/order/Machine Learning Part/data/Walmart(M5)/sku_decomposition/HOBBIES/HOBBIES_2/TX_3.pickle...\n",
      "Saving /Users/carlos.aguilar/Google Drive/order/Machine Learning Part/data/Walmart(M5)/sku_decomposition/HOBBIES/HOBBIES_2/WI_1.pickle...\n",
      "Saving /Users/carlos.aguilar/Google Drive/order/Machine Learning Part/data/Walmart(M5)/sku_decomposition/HOBBIES/HOBBIES_2/WI_2.pickle...\n",
      "Saving /Users/carlos.aguilar/Google Drive/order/Machine Learning Part/data/Walmart(M5)/sku_decomposition/HOBBIES/HOBBIES_2/WI_3.pickle...\n"
     ]
    }
   ],
   "source": [
    "outputFoldername = os.path.join(os.path.expanduser(outputBaseFolder), 'sku_decomposition', category_id, dept_id)\n",
    "fhelp.makeFolder(outputFoldername)\n",
    "    \n",
    "for idx_store in range(0,10):\n",
    "\n",
    "    df = pd.concat(stores[idx_store], axis=1)    \n",
    "    df['date'] = dates\n",
    "    df['weekdays'] = weekdays\n",
    "    \n",
    "    filename = os.path.join(outputFoldername, f'{store_names[idx_store]}.pickle')\n",
    "    fhelp.toPickleFile(df, filename)\n",
    "    print(f'Saving {filename}...')"
   ]
  },
  {
   "cell_type": "code",
   "execution_count": 10,
   "metadata": {},
   "outputs": [
    {
     "data": {
      "text/html": [
       "<div>\n",
       "<style scoped>\n",
       "    .dataframe tbody tr th:only-of-type {\n",
       "        vertical-align: middle;\n",
       "    }\n",
       "\n",
       "    .dataframe tbody tr th {\n",
       "        vertical-align: top;\n",
       "    }\n",
       "\n",
       "    .dataframe thead th {\n",
       "        text-align: right;\n",
       "    }\n",
       "</style>\n",
       "<table border=\"1\" class=\"dataframe\">\n",
       "  <thead>\n",
       "    <tr style=\"text-align: right;\">\n",
       "      <th></th>\n",
       "      <th>heartbeat_flag-HOBBIES_2_100-CA_1</th>\n",
       "      <th>trend-HOBBIES_2_100-CA_1</th>\n",
       "      <th>seasonal-HOBBIES_2_100-CA_1</th>\n",
       "      <th>residual-HOBBIES_2_100-CA_1</th>\n",
       "      <th>sales-HOBBIES_2_100-CA_1</th>\n",
       "      <th>heartbeat_flag-HOBBIES_2_138-CA_1</th>\n",
       "      <th>trend-HOBBIES_2_138-CA_1</th>\n",
       "      <th>seasonal-HOBBIES_2_138-CA_1</th>\n",
       "      <th>residual-HOBBIES_2_138-CA_1</th>\n",
       "      <th>sales-HOBBIES_2_138-CA_1</th>\n",
       "      <th>...</th>\n",
       "      <th>seasonal-HOBBIES_2_126-CA_1</th>\n",
       "      <th>residual-HOBBIES_2_126-CA_1</th>\n",
       "      <th>sales-HOBBIES_2_126-CA_1</th>\n",
       "      <th>heartbeat_flag-HOBBIES_2_119-CA_1</th>\n",
       "      <th>trend-HOBBIES_2_119-CA_1</th>\n",
       "      <th>seasonal-HOBBIES_2_119-CA_1</th>\n",
       "      <th>residual-HOBBIES_2_119-CA_1</th>\n",
       "      <th>sales-HOBBIES_2_119-CA_1</th>\n",
       "      <th>date</th>\n",
       "      <th>weekdays</th>\n",
       "    </tr>\n",
       "  </thead>\n",
       "  <tbody>\n",
       "    <tr>\n",
       "      <th>0</th>\n",
       "      <td>True</td>\n",
       "      <td>0.700394</td>\n",
       "      <td>-0.616541</td>\n",
       "      <td>-0.083852</td>\n",
       "      <td>0.0</td>\n",
       "      <td>False</td>\n",
       "      <td>0.005312</td>\n",
       "      <td>0.008916</td>\n",
       "      <td>-0.014227</td>\n",
       "      <td>0.0</td>\n",
       "      <td>...</td>\n",
       "      <td>-0.650655</td>\n",
       "      <td>-0.253457</td>\n",
       "      <td>0.0</td>\n",
       "      <td>False</td>\n",
       "      <td>0.012112</td>\n",
       "      <td>0.096395</td>\n",
       "      <td>-0.108506</td>\n",
       "      <td>0.0</td>\n",
       "      <td>2015-04-25</td>\n",
       "      <td>Saturday</td>\n",
       "    </tr>\n",
       "  </tbody>\n",
       "</table>\n",
       "<p>1 rows × 747 columns</p>\n",
       "</div>"
      ],
      "text/plain": [
       "   heartbeat_flag-HOBBIES_2_100-CA_1  trend-HOBBIES_2_100-CA_1  \\\n",
       "0                               True                  0.700394   \n",
       "\n",
       "   seasonal-HOBBIES_2_100-CA_1  residual-HOBBIES_2_100-CA_1  \\\n",
       "0                    -0.616541                    -0.083852   \n",
       "\n",
       "   sales-HOBBIES_2_100-CA_1  heartbeat_flag-HOBBIES_2_138-CA_1  \\\n",
       "0                       0.0                              False   \n",
       "\n",
       "   trend-HOBBIES_2_138-CA_1  seasonal-HOBBIES_2_138-CA_1  \\\n",
       "0                  0.005312                     0.008916   \n",
       "\n",
       "   residual-HOBBIES_2_138-CA_1  sales-HOBBIES_2_138-CA_1  ...  \\\n",
       "0                    -0.014227                       0.0  ...   \n",
       "\n",
       "   seasonal-HOBBIES_2_126-CA_1  residual-HOBBIES_2_126-CA_1  \\\n",
       "0                    -0.650655                    -0.253457   \n",
       "\n",
       "   sales-HOBBIES_2_126-CA_1  heartbeat_flag-HOBBIES_2_119-CA_1  \\\n",
       "0                       0.0                              False   \n",
       "\n",
       "   trend-HOBBIES_2_119-CA_1  seasonal-HOBBIES_2_119-CA_1  \\\n",
       "0                  0.012112                     0.096395   \n",
       "\n",
       "   residual-HOBBIES_2_119-CA_1  sales-HOBBIES_2_119-CA_1       date  weekdays  \n",
       "0                    -0.108506                       0.0 2015-04-25  Saturday  \n",
       "\n",
       "[1 rows x 747 columns]"
      ]
     },
     "execution_count": 10,
     "metadata": {},
     "output_type": "execute_result"
    }
   ],
   "source": [
    "store_name = 'CA_1'\n",
    "filename = os.path.join(outputFoldername, f'{store_name}.pickle')\n",
    "df_A = fhelp.readPickleFile(filename)\n",
    "\n",
    "sku_A = f'HOUSEHOLD_1_283-{store_name}'\n",
    "df_A.head(1)\n"
   ]
  },
  {
   "cell_type": "code",
   "execution_count": 11,
   "metadata": {},
   "outputs": [
    {
     "ename": "KeyError",
     "evalue": "'sales-HOUSEHOLD_1_283-CA_1'",
     "output_type": "error",
     "traceback": [
      "\u001b[0;31m---------------------------------------------------------------------------\u001b[0m",
      "\u001b[0;31mKeyError\u001b[0m                                  Traceback (most recent call last)",
      "\u001b[0;32m/usr/local/lib/python3.8/site-packages/pandas/core/indexes/base.py\u001b[0m in \u001b[0;36mget_loc\u001b[0;34m(self, key, method, tolerance)\u001b[0m\n\u001b[1;32m   2888\u001b[0m             \u001b[0;32mtry\u001b[0m\u001b[0;34m:\u001b[0m\u001b[0;34m\u001b[0m\u001b[0;34m\u001b[0m\u001b[0m\n\u001b[0;32m-> 2889\u001b[0;31m                 \u001b[0;32mreturn\u001b[0m \u001b[0mself\u001b[0m\u001b[0;34m.\u001b[0m\u001b[0m_engine\u001b[0m\u001b[0;34m.\u001b[0m\u001b[0mget_loc\u001b[0m\u001b[0;34m(\u001b[0m\u001b[0mcasted_key\u001b[0m\u001b[0;34m)\u001b[0m\u001b[0;34m\u001b[0m\u001b[0;34m\u001b[0m\u001b[0m\n\u001b[0m\u001b[1;32m   2890\u001b[0m             \u001b[0;32mexcept\u001b[0m \u001b[0mKeyError\u001b[0m \u001b[0;32mas\u001b[0m \u001b[0merr\u001b[0m\u001b[0;34m:\u001b[0m\u001b[0;34m\u001b[0m\u001b[0;34m\u001b[0m\u001b[0m\n",
      "\u001b[0;32mpandas/_libs/index.pyx\u001b[0m in \u001b[0;36mpandas._libs.index.IndexEngine.get_loc\u001b[0;34m()\u001b[0m\n",
      "\u001b[0;32mpandas/_libs/index.pyx\u001b[0m in \u001b[0;36mpandas._libs.index.IndexEngine.get_loc\u001b[0;34m()\u001b[0m\n",
      "\u001b[0;32mpandas/_libs/hashtable_class_helper.pxi\u001b[0m in \u001b[0;36mpandas._libs.hashtable.PyObjectHashTable.get_item\u001b[0;34m()\u001b[0m\n",
      "\u001b[0;32mpandas/_libs/hashtable_class_helper.pxi\u001b[0m in \u001b[0;36mpandas._libs.hashtable.PyObjectHashTable.get_item\u001b[0;34m()\u001b[0m\n",
      "\u001b[0;31mKeyError\u001b[0m: 'sales-HOUSEHOLD_1_283-CA_1'",
      "\nThe above exception was the direct cause of the following exception:\n",
      "\u001b[0;31mKeyError\u001b[0m                                  Traceback (most recent call last)",
      "\u001b[0;32m<ipython-input-11-75f070784995>\u001b[0m in \u001b[0;36m<module>\u001b[0;34m\u001b[0m\n\u001b[1;32m      5\u001b[0m \u001b[0;34m\u001b[0m\u001b[0m\n\u001b[1;32m      6\u001b[0m \u001b[0midx_axis\u001b[0m \u001b[0;34m=\u001b[0m \u001b[0;36m0\u001b[0m\u001b[0;34m\u001b[0m\u001b[0;34m\u001b[0m\u001b[0m\n\u001b[0;32m----> 7\u001b[0;31m ax.plot(x_axis, df_A['sales-' + sku_A], label=f'Sales {store_name}', \n\u001b[0m\u001b[1;32m      8\u001b[0m         color=def_colours[idx_store], linewidth=2, alpha=0.75)\n\u001b[1;32m      9\u001b[0m \u001b[0;34m\u001b[0m\u001b[0m\n",
      "\u001b[0;32m/usr/local/lib/python3.8/site-packages/pandas/core/frame.py\u001b[0m in \u001b[0;36m__getitem__\u001b[0;34m(self, key)\u001b[0m\n\u001b[1;32m   2900\u001b[0m             \u001b[0;32mif\u001b[0m \u001b[0mself\u001b[0m\u001b[0;34m.\u001b[0m\u001b[0mcolumns\u001b[0m\u001b[0;34m.\u001b[0m\u001b[0mnlevels\u001b[0m \u001b[0;34m>\u001b[0m \u001b[0;36m1\u001b[0m\u001b[0;34m:\u001b[0m\u001b[0;34m\u001b[0m\u001b[0;34m\u001b[0m\u001b[0m\n\u001b[1;32m   2901\u001b[0m                 \u001b[0;32mreturn\u001b[0m \u001b[0mself\u001b[0m\u001b[0;34m.\u001b[0m\u001b[0m_getitem_multilevel\u001b[0m\u001b[0;34m(\u001b[0m\u001b[0mkey\u001b[0m\u001b[0;34m)\u001b[0m\u001b[0;34m\u001b[0m\u001b[0;34m\u001b[0m\u001b[0m\n\u001b[0;32m-> 2902\u001b[0;31m             \u001b[0mindexer\u001b[0m \u001b[0;34m=\u001b[0m \u001b[0mself\u001b[0m\u001b[0;34m.\u001b[0m\u001b[0mcolumns\u001b[0m\u001b[0;34m.\u001b[0m\u001b[0mget_loc\u001b[0m\u001b[0;34m(\u001b[0m\u001b[0mkey\u001b[0m\u001b[0;34m)\u001b[0m\u001b[0;34m\u001b[0m\u001b[0;34m\u001b[0m\u001b[0m\n\u001b[0m\u001b[1;32m   2903\u001b[0m             \u001b[0;32mif\u001b[0m \u001b[0mis_integer\u001b[0m\u001b[0;34m(\u001b[0m\u001b[0mindexer\u001b[0m\u001b[0;34m)\u001b[0m\u001b[0;34m:\u001b[0m\u001b[0;34m\u001b[0m\u001b[0;34m\u001b[0m\u001b[0m\n\u001b[1;32m   2904\u001b[0m                 \u001b[0mindexer\u001b[0m \u001b[0;34m=\u001b[0m \u001b[0;34m[\u001b[0m\u001b[0mindexer\u001b[0m\u001b[0;34m]\u001b[0m\u001b[0;34m\u001b[0m\u001b[0;34m\u001b[0m\u001b[0m\n",
      "\u001b[0;32m/usr/local/lib/python3.8/site-packages/pandas/core/indexes/base.py\u001b[0m in \u001b[0;36mget_loc\u001b[0;34m(self, key, method, tolerance)\u001b[0m\n\u001b[1;32m   2889\u001b[0m                 \u001b[0;32mreturn\u001b[0m \u001b[0mself\u001b[0m\u001b[0;34m.\u001b[0m\u001b[0m_engine\u001b[0m\u001b[0;34m.\u001b[0m\u001b[0mget_loc\u001b[0m\u001b[0;34m(\u001b[0m\u001b[0mcasted_key\u001b[0m\u001b[0;34m)\u001b[0m\u001b[0;34m\u001b[0m\u001b[0;34m\u001b[0m\u001b[0m\n\u001b[1;32m   2890\u001b[0m             \u001b[0;32mexcept\u001b[0m \u001b[0mKeyError\u001b[0m \u001b[0;32mas\u001b[0m \u001b[0merr\u001b[0m\u001b[0;34m:\u001b[0m\u001b[0;34m\u001b[0m\u001b[0;34m\u001b[0m\u001b[0m\n\u001b[0;32m-> 2891\u001b[0;31m                 \u001b[0;32mraise\u001b[0m \u001b[0mKeyError\u001b[0m\u001b[0;34m(\u001b[0m\u001b[0mkey\u001b[0m\u001b[0;34m)\u001b[0m \u001b[0;32mfrom\u001b[0m \u001b[0merr\u001b[0m\u001b[0;34m\u001b[0m\u001b[0;34m\u001b[0m\u001b[0m\n\u001b[0m\u001b[1;32m   2892\u001b[0m \u001b[0;34m\u001b[0m\u001b[0m\n\u001b[1;32m   2893\u001b[0m         \u001b[0;32mif\u001b[0m \u001b[0mtolerance\u001b[0m \u001b[0;32mis\u001b[0m \u001b[0;32mnot\u001b[0m \u001b[0;32mNone\u001b[0m\u001b[0;34m:\u001b[0m\u001b[0;34m\u001b[0m\u001b[0;34m\u001b[0m\u001b[0m\n",
      "\u001b[0;31mKeyError\u001b[0m: 'sales-HOUSEHOLD_1_283-CA_1'"
     ]
    },
    {
     "data": {
      "image/png": "[encoded data removed]",
      "text/plain": [
       "<Figure size 1944x480 with 1 Axes>"
      ]
     },
     "metadata": {
      "needs_background": "light"
     },
     "output_type": "display_data"
    }
   ],
   "source": [
    "x_axis = df_A.date\n",
    "idx_store = 0\n",
    "# Plot one store\n",
    "f, ax = plt.subplots(1,1,figsize=(fig_w*1.5, fig_h/1.5))\n",
    "\n",
    "idx_axis = 0\n",
    "ax.plot(x_axis, df_A['sales-' + sku_A], label=f'Sales {store_name}', \n",
    "        color=def_colours[idx_store], linewidth=2, alpha=0.75)\n",
    "\n",
    "ax.plot(x_axis, df_A['trend-' + sku_A], label=f'LOESS trend', \n",
    "        color=def_colours[idx_store+1], linewidth=1.5, alpha=0.95)\n",
    "\n",
    "ax.plot(x_axis, df_A['seasonal-' + sku_A], label=f'Seasonal', \n",
    "        color=def_colours[idx_store+2], linewidth=0.5, alpha=0.5)\n",
    "\n",
    "\n",
    "ax.plot(x_axis, df_A['heartbeat_flag-' + sku_A], label=f'Availability', \n",
    "        color=def_colours[idx_store+3], linewidth=2.5, alpha=0.95)\n",
    "\n",
    "plt.legend()\n",
    "plt.xlabel('dates')\n",
    "plt.ylabel(f'Store sales for {sku_A} ')\n",
    "plt.grid(True)\n",
    "plt.show()"
   ]
  },
  {
   "cell_type": "code",
   "execution_count": null,
   "metadata": {},
   "outputs": [],
   "source": []
  },
  {
   "cell_type": "code",
   "execution_count": null,
   "metadata": {},
   "outputs": [],
   "source": []
  }
 ],
 "metadata": {
  "kernelspec": {
   "display_name": "Python 3",
   "language": "python",
   "name": "python3"
  },
  "language_info": {
   "codemirror_mode": {
    "name": "ipython",
    "version": 3
   },
   "file_extension": ".py",
   "mimetype": "text/x-python",
   "name": "python",
   "nbconvert_exporter": "python",
   "pygments_lexer": "ipython3",
   "version": "3.8.4"
  }
 },
 "nbformat": 4,
 "nbformat_minor": 4
}
