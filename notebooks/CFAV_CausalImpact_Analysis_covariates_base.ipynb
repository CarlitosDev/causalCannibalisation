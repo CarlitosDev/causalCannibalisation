{
 "cells": [
  {
   "cell_type": "markdown",
   "metadata": {},
   "source": [
    "### BASE (Papermill) >> Analysis of cannibalisation during PROMOTIONAL periods using Causal Impact (per store)\n",
    "\n",
    "\n",
    "* Read the department/store data\n",
    "* Read the calculated availability data or calculate it on demand\n",
    "* Compare PROMO sales vs NON PROMO given the availabily\n",
    "* Find the products that change their average sales\n",
    "* Pick a pair of products and try the sales weighted distance analysis\n",
    "* Saves the pairs in 'sku_pair_analysis'\n",
    "\n",
    "This notebook comes from the experiments in `CFAV_simulate_cannibalisation_CausalImpact.ipynb`\n",
    "\n",
    "\n",
    "Updates:\n",
    "\n",
    "26.10.2020 - First attempt to out it all together\n",
    "\n",
    "31.10.2020 - Adding post-promotional checks\n",
    "\n",
    "06.11.2020 - Add the trend of the total sales\n",
    "\n",
    "25.11.2020 - (Apart from Mom's bday) Adding the covariates for robust estimation"
   ]
  },
  {
   "cell_type": "code",
   "execution_count": 1,
   "metadata": {
    "collapsed": true,
    "jupyter": {
     "outputs_hidden": true
    }
   },
   "outputs": [],
   "source": [
    "import os\n",
    "import glob\n",
    "import pandas as pd\n",
    "import numpy as np\n",
    "import matplotlib.pyplot as plt\n",
    "import fcn_helpers as fhelp\n",
    "import fcn_simulation as fsim\n",
    "from causalimpact import CausalImpact\n",
    "import promotional_helpers as promies\n",
    "from statsmodels.tsa.seasonal import STL\n",
    "\n",
    "#plt.rcParams['figure.figsize'] = [14, 7]\n",
    "fhelp.makeFolder('results')\n",
    "pd.options.display.max_rows = None\n",
    "# Use v2.0 colour cycle\n",
    "def_colours = plt.rcParams['axes.prop_cycle'].by_key()['color']\n",
    "# Fig sizes\n",
    "fig_h = 10\n",
    "fig_w = 18\n",
    "\n",
    "# inliners\n",
    "fcn_compare = lambda a,b: abs(a-b)/max(a,b)\n",
    "fcn_compare_snap_vs_regular = lambda snap,reg: snap/reg\n",
    "mapper_family_to_category = fhelp.cfav_get_map_dept_to_cat()"
   ]
  },
  {
   "cell_type": "code",
   "execution_count": 2,
   "metadata": {
    "collapsed": true,
    "jupyter": {
     "outputs_hidden": true
    }
   },
   "outputs": [],
   "source": [
    "dataFolder = os.path.expanduser('~/Google Drive/order/Machine Learning Part/data/CorporacionFavorita')\n",
    "xlsx_path = os.path.expanduser('~/Google Drive/order/Machine Learning Part/data/CorporacionFavorita')\n",
    "graphsFolder = fhelp.fullfile(dataFolder, 'graphs_cannibalisation')\n",
    "results_folder = 'CausalImpactResultsCovariates'"
   ]
  },
  {
   "cell_type": "code",
   "execution_count": 3,
   "metadata": {
    "collapsed": true,
    "jupyter": {
     "outputs_hidden": true
    },
    "tags": [
     "parameters"
    ]
   },
   "outputs": [],
   "source": [
    "# Save the plots\n",
    "save_all_cannibals = False\n",
    "\n",
    "store_name = 'Pichincha_47_A_14'\n",
    "#store_name = 'Pichincha_49_A_11'\n",
    "dept_id = 'LIQUOR,WINE,BEER'\n",
    "dept_id ='BREAD_BAKERY'\n",
    "#dept_id ='FROZEN+FOODS'\n",
    "dept_id = 'DAIRY'\n",
    "dept_id = 'GROCERY_I'\n",
    "dept_id = 'PRODUCE'\n",
    "\n",
    "# variables that pertain to the new code\n",
    "\n",
    "# Potential cannibals\n",
    "# This threshold is used to detect uplifters based on the difference in average sales\n",
    "sales_threshold = 1/3\n",
    "# min AVG sales to be considered\n",
    "min_avg_sales = 10\n",
    "\n",
    "\n",
    "# This is the minimum bump between regular and promo\n",
    "# and promo back to regular *0.25\n",
    "min_diff_in_units_from_reg_to_promo = 10\n",
    "# when analysing the SKUs\n",
    "min_promo_days=3\n",
    "min_regular_days=6\n",
    "\n",
    "# values for the CI analysis\n",
    "min_ratio_change = 0.4\n",
    "do_exclude_promos_SKU_B = True\n",
    "# This flag is pretty good for debugging/development\n",
    "be_verbose=False\n",
    "\n",
    "\n",
    "\n",
    "# LOESS - weekly\n",
    "period_in_days = 7\n",
    "\n",
    "# If true, use the sales without the weekly pattern\n",
    "do_decomposition = False\n",
    "\n",
    "\n",
    "# This threshold is used to detect the reduction in sales that one uplifter causes\n",
    "cannibalisation_threshold = 1/3\n",
    "\n",
    "# min days/times that both products overlap during the promotions of the cannibal\n",
    "min_snap_days = 10\n",
    "\n",
    "# N/A\n",
    "#price_threshold = 2"
   ]
  },
  {
   "cell_type": "markdown",
   "metadata": {},
   "source": [
    "#### Read the store level data"
   ]
  },
  {
   "cell_type": "code",
   "execution_count": 4,
   "metadata": {
    "collapsed": true,
    "jupyter": {
     "outputs_hidden": true
    }
   },
   "outputs": [
    {
     "data": {
      "text/html": [
       "<div>\n",
       "<style scoped>\n",
       "    .dataframe tbody tr th:only-of-type {\n",
       "        vertical-align: middle;\n",
       "    }\n",
       "\n",
       "    .dataframe tbody tr th {\n",
       "        vertical-align: top;\n",
       "    }\n",
       "\n",
       "    .dataframe thead th {\n",
       "        text-align: right;\n",
       "    }\n",
       "</style>\n",
       "<table border=\"1\" class=\"dataframe\">\n",
       "  <thead>\n",
       "    <tr style=\"text-align: right;\">\n",
       "      <th></th>\n",
       "      <th>date</th>\n",
       "      <th>weekdays</th>\n",
       "      <th>sales-PRODUCE_1149069-Pichincha_47_A_14</th>\n",
       "      <th>promotion_flag-PRODUCE_1149069-Pichincha_47_A_14</th>\n",
       "      <th>sales-PRODUCE_1473393-Pichincha_47_A_14</th>\n",
       "      <th>promotion_flag-PRODUCE_1473393-Pichincha_47_A_14</th>\n",
       "      <th>sales-PRODUCE_1473394-Pichincha_47_A_14</th>\n",
       "      <th>promotion_flag-PRODUCE_1473394-Pichincha_47_A_14</th>\n",
       "      <th>sales-PRODUCE_1473396-Pichincha_47_A_14</th>\n",
       "      <th>promotion_flag-PRODUCE_1473396-Pichincha_47_A_14</th>\n",
       "      <th>...</th>\n",
       "      <th>promotion_flag-PRODUCE_2037487-Pichincha_47_A_14</th>\n",
       "      <th>sales-PRODUCE_2040637-Pichincha_47_A_14</th>\n",
       "      <th>promotion_flag-PRODUCE_2040637-Pichincha_47_A_14</th>\n",
       "      <th>sales-PRODUCE_2042210-Pichincha_47_A_14</th>\n",
       "      <th>promotion_flag-PRODUCE_2042210-Pichincha_47_A_14</th>\n",
       "      <th>sales-PRODUCE_2049081-Pichincha_47_A_14</th>\n",
       "      <th>promotion_flag-PRODUCE_2049081-Pichincha_47_A_14</th>\n",
       "      <th>sales-PRODUCE_2111870-Pichincha_47_A_14</th>\n",
       "      <th>promotion_flag-PRODUCE_2111870-Pichincha_47_A_14</th>\n",
       "      <th>total_units</th>\n",
       "    </tr>\n",
       "  </thead>\n",
       "  <tbody>\n",
       "    <tr>\n",
       "      <th>0</th>\n",
       "      <td>2017-01-01</td>\n",
       "      <td>Sunday</td>\n",
       "      <td>0.0</td>\n",
       "      <td>False</td>\n",
       "      <td>0.000</td>\n",
       "      <td>False</td>\n",
       "      <td>0.000</td>\n",
       "      <td>False</td>\n",
       "      <td>0.000</td>\n",
       "      <td>False</td>\n",
       "      <td>...</td>\n",
       "      <td>False</td>\n",
       "      <td>0.0</td>\n",
       "      <td>False</td>\n",
       "      <td>0.0</td>\n",
       "      <td>False</td>\n",
       "      <td>0.0</td>\n",
       "      <td>False</td>\n",
       "      <td>0.0</td>\n",
       "      <td>False</td>\n",
       "      <td>0.00</td>\n",
       "    </tr>\n",
       "    <tr>\n",
       "      <th>1</th>\n",
       "      <td>2017-01-02</td>\n",
       "      <td>Monday</td>\n",
       "      <td>19.0</td>\n",
       "      <td>False</td>\n",
       "      <td>94.504</td>\n",
       "      <td>False</td>\n",
       "      <td>79.284</td>\n",
       "      <td>False</td>\n",
       "      <td>16.726</td>\n",
       "      <td>False</td>\n",
       "      <td>...</td>\n",
       "      <td>False</td>\n",
       "      <td>0.0</td>\n",
       "      <td>False</td>\n",
       "      <td>0.0</td>\n",
       "      <td>False</td>\n",
       "      <td>0.0</td>\n",
       "      <td>False</td>\n",
       "      <td>0.0</td>\n",
       "      <td>False</td>\n",
       "      <td>10746.39</td>\n",
       "    </tr>\n",
       "  </tbody>\n",
       "</table>\n",
       "<p>2 rows × 615 columns</p>\n",
       "</div>"
      ],
      "text/plain": [
       "        date weekdays  sales-PRODUCE_1149069-Pichincha_47_A_14  \\\n",
       "0 2017-01-01   Sunday                                      0.0   \n",
       "1 2017-01-02   Monday                                     19.0   \n",
       "\n",
       "   promotion_flag-PRODUCE_1149069-Pichincha_47_A_14  \\\n",
       "0                                             False   \n",
       "1                                             False   \n",
       "\n",
       "   sales-PRODUCE_1473393-Pichincha_47_A_14  \\\n",
       "0                                    0.000   \n",
       "1                                   94.504   \n",
       "\n",
       "   promotion_flag-PRODUCE_1473393-Pichincha_47_A_14  \\\n",
       "0                                             False   \n",
       "1                                             False   \n",
       "\n",
       "   sales-PRODUCE_1473394-Pichincha_47_A_14  \\\n",
       "0                                    0.000   \n",
       "1                                   79.284   \n",
       "\n",
       "   promotion_flag-PRODUCE_1473394-Pichincha_47_A_14  \\\n",
       "0                                             False   \n",
       "1                                             False   \n",
       "\n",
       "   sales-PRODUCE_1473396-Pichincha_47_A_14  \\\n",
       "0                                    0.000   \n",
       "1                                   16.726   \n",
       "\n",
       "   promotion_flag-PRODUCE_1473396-Pichincha_47_A_14  ...  \\\n",
       "0                                             False  ...   \n",
       "1                                             False  ...   \n",
       "\n",
       "   promotion_flag-PRODUCE_2037487-Pichincha_47_A_14  \\\n",
       "0                                             False   \n",
       "1                                             False   \n",
       "\n",
       "   sales-PRODUCE_2040637-Pichincha_47_A_14  \\\n",
       "0                                      0.0   \n",
       "1                                      0.0   \n",
       "\n",
       "   promotion_flag-PRODUCE_2040637-Pichincha_47_A_14  \\\n",
       "0                                             False   \n",
       "1                                             False   \n",
       "\n",
       "   sales-PRODUCE_2042210-Pichincha_47_A_14  \\\n",
       "0                                      0.0   \n",
       "1                                      0.0   \n",
       "\n",
       "   promotion_flag-PRODUCE_2042210-Pichincha_47_A_14  \\\n",
       "0                                             False   \n",
       "1                                             False   \n",
       "\n",
       "   sales-PRODUCE_2049081-Pichincha_47_A_14  \\\n",
       "0                                      0.0   \n",
       "1                                      0.0   \n",
       "\n",
       "   promotion_flag-PRODUCE_2049081-Pichincha_47_A_14  \\\n",
       "0                                             False   \n",
       "1                                             False   \n",
       "\n",
       "   sales-PRODUCE_2111870-Pichincha_47_A_14  \\\n",
       "0                                      0.0   \n",
       "1                                      0.0   \n",
       "\n",
       "   promotion_flag-PRODUCE_2111870-Pichincha_47_A_14  total_units  \n",
       "0                                             False         0.00  \n",
       "1                                             False     10746.39  \n",
       "\n",
       "[2 rows x 615 columns]"
      ]
     },
     "execution_count": 4,
     "metadata": {},
     "output_type": "execute_result"
    }
   ],
   "source": [
    "# Read departement sales for the current store\n",
    "category_id = mapper_family_to_category.get(dept_id, '')\n",
    "foldername = os.path.join(dataFolder, category_id, dept_id, 'store_sales')\n",
    "filename = os.path.join(foldername, f'{store_name}.pickle')\n",
    "df_store = fhelp.readPickleFile(filename)\n",
    "\n",
    "sales_vars = [iVar for iVar in df_store.columns if 'sales-' in iVar]\n",
    "promotion_vars = [iVar for iVar in df_store.columns if 'promotion_flag-' in iVar]\n",
    "\n",
    "df_store.head(2)"
   ]
  },
  {
   "cell_type": "markdown",
   "metadata": {},
   "source": [
    "#### Add weather data"
   ]
  },
  {
   "cell_type": "code",
   "execution_count": 5,
   "metadata": {
    "collapsed": true,
    "jupyter": {
     "outputs_hidden": true
    }
   },
   "outputs": [],
   "source": [
    "weather_file = os.path.join(dataFolder, 'weather_data','daily_weather_in_Quito2017_no_header.pickle')\n",
    "df_weather = pd.read_pickle(weather_file)[['date', 'avg_temp','wind_speed','total_precipitation', 'T2M_MAX_adj', 'T2M_MIN_adj']]\n",
    "\n",
    "df_store = pd.merge(df_store, df_weather, how='inner', on='date')"
   ]
  },
  {
   "cell_type": "markdown",
   "metadata": {},
   "source": [
    "#### Add the trend of the department sales"
   ]
  },
  {
   "cell_type": "code",
   "execution_count": 6,
   "metadata": {
    "collapsed": true,
    "jupyter": {
     "outputs_hidden": true
    }
   },
   "outputs": [
    {
     "data": {
      "text/html": [
       "<div>\n",
       "<style scoped>\n",
       "    .dataframe tbody tr th:only-of-type {\n",
       "        vertical-align: middle;\n",
       "    }\n",
       "\n",
       "    .dataframe tbody tr th {\n",
       "        vertical-align: top;\n",
       "    }\n",
       "\n",
       "    .dataframe thead th {\n",
       "        text-align: right;\n",
       "    }\n",
       "</style>\n",
       "<table border=\"1\" class=\"dataframe\">\n",
       "  <thead>\n",
       "    <tr style=\"text-align: right;\">\n",
       "      <th></th>\n",
       "      <th>date</th>\n",
       "      <th>weekdays</th>\n",
       "      <th>sales-PRODUCE_1149069-Pichincha_47_A_14</th>\n",
       "      <th>promotion_flag-PRODUCE_1149069-Pichincha_47_A_14</th>\n",
       "      <th>sales-PRODUCE_1473393-Pichincha_47_A_14</th>\n",
       "      <th>promotion_flag-PRODUCE_1473393-Pichincha_47_A_14</th>\n",
       "      <th>sales-PRODUCE_1473394-Pichincha_47_A_14</th>\n",
       "      <th>promotion_flag-PRODUCE_1473394-Pichincha_47_A_14</th>\n",
       "      <th>sales-PRODUCE_1473396-Pichincha_47_A_14</th>\n",
       "      <th>promotion_flag-PRODUCE_1473396-Pichincha_47_A_14</th>\n",
       "      <th>...</th>\n",
       "      <th>promotion_flag-PRODUCE_2049081-Pichincha_47_A_14</th>\n",
       "      <th>sales-PRODUCE_2111870-Pichincha_47_A_14</th>\n",
       "      <th>promotion_flag-PRODUCE_2111870-Pichincha_47_A_14</th>\n",
       "      <th>total_units</th>\n",
       "      <th>avg_temp</th>\n",
       "      <th>wind_speed</th>\n",
       "      <th>total_precipitation</th>\n",
       "      <th>T2M_MAX_adj</th>\n",
       "      <th>T2M_MIN_adj</th>\n",
       "      <th>total_units_trend</th>\n",
       "    </tr>\n",
       "  </thead>\n",
       "  <tbody>\n",
       "    <tr>\n",
       "      <th>0</th>\n",
       "      <td>2017-01-01</td>\n",
       "      <td>Sunday</td>\n",
       "      <td>0.0</td>\n",
       "      <td>False</td>\n",
       "      <td>0.000</td>\n",
       "      <td>False</td>\n",
       "      <td>0.000</td>\n",
       "      <td>False</td>\n",
       "      <td>0.000</td>\n",
       "      <td>False</td>\n",
       "      <td>...</td>\n",
       "      <td>False</td>\n",
       "      <td>0.0</td>\n",
       "      <td>False</td>\n",
       "      <td>0.00</td>\n",
       "      <td>11.03</td>\n",
       "      <td>3.62</td>\n",
       "      <td>6.29</td>\n",
       "      <td>20.139417</td>\n",
       "      <td>8.599041</td>\n",
       "      <td>5665.431807</td>\n",
       "    </tr>\n",
       "    <tr>\n",
       "      <th>1</th>\n",
       "      <td>2017-01-02</td>\n",
       "      <td>Monday</td>\n",
       "      <td>19.0</td>\n",
       "      <td>False</td>\n",
       "      <td>94.504</td>\n",
       "      <td>False</td>\n",
       "      <td>79.284</td>\n",
       "      <td>False</td>\n",
       "      <td>16.726</td>\n",
       "      <td>False</td>\n",
       "      <td>...</td>\n",
       "      <td>False</td>\n",
       "      <td>0.0</td>\n",
       "      <td>False</td>\n",
       "      <td>10746.39</td>\n",
       "      <td>11.13</td>\n",
       "      <td>4.15</td>\n",
       "      <td>4.42</td>\n",
       "      <td>20.100002</td>\n",
       "      <td>8.515361</td>\n",
       "      <td>6219.798840</td>\n",
       "    </tr>\n",
       "  </tbody>\n",
       "</table>\n",
       "<p>2 rows × 621 columns</p>\n",
       "</div>"
      ],
      "text/plain": [
       "        date weekdays  sales-PRODUCE_1149069-Pichincha_47_A_14  \\\n",
       "0 2017-01-01   Sunday                                      0.0   \n",
       "1 2017-01-02   Monday                                     19.0   \n",
       "\n",
       "   promotion_flag-PRODUCE_1149069-Pichincha_47_A_14  \\\n",
       "0                                             False   \n",
       "1                                             False   \n",
       "\n",
       "   sales-PRODUCE_1473393-Pichincha_47_A_14  \\\n",
       "0                                    0.000   \n",
       "1                                   94.504   \n",
       "\n",
       "   promotion_flag-PRODUCE_1473393-Pichincha_47_A_14  \\\n",
       "0                                             False   \n",
       "1                                             False   \n",
       "\n",
       "   sales-PRODUCE_1473394-Pichincha_47_A_14  \\\n",
       "0                                    0.000   \n",
       "1                                   79.284   \n",
       "\n",
       "   promotion_flag-PRODUCE_1473394-Pichincha_47_A_14  \\\n",
       "0                                             False   \n",
       "1                                             False   \n",
       "\n",
       "   sales-PRODUCE_1473396-Pichincha_47_A_14  \\\n",
       "0                                    0.000   \n",
       "1                                   16.726   \n",
       "\n",
       "   promotion_flag-PRODUCE_1473396-Pichincha_47_A_14  ...  \\\n",
       "0                                             False  ...   \n",
       "1                                             False  ...   \n",
       "\n",
       "   promotion_flag-PRODUCE_2049081-Pichincha_47_A_14  \\\n",
       "0                                             False   \n",
       "1                                             False   \n",
       "\n",
       "   sales-PRODUCE_2111870-Pichincha_47_A_14  \\\n",
       "0                                      0.0   \n",
       "1                                      0.0   \n",
       "\n",
       "   promotion_flag-PRODUCE_2111870-Pichincha_47_A_14  total_units  avg_temp  \\\n",
       "0                                             False         0.00     11.03   \n",
       "1                                             False     10746.39     11.13   \n",
       "\n",
       "   wind_speed  total_precipitation  T2M_MAX_adj  T2M_MIN_adj  \\\n",
       "0        3.62                 6.29    20.139417     8.599041   \n",
       "1        4.15                 4.42    20.100002     8.515361   \n",
       "\n",
       "   total_units_trend  \n",
       "0        5665.431807  \n",
       "1        6219.798840  \n",
       "\n",
       "[2 rows x 621 columns]"
      ]
     },
     "execution_count": 6,
     "metadata": {},
     "output_type": "execute_result"
    }
   ],
   "source": [
    "sales_decomposition_LOESS = STL(df_store['total_units'], period=period_in_days).fit()\n",
    "df_store['total_units_trend'] = sales_decomposition_LOESS.trend\n",
    "df_store.head(2)"
   ]
  },
  {
   "cell_type": "code",
   "execution_count": 7,
   "metadata": {
    "collapsed": true,
    "jupyter": {
     "outputs_hidden": true
    }
   },
   "outputs": [],
   "source": [
    "\n",
    "\n",
    "category_id = mapper_family_to_category.get(dept_id, '')\n",
    "foldername = os.path.join(dataFolder, results_folder, category_id, dept_id)\n",
    "fhelp.makeFolder(foldername)\n",
    "filename = os.path.join(foldername, f'{dept_id}-{store_name}.pickle')"
   ]
  },
  {
   "cell_type": "markdown",
   "metadata": {},
   "source": [
    "#### Exclude the holiday periods from the analysis\n",
    "Include it in the skus's heartbeat in the analysis below"
   ]
  },
  {
   "cell_type": "code",
   "execution_count": 8,
   "metadata": {
    "collapsed": true,
    "jupyter": {
     "outputs_hidden": true
    }
   },
   "outputs": [],
   "source": [
    "preXmas  = df_store.date >= '2016-12-21'\n",
    "postXmas = df_store.date < '2017-01-04'\n",
    "idx_Xmas = (preXmas & postXmas).values\n",
    "\n",
    "\n",
    "# at the moment only Xmas\n",
    "idx_holiday_to_exclude = idx_Xmas"
   ]
  },
  {
   "cell_type": "markdown",
   "metadata": {},
   "source": [
    "#### Read the store level sales decomposition\n",
    "Generate the file if required\n",
    "- (sales)\n",
    "- heartbeat\n",
    "- trend\n",
    "- seasonal \n",
    "- residual"
   ]
  },
  {
   "cell_type": "code",
   "execution_count": 9,
   "metadata": {
    "collapsed": true,
    "jupyter": {
     "outputs_hidden": true
    }
   },
   "outputs": [
    {
     "data": {
      "text/html": [
       "<div>\n",
       "<style scoped>\n",
       "    .dataframe tbody tr th:only-of-type {\n",
       "        vertical-align: middle;\n",
       "    }\n",
       "\n",
       "    .dataframe tbody tr th {\n",
       "        vertical-align: top;\n",
       "    }\n",
       "\n",
       "    .dataframe thead th {\n",
       "        text-align: right;\n",
       "    }\n",
       "</style>\n",
       "<table border=\"1\" class=\"dataframe\">\n",
       "  <thead>\n",
       "    <tr style=\"text-align: right;\">\n",
       "      <th></th>\n",
       "      <th>heartbeat_flag-PRODUCE_1149069-Pichincha_47_A_14</th>\n",
       "      <th>trend-PRODUCE_1149069-Pichincha_47_A_14</th>\n",
       "      <th>seasonal-PRODUCE_1149069-Pichincha_47_A_14</th>\n",
       "      <th>residual-PRODUCE_1149069-Pichincha_47_A_14</th>\n",
       "      <th>heartbeat_flag-PRODUCE_1473393-Pichincha_47_A_14</th>\n",
       "      <th>trend-PRODUCE_1473393-Pichincha_47_A_14</th>\n",
       "      <th>seasonal-PRODUCE_1473393-Pichincha_47_A_14</th>\n",
       "      <th>residual-PRODUCE_1473393-Pichincha_47_A_14</th>\n",
       "      <th>heartbeat_flag-PRODUCE_1473394-Pichincha_47_A_14</th>\n",
       "      <th>trend-PRODUCE_1473394-Pichincha_47_A_14</th>\n",
       "      <th>...</th>\n",
       "      <th>heartbeat_flag-PRODUCE_2049081-Pichincha_47_A_14</th>\n",
       "      <th>trend-PRODUCE_2049081-Pichincha_47_A_14</th>\n",
       "      <th>seasonal-PRODUCE_2049081-Pichincha_47_A_14</th>\n",
       "      <th>residual-PRODUCE_2049081-Pichincha_47_A_14</th>\n",
       "      <th>heartbeat_flag-PRODUCE_2111870-Pichincha_47_A_14</th>\n",
       "      <th>trend-PRODUCE_2111870-Pichincha_47_A_14</th>\n",
       "      <th>seasonal-PRODUCE_2111870-Pichincha_47_A_14</th>\n",
       "      <th>residual-PRODUCE_2111870-Pichincha_47_A_14</th>\n",
       "      <th>date</th>\n",
       "      <th>weekdays</th>\n",
       "    </tr>\n",
       "  </thead>\n",
       "  <tbody>\n",
       "    <tr>\n",
       "      <th>0</th>\n",
       "      <td>True</td>\n",
       "      <td>9.043584</td>\n",
       "      <td>-0.235571</td>\n",
       "      <td>-8.808014</td>\n",
       "      <td>True</td>\n",
       "      <td>42.800951</td>\n",
       "      <td>-19.710199</td>\n",
       "      <td>-23.090753</td>\n",
       "      <td>True</td>\n",
       "      <td>45.687401</td>\n",
       "      <td>...</td>\n",
       "      <td>False</td>\n",
       "      <td>-6.474897e-07</td>\n",
       "      <td>-2.045778e-07</td>\n",
       "      <td>8.520675e-07</td>\n",
       "      <td>False</td>\n",
       "      <td>-6.596094e-20</td>\n",
       "      <td>5.059209e-20</td>\n",
       "      <td>1.536885e-20</td>\n",
       "      <td>2017-01-01</td>\n",
       "      <td>Sunday</td>\n",
       "    </tr>\n",
       "    <tr>\n",
       "      <th>1</th>\n",
       "      <td>True</td>\n",
       "      <td>10.519302</td>\n",
       "      <td>-0.036504</td>\n",
       "      <td>8.517203</td>\n",
       "      <td>True</td>\n",
       "      <td>47.821638</td>\n",
       "      <td>32.343363</td>\n",
       "      <td>14.338999</td>\n",
       "      <td>True</td>\n",
       "      <td>47.717297</td>\n",
       "      <td>...</td>\n",
       "      <td>False</td>\n",
       "      <td>-5.478036e-07</td>\n",
       "      <td>3.179813e-07</td>\n",
       "      <td>2.298223e-07</td>\n",
       "      <td>False</td>\n",
       "      <td>-5.103465e-20</td>\n",
       "      <td>4.789010e-20</td>\n",
       "      <td>3.144545e-21</td>\n",
       "      <td>2017-01-02</td>\n",
       "      <td>Monday</td>\n",
       "    </tr>\n",
       "    <tr>\n",
       "      <th>2</th>\n",
       "      <td>True</td>\n",
       "      <td>11.956221</td>\n",
       "      <td>-6.637622</td>\n",
       "      <td>2.681401</td>\n",
       "      <td>True</td>\n",
       "      <td>52.482605</td>\n",
       "      <td>-1.802934</td>\n",
       "      <td>6.035328</td>\n",
       "      <td>True</td>\n",
       "      <td>49.525383</td>\n",
       "      <td>...</td>\n",
       "      <td>False</td>\n",
       "      <td>-4.244715e-07</td>\n",
       "      <td>1.013116e-06</td>\n",
       "      <td>-5.886443e-07</td>\n",
       "      <td>False</td>\n",
       "      <td>-3.592699e-20</td>\n",
       "      <td>4.515809e-20</td>\n",
       "      <td>-9.231098e-21</td>\n",
       "      <td>2017-01-03</td>\n",
       "      <td>Tuesday</td>\n",
       "    </tr>\n",
       "  </tbody>\n",
       "</table>\n",
       "<p>3 rows × 1226 columns</p>\n",
       "</div>"
      ],
      "text/plain": [
       "   heartbeat_flag-PRODUCE_1149069-Pichincha_47_A_14  \\\n",
       "0                                              True   \n",
       "1                                              True   \n",
       "2                                              True   \n",
       "\n",
       "   trend-PRODUCE_1149069-Pichincha_47_A_14  \\\n",
       "0                                 9.043584   \n",
       "1                                10.519302   \n",
       "2                                11.956221   \n",
       "\n",
       "   seasonal-PRODUCE_1149069-Pichincha_47_A_14  \\\n",
       "0                                   -0.235571   \n",
       "1                                   -0.036504   \n",
       "2                                   -6.637622   \n",
       "\n",
       "   residual-PRODUCE_1149069-Pichincha_47_A_14  \\\n",
       "0                                   -8.808014   \n",
       "1                                    8.517203   \n",
       "2                                    2.681401   \n",
       "\n",
       "   heartbeat_flag-PRODUCE_1473393-Pichincha_47_A_14  \\\n",
       "0                                              True   \n",
       "1                                              True   \n",
       "2                                              True   \n",
       "\n",
       "   trend-PRODUCE_1473393-Pichincha_47_A_14  \\\n",
       "0                                42.800951   \n",
       "1                                47.821638   \n",
       "2                                52.482605   \n",
       "\n",
       "   seasonal-PRODUCE_1473393-Pichincha_47_A_14  \\\n",
       "0                                  -19.710199   \n",
       "1                                   32.343363   \n",
       "2                                   -1.802934   \n",
       "\n",
       "   residual-PRODUCE_1473393-Pichincha_47_A_14  \\\n",
       "0                                  -23.090753   \n",
       "1                                   14.338999   \n",
       "2                                    6.035328   \n",
       "\n",
       "   heartbeat_flag-PRODUCE_1473394-Pichincha_47_A_14  \\\n",
       "0                                              True   \n",
       "1                                              True   \n",
       "2                                              True   \n",
       "\n",
       "   trend-PRODUCE_1473394-Pichincha_47_A_14  ...  \\\n",
       "0                                45.687401  ...   \n",
       "1                                47.717297  ...   \n",
       "2                                49.525383  ...   \n",
       "\n",
       "   heartbeat_flag-PRODUCE_2049081-Pichincha_47_A_14  \\\n",
       "0                                             False   \n",
       "1                                             False   \n",
       "2                                             False   \n",
       "\n",
       "   trend-PRODUCE_2049081-Pichincha_47_A_14  \\\n",
       "0                            -6.474897e-07   \n",
       "1                            -5.478036e-07   \n",
       "2                            -4.244715e-07   \n",
       "\n",
       "   seasonal-PRODUCE_2049081-Pichincha_47_A_14  \\\n",
       "0                               -2.045778e-07   \n",
       "1                                3.179813e-07   \n",
       "2                                1.013116e-06   \n",
       "\n",
       "   residual-PRODUCE_2049081-Pichincha_47_A_14  \\\n",
       "0                                8.520675e-07   \n",
       "1                                2.298223e-07   \n",
       "2                               -5.886443e-07   \n",
       "\n",
       "   heartbeat_flag-PRODUCE_2111870-Pichincha_47_A_14  \\\n",
       "0                                             False   \n",
       "1                                             False   \n",
       "2                                             False   \n",
       "\n",
       "   trend-PRODUCE_2111870-Pichincha_47_A_14  \\\n",
       "0                            -6.596094e-20   \n",
       "1                            -5.103465e-20   \n",
       "2                            -3.592699e-20   \n",
       "\n",
       "   seasonal-PRODUCE_2111870-Pichincha_47_A_14  \\\n",
       "0                                5.059209e-20   \n",
       "1                                4.789010e-20   \n",
       "2                                4.515809e-20   \n",
       "\n",
       "   residual-PRODUCE_2111870-Pichincha_47_A_14       date  weekdays  \n",
       "0                                1.536885e-20 2017-01-01    Sunday  \n",
       "1                                3.144545e-21 2017-01-02    Monday  \n",
       "2                               -9.231098e-21 2017-01-03   Tuesday  \n",
       "\n",
       "[3 rows x 1226 columns]"
      ]
     },
     "execution_count": 9,
     "metadata": {},
     "output_type": "execute_result"
    }
   ],
   "source": [
    "# Sales decomposition - on demand\n",
    "folderDecomposition = os.path.join(os.path.expanduser(dataFolder), 'sku_decomposition', category_id, dept_id)\n",
    "filename = os.path.join(folderDecomposition, f'{store_name}.pickle')\n",
    "\n",
    "if os.path.exists(filename):\n",
    "    df_components = fhelp.readPickleFile(filename)\n",
    "else:\n",
    "    decomposed_skus = []\n",
    "\n",
    "    # Season-Trend decomposition using LOESS\n",
    "    for idx_sku, sku_name in enumerate(sales_vars):\n",
    "\n",
    "        item_id = sku_name.split('-')[1]\n",
    "\n",
    "        current_sales = df_store[sku_name]\n",
    "\n",
    "        df_decomposition = fhelp.decompose_signal(current_sales, \\\n",
    "            period_in_days=period_in_days, minimum_heartbeat=0.85)\n",
    "\n",
    "        rename_map = {iCol: f'{iCol}-{item_id}-{store_name}' for iCol in df_decomposition.columns}\n",
    "        decomposed_skus.append(df_decomposition.rename(columns=rename_map))\n",
    "\n",
    "    df_components = pd.concat(decomposed_skus, axis=1)\n",
    "\n",
    "    df_components['date'] = df_store.date\n",
    "    df_components['weekdays'] = df_store.weekdays\n",
    "\n",
    "    fhelp.makeFolder(folderDecomposition)\n",
    "    fhelp.toPickleFile(df_components, filename)\n",
    "    print(f'Saving {filename}...')\n",
    "    \n",
    "df_components.head(3)"
   ]
  },
  {
   "cell_type": "markdown",
   "metadata": {},
   "source": [
    "## Compare PROMOS sales vs NON PROMOS given the availabily (comparing windows of non-promos/promos)\n",
    "\n",
    "Given the inferred availability of the SKU, calculate the following parameters for SNAP and regular periods: average sales and the standard deviation, the median and the number of days within each category.\n",
    "\n",
    "```python\n",
    "{'num_promo_slots': 2,\n",
    " 'avg_promo_sales': 55.51020408163265,\n",
    " 'avg_regular_sales': 41.74285714285714,\n",
    " 'difference_averages_promo_to_regular': 13.76734693877551,\n",
    " 'cum_difference_sales_promo_to_regular': -202.0,\n",
    " 'slot_promo_avg_sales': array([56., 52.]),\n",
    " 'slot_regular_avg_sales': array([37.38461538, 42.73684211]),\n",
    " 'availability_value_sku_A': 0.986784140969163}\n",
    "```\n",
    "\n",
    "\n",
    "Then we simply select the uplifters as those SKUs that during SNAP periods have sales greater than:\n",
    "\n",
    "'median_snap_sales'>=('median_regular_sales'*(1+sales_threshold))\n",
    "\n",
    "### Comparison only valid if sales larger than zero\n",
    "idx_B = (df_snap_stats['median_snap_sales']>0) & (df_snap_stats['median_regular_sales']>0)\n",
    "\n",
    "\n",
    "### Meaning of uplifters and downlifters\n",
    "\n",
    "Uplifters are SKU that simply sell more when on promotion. Downlifters here are a bit of a special case as when they are on promo they sell less. The promos are sku-level, unlike SNAP or NATIONAL events."
   ]
  },
  {
   "cell_type": "code",
   "execution_count": 10,
   "metadata": {
    "collapsed": true,
    "jupyter": {
     "outputs_hidden": true
    }
   },
   "outputs": [],
   "source": [
    "folderPromoStats = os.path.join(os.path.expanduser(dataFolder), 'sku_promo_slot_analysis', category_id, dept_id)\n",
    "filename = os.path.join(folderPromoStats, f'{store_name}.pickle')\n",
    "\n",
    "if os.path.exists(filename):\n",
    "    df_snap_stats = fhelp.readPickleFile(filename)\n",
    "else:\n",
    "    # List of products\n",
    "    sku_analysis = []\n",
    "\n",
    "    for sku_A in sales_vars:\n",
    "        # Get the taxonomy\n",
    "        category_id_A, dept_id_A, sku_id, store_name = fhelp.get_taxonomy_from_sku_name_CFAV(sku_A)\n",
    "        state_name = store_name.split('_')[0]\n",
    "\n",
    "        sku_A_behaviour = promies.compare_promo_regular_sales(df_store, df_components, sku_A, \\\n",
    "            idx_holiday_to_exclude, min_promo_days=min_promo_days, min_regular_days=min_regular_days)\n",
    "\n",
    "        sku_analysis.append(sku_A_behaviour)\n",
    "        \n",
    "    # Stick the dicts into a DF\n",
    "    df_snap_stats = pd.DataFrame(sku_analysis)\n",
    "    df_snap_stats.index = sales_vars\n",
    "    # clean the empty dictionaries\n",
    "    idx_nonsense = df_snap_stats.num_promo_slots.isna() | (df_snap_stats.num_promo_slots < 1)\n",
    "    df_snap_stats = df_snap_stats[~idx_nonsense].copy()\n",
    "\n",
    "    # for backwards compatibility\n",
    "    df_snap_stats['mu_difference'] = df_snap_stats['difference_averages_promo_to_regular']\n",
    "    # Add a small offset to avoid 0-divisions\n",
    "    df_snap_stats['mu_delta'] = df_snap_stats[['avg_promo_sales', 'avg_regular_sales']].apply(lambda snap_reg: (snap_reg[0]+0.01)/(snap_reg[1]+0.01), axis=1)\n",
    "    \n",
    "    # save the file\n",
    "    df_snap_stats.sort_values(by=['mu_delta'], ascending=False, inplace=True)\n",
    "    \n",
    "    fhelp.makeFolder(folderPromoStats)\n",
    "    fhelp.toPickleFile(df_snap_stats, filename)"
   ]
  },
  {
   "cell_type": "code",
   "execution_count": 11,
   "metadata": {
    "collapsed": true,
    "jupyter": {
     "outputs_hidden": true
    }
   },
   "outputs": [
    {
     "data": {
      "text/html": [
       "<div>\n",
       "<style scoped>\n",
       "    .dataframe tbody tr th:only-of-type {\n",
       "        vertical-align: middle;\n",
       "    }\n",
       "\n",
       "    .dataframe tbody tr th {\n",
       "        vertical-align: top;\n",
       "    }\n",
       "\n",
       "    .dataframe thead th {\n",
       "        text-align: right;\n",
       "    }\n",
       "</style>\n",
       "<table border=\"1\" class=\"dataframe\">\n",
       "  <thead>\n",
       "    <tr style=\"text-align: right;\">\n",
       "      <th></th>\n",
       "      <th>num_promo_slots</th>\n",
       "      <th>avg_promo_sales</th>\n",
       "      <th>avg_regular_sales</th>\n",
       "      <th>promo_days</th>\n",
       "      <th>regular_days</th>\n",
       "      <th>difference_averages_promo_to_regular</th>\n",
       "      <th>cum_difference_sales_promo_to_regular</th>\n",
       "      <th>slot_promo_avg_sales</th>\n",
       "      <th>slot_regular_avg_sales</th>\n",
       "      <th>availability_value_sku_A</th>\n",
       "      <th>mu_difference</th>\n",
       "      <th>mu_delta</th>\n",
       "    </tr>\n",
       "  </thead>\n",
       "  <tbody>\n",
       "    <tr>\n",
       "      <th>sales-PRODUCE_2040637-Pichincha_47_A_14</th>\n",
       "      <td>1.0</td>\n",
       "      <td>12.857143</td>\n",
       "      <td>0.00000</td>\n",
       "      <td>7.0</td>\n",
       "      <td>47.0</td>\n",
       "      <td>12.857143</td>\n",
       "      <td>90.0</td>\n",
       "      <td>[12.857142857142858]</td>\n",
       "      <td>[0.0]</td>\n",
       "      <td>0.171806</td>\n",
       "      <td>12.857143</td>\n",
       "      <td>1286.714286</td>\n",
       "    </tr>\n",
       "    <tr>\n",
       "      <th>sales-PRODUCE_1966629-Pichincha_47_A_14</th>\n",
       "      <td>1.0</td>\n",
       "      <td>9.333333</td>\n",
       "      <td>0.00000</td>\n",
       "      <td>3.0</td>\n",
       "      <td>47.0</td>\n",
       "      <td>9.333333</td>\n",
       "      <td>28.0</td>\n",
       "      <td>[9.333333333333334]</td>\n",
       "      <td>[0.0]</td>\n",
       "      <td>0.277533</td>\n",
       "      <td>9.333333</td>\n",
       "      <td>934.333333</td>\n",
       "    </tr>\n",
       "    <tr>\n",
       "      <th>sales-PRODUCE_1501544-Pichincha_47_A_14</th>\n",
       "      <td>1.0</td>\n",
       "      <td>5.500000</td>\n",
       "      <td>0.00625</td>\n",
       "      <td>10.0</td>\n",
       "      <td>160.0</td>\n",
       "      <td>5.493750</td>\n",
       "      <td>54.0</td>\n",
       "      <td>[5.5]</td>\n",
       "      <td>[0.00625]</td>\n",
       "      <td>0.303965</td>\n",
       "      <td>5.493750</td>\n",
       "      <td>339.076923</td>\n",
       "    </tr>\n",
       "  </tbody>\n",
       "</table>\n",
       "</div>"
      ],
      "text/plain": [
       "                                         num_promo_slots  avg_promo_sales  \\\n",
       "sales-PRODUCE_2040637-Pichincha_47_A_14              1.0        12.857143   \n",
       "sales-PRODUCE_1966629-Pichincha_47_A_14              1.0         9.333333   \n",
       "sales-PRODUCE_1501544-Pichincha_47_A_14              1.0         5.500000   \n",
       "\n",
       "                                         avg_regular_sales  promo_days  \\\n",
       "sales-PRODUCE_2040637-Pichincha_47_A_14            0.00000         7.0   \n",
       "sales-PRODUCE_1966629-Pichincha_47_A_14            0.00000         3.0   \n",
       "sales-PRODUCE_1501544-Pichincha_47_A_14            0.00625        10.0   \n",
       "\n",
       "                                         regular_days  \\\n",
       "sales-PRODUCE_2040637-Pichincha_47_A_14          47.0   \n",
       "sales-PRODUCE_1966629-Pichincha_47_A_14          47.0   \n",
       "sales-PRODUCE_1501544-Pichincha_47_A_14         160.0   \n",
       "\n",
       "                                         difference_averages_promo_to_regular  \\\n",
       "sales-PRODUCE_2040637-Pichincha_47_A_14                             12.857143   \n",
       "sales-PRODUCE_1966629-Pichincha_47_A_14                              9.333333   \n",
       "sales-PRODUCE_1501544-Pichincha_47_A_14                              5.493750   \n",
       "\n",
       "                                         cum_difference_sales_promo_to_regular  \\\n",
       "sales-PRODUCE_2040637-Pichincha_47_A_14                                   90.0   \n",
       "sales-PRODUCE_1966629-Pichincha_47_A_14                                   28.0   \n",
       "sales-PRODUCE_1501544-Pichincha_47_A_14                                   54.0   \n",
       "\n",
       "                                         slot_promo_avg_sales  \\\n",
       "sales-PRODUCE_2040637-Pichincha_47_A_14  [12.857142857142858]   \n",
       "sales-PRODUCE_1966629-Pichincha_47_A_14   [9.333333333333334]   \n",
       "sales-PRODUCE_1501544-Pichincha_47_A_14                 [5.5]   \n",
       "\n",
       "                                        slot_regular_avg_sales  \\\n",
       "sales-PRODUCE_2040637-Pichincha_47_A_14                  [0.0]   \n",
       "sales-PRODUCE_1966629-Pichincha_47_A_14                  [0.0]   \n",
       "sales-PRODUCE_1501544-Pichincha_47_A_14              [0.00625]   \n",
       "\n",
       "                                         availability_value_sku_A  \\\n",
       "sales-PRODUCE_2040637-Pichincha_47_A_14                  0.171806   \n",
       "sales-PRODUCE_1966629-Pichincha_47_A_14                  0.277533   \n",
       "sales-PRODUCE_1501544-Pichincha_47_A_14                  0.303965   \n",
       "\n",
       "                                         mu_difference     mu_delta  \n",
       "sales-PRODUCE_2040637-Pichincha_47_A_14      12.857143  1286.714286  \n",
       "sales-PRODUCE_1966629-Pichincha_47_A_14       9.333333   934.333333  \n",
       "sales-PRODUCE_1501544-Pichincha_47_A_14       5.493750   339.076923  "
      ]
     },
     "execution_count": 11,
     "metadata": {},
     "output_type": "execute_result"
    }
   ],
   "source": [
    "df_snap_stats.head(3)"
   ]
  },
  {
   "cell_type": "markdown",
   "metadata": {},
   "source": [
    "#### Uplifters"
   ]
  },
  {
   "cell_type": "code",
   "execution_count": 12,
   "metadata": {
    "collapsed": true,
    "jupyter": {
     "outputs_hidden": true
    }
   },
   "outputs": [],
   "source": [
    "# A bit of work on the uplifters\n",
    "# Snap sales greater than the sales + threshold\n",
    "idx_A = df_snap_stats['mu_delta']>=(1+sales_threshold)\n",
    "\n",
    "# Comparison only valid if they are not zero sales\n",
    "idx_B = (df_snap_stats['avg_promo_sales']>min_avg_sales) & (df_snap_stats['avg_regular_sales']>min_avg_sales)\n",
    "df_snap_stats['uplift_in_median'] = (idx_A & idx_B)\n",
    "\n",
    "# Get two groups: potential cannibals (and haloers) and victims\n",
    "df_snap_uplifters = df_snap_stats[df_snap_stats['uplift_in_median']].copy()"
   ]
  },
  {
   "cell_type": "code",
   "execution_count": 13,
   "metadata": {
    "collapsed": true,
    "jupyter": {
     "outputs_hidden": true
    }
   },
   "outputs": [
    {
     "data": {
      "text/html": [
       "<div>\n",
       "<style scoped>\n",
       "    .dataframe tbody tr th:only-of-type {\n",
       "        vertical-align: middle;\n",
       "    }\n",
       "\n",
       "    .dataframe tbody tr th {\n",
       "        vertical-align: top;\n",
       "    }\n",
       "\n",
       "    .dataframe thead th {\n",
       "        text-align: right;\n",
       "    }\n",
       "</style>\n",
       "<table border=\"1\" class=\"dataframe\">\n",
       "  <thead>\n",
       "    <tr style=\"text-align: right;\">\n",
       "      <th></th>\n",
       "      <th>num_promo_slots</th>\n",
       "      <th>avg_promo_sales</th>\n",
       "      <th>avg_regular_sales</th>\n",
       "      <th>promo_days</th>\n",
       "      <th>regular_days</th>\n",
       "      <th>difference_averages_promo_to_regular</th>\n",
       "      <th>cum_difference_sales_promo_to_regular</th>\n",
       "      <th>slot_promo_avg_sales</th>\n",
       "      <th>slot_regular_avg_sales</th>\n",
       "      <th>availability_value_sku_A</th>\n",
       "      <th>mu_difference</th>\n",
       "      <th>mu_delta</th>\n",
       "      <th>uplift_in_median</th>\n",
       "    </tr>\n",
       "  </thead>\n",
       "  <tbody>\n",
       "    <tr>\n",
       "      <th>sales-PRODUCE_1489895-Pichincha_47_A_14</th>\n",
       "      <td>1.0</td>\n",
       "      <td>29.533333</td>\n",
       "      <td>11.166667</td>\n",
       "      <td>15.0</td>\n",
       "      <td>6.0</td>\n",
       "      <td>18.366667</td>\n",
       "      <td>376.0</td>\n",
       "      <td>[29.533333333333335]</td>\n",
       "      <td>[11.166666666666666]</td>\n",
       "      <td>0.973568</td>\n",
       "      <td>18.366667</td>\n",
       "      <td>2.643305</td>\n",
       "      <td>True</td>\n",
       "    </tr>\n",
       "    <tr>\n",
       "      <th>sales-PRODUCE_1695874-Pichincha_47_A_14</th>\n",
       "      <td>1.0</td>\n",
       "      <td>24.666667</td>\n",
       "      <td>12.666667</td>\n",
       "      <td>9.0</td>\n",
       "      <td>6.0</td>\n",
       "      <td>12.000000</td>\n",
       "      <td>146.0</td>\n",
       "      <td>[24.666666666666668]</td>\n",
       "      <td>[12.666666666666666]</td>\n",
       "      <td>0.986784</td>\n",
       "      <td>12.000000</td>\n",
       "      <td>1.946621</td>\n",
       "      <td>True</td>\n",
       "    </tr>\n",
       "    <tr>\n",
       "      <th>sales-PRODUCE_1693647-Pichincha_47_A_14</th>\n",
       "      <td>1.0</td>\n",
       "      <td>51.466667</td>\n",
       "      <td>28.333333</td>\n",
       "      <td>15.0</td>\n",
       "      <td>6.0</td>\n",
       "      <td>23.133333</td>\n",
       "      <td>602.0</td>\n",
       "      <td>[51.46666666666667]</td>\n",
       "      <td>[28.333333333333332]</td>\n",
       "      <td>0.986784</td>\n",
       "      <td>23.133333</td>\n",
       "      <td>1.816183</td>\n",
       "      <td>True</td>\n",
       "    </tr>\n",
       "  </tbody>\n",
       "</table>\n",
       "</div>"
      ],
      "text/plain": [
       "                                         num_promo_slots  avg_promo_sales  \\\n",
       "sales-PRODUCE_1489895-Pichincha_47_A_14              1.0        29.533333   \n",
       "sales-PRODUCE_1695874-Pichincha_47_A_14              1.0        24.666667   \n",
       "sales-PRODUCE_1693647-Pichincha_47_A_14              1.0        51.466667   \n",
       "\n",
       "                                         avg_regular_sales  promo_days  \\\n",
       "sales-PRODUCE_1489895-Pichincha_47_A_14          11.166667        15.0   \n",
       "sales-PRODUCE_1695874-Pichincha_47_A_14          12.666667         9.0   \n",
       "sales-PRODUCE_1693647-Pichincha_47_A_14          28.333333        15.0   \n",
       "\n",
       "                                         regular_days  \\\n",
       "sales-PRODUCE_1489895-Pichincha_47_A_14           6.0   \n",
       "sales-PRODUCE_1695874-Pichincha_47_A_14           6.0   \n",
       "sales-PRODUCE_1693647-Pichincha_47_A_14           6.0   \n",
       "\n",
       "                                         difference_averages_promo_to_regular  \\\n",
       "sales-PRODUCE_1489895-Pichincha_47_A_14                             18.366667   \n",
       "sales-PRODUCE_1695874-Pichincha_47_A_14                             12.000000   \n",
       "sales-PRODUCE_1693647-Pichincha_47_A_14                             23.133333   \n",
       "\n",
       "                                         cum_difference_sales_promo_to_regular  \\\n",
       "sales-PRODUCE_1489895-Pichincha_47_A_14                                  376.0   \n",
       "sales-PRODUCE_1695874-Pichincha_47_A_14                                  146.0   \n",
       "sales-PRODUCE_1693647-Pichincha_47_A_14                                  602.0   \n",
       "\n",
       "                                         slot_promo_avg_sales  \\\n",
       "sales-PRODUCE_1489895-Pichincha_47_A_14  [29.533333333333335]   \n",
       "sales-PRODUCE_1695874-Pichincha_47_A_14  [24.666666666666668]   \n",
       "sales-PRODUCE_1693647-Pichincha_47_A_14   [51.46666666666667]   \n",
       "\n",
       "                                        slot_regular_avg_sales  \\\n",
       "sales-PRODUCE_1489895-Pichincha_47_A_14   [11.166666666666666]   \n",
       "sales-PRODUCE_1695874-Pichincha_47_A_14   [12.666666666666666]   \n",
       "sales-PRODUCE_1693647-Pichincha_47_A_14   [28.333333333333332]   \n",
       "\n",
       "                                         availability_value_sku_A  \\\n",
       "sales-PRODUCE_1489895-Pichincha_47_A_14                  0.973568   \n",
       "sales-PRODUCE_1695874-Pichincha_47_A_14                  0.986784   \n",
       "sales-PRODUCE_1693647-Pichincha_47_A_14                  0.986784   \n",
       "\n",
       "                                         mu_difference  mu_delta  \\\n",
       "sales-PRODUCE_1489895-Pichincha_47_A_14      18.366667  2.643305   \n",
       "sales-PRODUCE_1695874-Pichincha_47_A_14      12.000000  1.946621   \n",
       "sales-PRODUCE_1693647-Pichincha_47_A_14      23.133333  1.816183   \n",
       "\n",
       "                                         uplift_in_median  \n",
       "sales-PRODUCE_1489895-Pichincha_47_A_14              True  \n",
       "sales-PRODUCE_1695874-Pichincha_47_A_14              True  \n",
       "sales-PRODUCE_1693647-Pichincha_47_A_14              True  "
      ]
     },
     "execution_count": 13,
     "metadata": {},
     "output_type": "execute_result"
    }
   ],
   "source": [
    "num_uplifters = df_snap_uplifters.shape[0] \n",
    "valid_uplifters = num_uplifters > 0\n",
    "df_snap_uplifters.sort_values(by=['mu_delta', 'mu_difference'], ascending=False, inplace=True)\n",
    "#fhelp.to_random_excel_file(df_snap_uplifters, writeIndex=True)\n",
    "df_snap_uplifters.head(3)"
   ]
  },
  {
   "cell_type": "markdown",
   "metadata": {},
   "source": [
    "#### Find connections between cannibals and victims during PROMOTIONAL periods\n",
    "\n",
    "\n",
    "\n",
    "Up to here, we have demonstrated that there are uplifters. Now let's look for a connection between every uplifter and the rest of SKUs.sales_vars\n",
    "\n",
    "We are using Causal Impact to analyse SKUs.category_id, dept_id)"
   ]
  },
  {
   "cell_type": "code",
   "execution_count": 14,
   "metadata": {
    "collapsed": true,
    "jupyter": {
     "outputs_hidden": true
    }
   },
   "outputs": [
    {
     "name": "stdout",
     "output_type": "stream",
     "text": [
      "0/7-sales-PRODUCE_1489895-Pichincha_47_A_14\n",
      "Running Causal Impact...\n"
     ]
    },
    {
     "name": "stderr",
     "output_type": "stream",
     "text": [
      "/usr/local/lib/python3.8/site-packages/statsmodels/tsa/base/tsa_model.py:213: ValueWarning: An unsupported index was provided and will be ignored when e.g. forecasting.\n",
      "  warnings.warn('An unsupported index was provided and will be'\n",
      "/usr/local/lib/python3.8/site-packages/statsmodels/tsa/base/tsa_model.py:580: ValueWarning: No supported index is available. Prediction results will be given with an integer index beginning at `start`.\n",
      "  warnings.warn('No supported index is available.'\n",
      "/usr/local/lib/python3.8/site-packages/statsmodels/tsa/base/tsa_model.py:213: ValueWarning: An unsupported index was provided and will be ignored when e.g. forecasting.\n",
      "  warnings.warn('An unsupported index was provided and will be'\n"
     ]
    },
    {
     "name": "stdout",
     "output_type": "stream",
     "text": [
      "CausalImpact >> Probability of a causal event 100.00\n",
      "Running Causal Impact...\n"
     ]
    },
    {
     "name": "stderr",
     "output_type": "stream",
     "text": [
      "/usr/local/lib/python3.8/site-packages/statsmodels/tsa/base/tsa_model.py:213: ValueWarning: An unsupported index was provided and will be ignored when e.g. forecasting.\n",
      "  warnings.warn('An unsupported index was provided and will be'\n",
      "/usr/local/lib/python3.8/site-packages/statsmodels/tsa/base/tsa_model.py:580: ValueWarning: No supported index is available. Prediction results will be given with an integer index beginning at `start`.\n",
      "  warnings.warn('No supported index is available.'\n",
      "/usr/local/lib/python3.8/site-packages/statsmodels/tsa/base/tsa_model.py:213: ValueWarning: An unsupported index was provided and will be ignored when e.g. forecasting.\n",
      "  warnings.warn('An unsupported index was provided and will be'\n"
     ]
    },
    {
     "name": "stdout",
     "output_type": "stream",
     "text": [
      "CausalImpact >> Probability of a causal event 100.00\n",
      "1/7-sales-PRODUCE_1695874-Pichincha_47_A_14\n",
      "Running Causal Impact...\n"
     ]
    },
    {
     "name": "stderr",
     "output_type": "stream",
     "text": [
      "/usr/local/lib/python3.8/site-packages/statsmodels/tsa/base/tsa_model.py:213: ValueWarning: An unsupported index was provided and will be ignored when e.g. forecasting.\n",
      "  warnings.warn('An unsupported index was provided and will be'\n",
      "/usr/local/lib/python3.8/site-packages/statsmodels/tsa/base/tsa_model.py:580: ValueWarning: No supported index is available. Prediction results will be given with an integer index beginning at `start`.\n",
      "  warnings.warn('No supported index is available.'\n",
      "/usr/local/lib/python3.8/site-packages/statsmodels/tsa/base/tsa_model.py:213: ValueWarning: An unsupported index was provided and will be ignored when e.g. forecasting.\n",
      "  warnings.warn('An unsupported index was provided and will be'\n"
     ]
    },
    {
     "name": "stdout",
     "output_type": "stream",
     "text": [
      "CausalImpact >> Probability of a causal event 100.00\n",
      "Running Causal Impact...\n"
     ]
    },
    {
     "name": "stderr",
     "output_type": "stream",
     "text": [
      "/usr/local/lib/python3.8/site-packages/statsmodels/tsa/base/tsa_model.py:213: ValueWarning: An unsupported index was provided and will be ignored when e.g. forecasting.\n",
      "  warnings.warn('An unsupported index was provided and will be'\n",
      "/usr/local/lib/python3.8/site-packages/statsmodels/tsa/base/tsa_model.py:580: ValueWarning: No supported index is available. Prediction results will be given with an integer index beginning at `start`.\n",
      "  warnings.warn('No supported index is available.'\n",
      "/usr/local/lib/python3.8/site-packages/statsmodels/tsa/base/tsa_model.py:213: ValueWarning: An unsupported index was provided and will be ignored when e.g. forecasting.\n",
      "  warnings.warn('An unsupported index was provided and will be'\n"
     ]
    },
    {
     "name": "stdout",
     "output_type": "stream",
     "text": [
      "CausalImpact >> Probability of a causal event 88.31\n",
      "Running Causal Impact...\n"
     ]
    },
    {
     "name": "stderr",
     "output_type": "stream",
     "text": [
      "/usr/local/lib/python3.8/site-packages/statsmodels/tsa/base/tsa_model.py:213: ValueWarning: An unsupported index was provided and will be ignored when e.g. forecasting.\n",
      "  warnings.warn('An unsupported index was provided and will be'\n",
      "/usr/local/lib/python3.8/site-packages/statsmodels/tsa/base/tsa_model.py:580: ValueWarning: No supported index is available. Prediction results will be given with an integer index beginning at `start`.\n",
      "  warnings.warn('No supported index is available.'\n",
      "/usr/local/lib/python3.8/site-packages/statsmodels/tsa/base/tsa_model.py:213: ValueWarning: An unsupported index was provided and will be ignored when e.g. forecasting.\n",
      "  warnings.warn('An unsupported index was provided and will be'\n"
     ]
    },
    {
     "name": "stdout",
     "output_type": "stream",
     "text": [
      "CausalImpact >> Probability of a causal event 99.40\n",
      "Running Causal Impact...\n"
     ]
    },
    {
     "name": "stderr",
     "output_type": "stream",
     "text": [
      "/usr/local/lib/python3.8/site-packages/statsmodels/tsa/base/tsa_model.py:213: ValueWarning: An unsupported index was provided and will be ignored when e.g. forecasting.\n",
      "  warnings.warn('An unsupported index was provided and will be'\n",
      "/usr/local/lib/python3.8/site-packages/statsmodels/tsa/base/tsa_model.py:580: ValueWarning: No supported index is available. Prediction results will be given with an integer index beginning at `start`.\n",
      "  warnings.warn('No supported index is available.'\n",
      "/usr/local/lib/python3.8/site-packages/statsmodels/tsa/base/tsa_model.py:213: ValueWarning: An unsupported index was provided and will be ignored when e.g. forecasting.\n",
      "  warnings.warn('An unsupported index was provided and will be'\n"
     ]
    },
    {
     "name": "stdout",
     "output_type": "stream",
     "text": [
      "CausalImpact >> Probability of a causal event 91.81\n",
      "Running Causal Impact...\n"
     ]
    },
    {
     "name": "stderr",
     "output_type": "stream",
     "text": [
      "/usr/local/lib/python3.8/site-packages/statsmodels/tsa/base/tsa_model.py:213: ValueWarning: An unsupported index was provided and will be ignored when e.g. forecasting.\n",
      "  warnings.warn('An unsupported index was provided and will be'\n",
      "/usr/local/lib/python3.8/site-packages/statsmodels/tsa/base/tsa_model.py:580: ValueWarning: No supported index is available. Prediction results will be given with an integer index beginning at `start`.\n",
      "  warnings.warn('No supported index is available.'\n",
      "/usr/local/lib/python3.8/site-packages/statsmodels/tsa/base/tsa_model.py:213: ValueWarning: An unsupported index was provided and will be ignored when e.g. forecasting.\n",
      "  warnings.warn('An unsupported index was provided and will be'\n"
     ]
    },
    {
     "name": "stdout",
     "output_type": "stream",
     "text": [
      "CausalImpact >> Probability of a causal event 100.00\n",
      "2/7-sales-PRODUCE_1693647-Pichincha_47_A_14\n",
      "Running Causal Impact...\n"
     ]
    },
    {
     "name": "stderr",
     "output_type": "stream",
     "text": [
      "/usr/local/lib/python3.8/site-packages/statsmodels/tsa/base/tsa_model.py:213: ValueWarning: An unsupported index was provided and will be ignored when e.g. forecasting.\n",
      "  warnings.warn('An unsupported index was provided and will be'\n",
      "/usr/local/lib/python3.8/site-packages/statsmodels/tsa/base/tsa_model.py:580: ValueWarning: No supported index is available. Prediction results will be given with an integer index beginning at `start`.\n",
      "  warnings.warn('No supported index is available.'\n",
      "/usr/local/lib/python3.8/site-packages/statsmodels/tsa/base/tsa_model.py:213: ValueWarning: An unsupported index was provided and will be ignored when e.g. forecasting.\n",
      "  warnings.warn('An unsupported index was provided and will be'\n"
     ]
    },
    {
     "name": "stdout",
     "output_type": "stream",
     "text": [
      "CausalImpact >> Probability of a causal event 100.00\n",
      "Running Causal Impact...\n"
     ]
    },
    {
     "name": "stderr",
     "output_type": "stream",
     "text": [
      "/usr/local/lib/python3.8/site-packages/statsmodels/tsa/base/tsa_model.py:213: ValueWarning: An unsupported index was provided and will be ignored when e.g. forecasting.\n",
      "  warnings.warn('An unsupported index was provided and will be'\n",
      "/usr/local/lib/python3.8/site-packages/statsmodels/tsa/base/tsa_model.py:580: ValueWarning: No supported index is available. Prediction results will be given with an integer index beginning at `start`.\n",
      "  warnings.warn('No supported index is available.'\n",
      "/usr/local/lib/python3.8/site-packages/statsmodels/tsa/base/tsa_model.py:213: ValueWarning: An unsupported index was provided and will be ignored when e.g. forecasting.\n",
      "  warnings.warn('An unsupported index was provided and will be'\n"
     ]
    },
    {
     "name": "stdout",
     "output_type": "stream",
     "text": [
      "CausalImpact >> Probability of a causal event 100.00\n",
      "3/7-sales-PRODUCE_1945991-Pichincha_47_A_14\n",
      "Running Causal Impact...\n"
     ]
    },
    {
     "name": "stderr",
     "output_type": "stream",
     "text": [
      "/usr/local/lib/python3.8/site-packages/statsmodels/tsa/base/tsa_model.py:213: ValueWarning: An unsupported index was provided and will be ignored when e.g. forecasting.\n",
      "  warnings.warn('An unsupported index was provided and will be'\n",
      "/usr/local/lib/python3.8/site-packages/statsmodels/tsa/base/tsa_model.py:580: ValueWarning: No supported index is available. Prediction results will be given with an integer index beginning at `start`.\n",
      "  warnings.warn('No supported index is available.'\n",
      "/usr/local/lib/python3.8/site-packages/statsmodels/tsa/base/tsa_model.py:213: ValueWarning: An unsupported index was provided and will be ignored when e.g. forecasting.\n",
      "  warnings.warn('An unsupported index was provided and will be'\n"
     ]
    },
    {
     "name": "stdout",
     "output_type": "stream",
     "text": [
      "CausalImpact >> Probability of a causal event 93.81\n",
      "Running Causal Impact...\n"
     ]
    },
    {
     "name": "stderr",
     "output_type": "stream",
     "text": [
      "/usr/local/lib/python3.8/site-packages/statsmodels/tsa/base/tsa_model.py:213: ValueWarning: An unsupported index was provided and will be ignored when e.g. forecasting.\n",
      "  warnings.warn('An unsupported index was provided and will be'\n",
      "/usr/local/lib/python3.8/site-packages/statsmodels/tsa/base/tsa_model.py:580: ValueWarning: No supported index is available. Prediction results will be given with an integer index beginning at `start`.\n",
      "  warnings.warn('No supported index is available.'\n",
      "/usr/local/lib/python3.8/site-packages/statsmodels/tsa/base/tsa_model.py:213: ValueWarning: An unsupported index was provided and will be ignored when e.g. forecasting.\n",
      "  warnings.warn('An unsupported index was provided and will be'\n"
     ]
    },
    {
     "name": "stdout",
     "output_type": "stream",
     "text": [
      "CausalImpact >> Probability of a causal event 100.00\n",
      "Running Causal Impact...\n"
     ]
    },
    {
     "name": "stderr",
     "output_type": "stream",
     "text": [
      "/usr/local/lib/python3.8/site-packages/statsmodels/tsa/base/tsa_model.py:213: ValueWarning: An unsupported index was provided and will be ignored when e.g. forecasting.\n",
      "  warnings.warn('An unsupported index was provided and will be'\n",
      "/usr/local/lib/python3.8/site-packages/statsmodels/tsa/base/tsa_model.py:580: ValueWarning: No supported index is available. Prediction results will be given with an integer index beginning at `start`.\n",
      "  warnings.warn('No supported index is available.'\n",
      "/usr/local/lib/python3.8/site-packages/statsmodels/tsa/base/tsa_model.py:213: ValueWarning: An unsupported index was provided and will be ignored when e.g. forecasting.\n",
      "  warnings.warn('An unsupported index was provided and will be'\n"
     ]
    },
    {
     "name": "stdout",
     "output_type": "stream",
     "text": [
      "CausalImpact >> Probability of a causal event 100.00\n",
      "Running Causal Impact...\n"
     ]
    },
    {
     "name": "stderr",
     "output_type": "stream",
     "text": [
      "/usr/local/lib/python3.8/site-packages/statsmodels/tsa/base/tsa_model.py:213: ValueWarning: An unsupported index was provided and will be ignored when e.g. forecasting.\n",
      "  warnings.warn('An unsupported index was provided and will be'\n",
      "/usr/local/lib/python3.8/site-packages/statsmodels/tsa/base/tsa_model.py:580: ValueWarning: No supported index is available. Prediction results will be given with an integer index beginning at `start`.\n",
      "  warnings.warn('No supported index is available.'\n",
      "/usr/local/lib/python3.8/site-packages/statsmodels/tsa/base/tsa_model.py:213: ValueWarning: An unsupported index was provided and will be ignored when e.g. forecasting.\n",
      "  warnings.warn('An unsupported index was provided and will be'\n"
     ]
    },
    {
     "name": "stdout",
     "output_type": "stream",
     "text": [
      "CausalImpact >> Probability of a causal event 100.00\n",
      "Running Causal Impact...\n"
     ]
    },
    {
     "name": "stderr",
     "output_type": "stream",
     "text": [
      "/usr/local/lib/python3.8/site-packages/statsmodels/tsa/base/tsa_model.py:213: ValueWarning: An unsupported index was provided and will be ignored when e.g. forecasting.\n",
      "  warnings.warn('An unsupported index was provided and will be'\n",
      "/usr/local/lib/python3.8/site-packages/statsmodels/tsa/base/tsa_model.py:580: ValueWarning: No supported index is available. Prediction results will be given with an integer index beginning at `start`.\n",
      "  warnings.warn('No supported index is available.'\n",
      "/usr/local/lib/python3.8/site-packages/statsmodels/tsa/base/tsa_model.py:213: ValueWarning: An unsupported index was provided and will be ignored when e.g. forecasting.\n",
      "  warnings.warn('An unsupported index was provided and will be'\n"
     ]
    },
    {
     "name": "stdout",
     "output_type": "stream",
     "text": [
      "CausalImpact >> Probability of a causal event 99.20\n",
      "4/7-sales-PRODUCE_1960806-Pichincha_47_A_14\n",
      "Running Causal Impact...\n"
     ]
    },
    {
     "name": "stderr",
     "output_type": "stream",
     "text": [
      "/usr/local/lib/python3.8/site-packages/statsmodels/tsa/base/tsa_model.py:213: ValueWarning: An unsupported index was provided and will be ignored when e.g. forecasting.\n",
      "  warnings.warn('An unsupported index was provided and will be'\n",
      "/usr/local/lib/python3.8/site-packages/statsmodels/tsa/base/tsa_model.py:580: ValueWarning: No supported index is available. Prediction results will be given with an integer index beginning at `start`.\n",
      "  warnings.warn('No supported index is available.'\n",
      "/usr/local/lib/python3.8/site-packages/statsmodels/tsa/base/tsa_model.py:213: ValueWarning: An unsupported index was provided and will be ignored when e.g. forecasting.\n",
      "  warnings.warn('An unsupported index was provided and will be'\n"
     ]
    },
    {
     "name": "stdout",
     "output_type": "stream",
     "text": [
      "CausalImpact >> Probability of a causal event 97.00\n",
      "5/7-sales-PRODUCE_1960944-Pichincha_47_A_14\n",
      "Running Causal Impact...\n"
     ]
    },
    {
     "name": "stderr",
     "output_type": "stream",
     "text": [
      "/usr/local/lib/python3.8/site-packages/statsmodels/tsa/base/tsa_model.py:213: ValueWarning: An unsupported index was provided and will be ignored when e.g. forecasting.\n",
      "  warnings.warn('An unsupported index was provided and will be'\n",
      "/usr/local/lib/python3.8/site-packages/statsmodels/tsa/base/tsa_model.py:580: ValueWarning: No supported index is available. Prediction results will be given with an integer index beginning at `start`.\n",
      "  warnings.warn('No supported index is available.'\n",
      "/usr/local/lib/python3.8/site-packages/statsmodels/tsa/base/tsa_model.py:213: ValueWarning: An unsupported index was provided and will be ignored when e.g. forecasting.\n",
      "  warnings.warn('An unsupported index was provided and will be'\n"
     ]
    },
    {
     "name": "stdout",
     "output_type": "stream",
     "text": [
      "CausalImpact >> Probability of a causal event 70.93\n",
      "6/7-sales-PRODUCE_1642401-Pichincha_47_A_14\n",
      "Running Causal Impact...\n"
     ]
    },
    {
     "name": "stderr",
     "output_type": "stream",
     "text": [
      "/usr/local/lib/python3.8/site-packages/statsmodels/tsa/base/tsa_model.py:213: ValueWarning: An unsupported index was provided and will be ignored when e.g. forecasting.\n",
      "  warnings.warn('An unsupported index was provided and will be'\n",
      "/usr/local/lib/python3.8/site-packages/statsmodels/tsa/base/tsa_model.py:580: ValueWarning: No supported index is available. Prediction results will be given with an integer index beginning at `start`.\n",
      "  warnings.warn('No supported index is available.'\n",
      "/usr/local/lib/python3.8/site-packages/statsmodels/tsa/base/tsa_model.py:213: ValueWarning: An unsupported index was provided and will be ignored when e.g. forecasting.\n",
      "  warnings.warn('An unsupported index was provided and will be'\n"
     ]
    },
    {
     "name": "stdout",
     "output_type": "stream",
     "text": [
      "CausalImpact >> Probability of a causal event 100.00\n",
      "Running Causal Impact...\n"
     ]
    },
    {
     "name": "stderr",
     "output_type": "stream",
     "text": [
      "/usr/local/lib/python3.8/site-packages/statsmodels/tsa/base/tsa_model.py:213: ValueWarning: An unsupported index was provided and will be ignored when e.g. forecasting.\n",
      "  warnings.warn('An unsupported index was provided and will be'\n",
      "/usr/local/lib/python3.8/site-packages/statsmodels/tsa/base/tsa_model.py:580: ValueWarning: No supported index is available. Prediction results will be given with an integer index beginning at `start`.\n",
      "  warnings.warn('No supported index is available.'\n",
      "/usr/local/lib/python3.8/site-packages/statsmodels/tsa/base/tsa_model.py:213: ValueWarning: An unsupported index was provided and will be ignored when e.g. forecasting.\n",
      "  warnings.warn('An unsupported index was provided and will be'\n"
     ]
    },
    {
     "name": "stdout",
     "output_type": "stream",
     "text": [
      "CausalImpact >> Probability of a causal event 100.00\n",
      "Running Causal Impact...\n"
     ]
    },
    {
     "name": "stderr",
     "output_type": "stream",
     "text": [
      "/usr/local/lib/python3.8/site-packages/statsmodels/tsa/base/tsa_model.py:213: ValueWarning: An unsupported index was provided and will be ignored when e.g. forecasting.\n",
      "  warnings.warn('An unsupported index was provided and will be'\n",
      "/usr/local/lib/python3.8/site-packages/statsmodels/tsa/base/tsa_model.py:580: ValueWarning: No supported index is available. Prediction results will be given with an integer index beginning at `start`.\n",
      "  warnings.warn('No supported index is available.'\n",
      "/usr/local/lib/python3.8/site-packages/statsmodels/tsa/base/tsa_model.py:213: ValueWarning: An unsupported index was provided and will be ignored when e.g. forecasting.\n",
      "  warnings.warn('An unsupported index was provided and will be'\n"
     ]
    },
    {
     "name": "stdout",
     "output_type": "stream",
     "text": [
      "CausalImpact >> Probability of a causal event 100.00\n",
      "Pickle file saved to /Users/carlos.aguilar/Google Drive/order/Machine Learning Part/data/CorporacionFavorita/CausalImpactResults/FOOD/PRODUCE/Pichincha_47_A_14.pickle\n"
     ]
    },
    {
     "data": {
      "text/html": [
       "<div>\n",
       "<style scoped>\n",
       "    .dataframe tbody tr th:only-of-type {\n",
       "        vertical-align: middle;\n",
       "    }\n",
       "\n",
       "    .dataframe tbody tr th {\n",
       "        vertical-align: top;\n",
       "    }\n",
       "\n",
       "    .dataframe thead th {\n",
       "        text-align: right;\n",
       "    }\n",
       "</style>\n",
       "<table border=\"1\" class=\"dataframe\">\n",
       "  <thead>\n",
       "    <tr style=\"text-align: right;\">\n",
       "      <th></th>\n",
       "      <th>cannibal</th>\n",
       "      <th>victim</th>\n",
       "      <th>slot_number</th>\n",
       "      <th>idx_regular_days</th>\n",
       "      <th>idx_promo_days</th>\n",
       "      <th>total_overlapping_days_regular</th>\n",
       "      <th>regular_to_promo_gap</th>\n",
       "      <th>total_overlapping_days_promo</th>\n",
       "      <th>competing_promo_days</th>\n",
       "      <th>sku_B_regular_avg_sales</th>\n",
       "      <th>sku_B_avg_sales_during_promo_sku_A</th>\n",
       "      <th>diff_in_units_from_reg_to_promo</th>\n",
       "      <th>diff_in_units_from_promo_to_pos_promo</th>\n",
       "      <th>ratio_change</th>\n",
       "      <th>avg_actual</th>\n",
       "      <th>avg_predicted</th>\n",
       "      <th>avg_abs_effect</th>\n",
       "      <th>cum_abs_effect</th>\n",
       "      <th>posterior_tail_prob</th>\n",
       "      <th>prob_causal_effect</th>\n",
       "    </tr>\n",
       "  </thead>\n",
       "  <tbody>\n",
       "    <tr>\n",
       "      <th>0</th>\n",
       "      <td>PRODUCE_1489895</td>\n",
       "      <td>PRODUCE_1695965</td>\n",
       "      <td>0</td>\n",
       "      <td>[172, 177]</td>\n",
       "      <td>[178, 192]</td>\n",
       "      <td>6</td>\n",
       "      <td>0</td>\n",
       "      <td>15</td>\n",
       "      <td>3</td>\n",
       "      <td>41.759167</td>\n",
       "      <td>19.028067</td>\n",
       "      <td>22.731100</td>\n",
       "      <td>-4.960648</td>\n",
       "      <td>0.544338</td>\n",
       "      <td>19.028067</td>\n",
       "      <td>-34.731208</td>\n",
       "      <td>53.759275</td>\n",
       "      <td>806.389121</td>\n",
       "      <td>0.0</td>\n",
       "      <td>100.0</td>\n",
       "    </tr>\n",
       "    <tr>\n",
       "      <th>1</th>\n",
       "      <td>PRODUCE_1489895</td>\n",
       "      <td>PRODUCE_1695989</td>\n",
       "      <td>0</td>\n",
       "      <td>[172, 177]</td>\n",
       "      <td>[178, 192]</td>\n",
       "      <td>6</td>\n",
       "      <td>0</td>\n",
       "      <td>13</td>\n",
       "      <td>2</td>\n",
       "      <td>28.333333</td>\n",
       "      <td>14.769231</td>\n",
       "      <td>13.564103</td>\n",
       "      <td>-11.659341</td>\n",
       "      <td>0.478733</td>\n",
       "      <td>12.800000</td>\n",
       "      <td>-31.674831</td>\n",
       "      <td>44.474831</td>\n",
       "      <td>667.122466</td>\n",
       "      <td>0.0</td>\n",
       "      <td>100.0</td>\n",
       "    </tr>\n",
       "    <tr>\n",
       "      <th>2</th>\n",
       "      <td>PRODUCE_1695874</td>\n",
       "      <td>PRODUCE_1695837</td>\n",
       "      <td>0</td>\n",
       "      <td>[200, 205]</td>\n",
       "      <td>[206, 214]</td>\n",
       "      <td>6</td>\n",
       "      <td>0</td>\n",
       "      <td>9</td>\n",
       "      <td>1</td>\n",
       "      <td>20.906333</td>\n",
       "      <td>7.652000</td>\n",
       "      <td>13.254333</td>\n",
       "      <td>-11.192429</td>\n",
       "      <td>0.633987</td>\n",
       "      <td>7.652000</td>\n",
       "      <td>40.329843</td>\n",
       "      <td>-32.677843</td>\n",
       "      <td>-294.100589</td>\n",
       "      <td>0.0</td>\n",
       "      <td>100.0</td>\n",
       "    </tr>\n",
       "  </tbody>\n",
       "</table>\n",
       "</div>"
      ],
      "text/plain": [
       "          cannibal           victim  slot_number idx_regular_days  \\\n",
       "0  PRODUCE_1489895  PRODUCE_1695965            0       [172, 177]   \n",
       "1  PRODUCE_1489895  PRODUCE_1695989            0       [172, 177]   \n",
       "2  PRODUCE_1695874  PRODUCE_1695837            0       [200, 205]   \n",
       "\n",
       "  idx_promo_days  total_overlapping_days_regular  regular_to_promo_gap  \\\n",
       "0     [178, 192]                               6                     0   \n",
       "1     [178, 192]                               6                     0   \n",
       "2     [206, 214]                               6                     0   \n",
       "\n",
       "   total_overlapping_days_promo  competing_promo_days  \\\n",
       "0                            15                     3   \n",
       "1                            13                     2   \n",
       "2                             9                     1   \n",
       "\n",
       "   sku_B_regular_avg_sales  sku_B_avg_sales_during_promo_sku_A  \\\n",
       "0                41.759167                           19.028067   \n",
       "1                28.333333                           14.769231   \n",
       "2                20.906333                            7.652000   \n",
       "\n",
       "   diff_in_units_from_reg_to_promo  diff_in_units_from_promo_to_pos_promo  \\\n",
       "0                        22.731100                              -4.960648   \n",
       "1                        13.564103                             -11.659341   \n",
       "2                        13.254333                             -11.192429   \n",
       "\n",
       "   ratio_change  avg_actual  avg_predicted  avg_abs_effect  cum_abs_effect  \\\n",
       "0      0.544338   19.028067     -34.731208       53.759275      806.389121   \n",
       "1      0.478733   12.800000     -31.674831       44.474831      667.122466   \n",
       "2      0.633987    7.652000      40.329843      -32.677843     -294.100589   \n",
       "\n",
       "   posterior_tail_prob  prob_causal_effect  \n",
       "0                  0.0               100.0  \n",
       "1                  0.0               100.0  \n",
       "2                  0.0               100.0  "
      ]
     },
     "execution_count": 14,
     "metadata": {},
     "output_type": "execute_result"
    }
   ],
   "source": [
    "folderCausalImpactResults = os.path.join(os.path.expanduser(dataFolder), results_folder, category_id, dept_id)\n",
    "filenameCI = os.path.join(folderCausalImpactResults, f'{store_name}.pickle')\n",
    "\n",
    "# Option to deseasonalise\n",
    "sku_potential_cannibals = df_snap_uplifters.index.tolist()\n",
    "\n",
    "if os.path.exists(filenameCI):\n",
    "    df_CI_analysis = fhelp.readPickleFile(filenameCI)\n",
    "else:\n",
    "    causal_impact_analysis = []\n",
    "\n",
    "    total_cannibals = len(sku_potential_cannibals)\n",
    "\n",
    "    for idx, sku_A in enumerate(sku_potential_cannibals):\n",
    "\n",
    "        print(f'{idx}/{total_cannibals}-{sku_A}')\n",
    "\n",
    "        category_id_A, dept_id_A, sku_id_A, store_name = fhelp.get_taxonomy_from_sku_name_CFAV(sku_A)\n",
    "        state_name = store_name.split('_')[0]\n",
    "\n",
    "        # Get the promotions and split them into slots\n",
    "        promo_sku_A = df_store[f'promotion_flag-{sku_id_A}-{store_name}']\n",
    "        idx_pre_intervention, idx_post_intervention = \\\n",
    "            fhelp.split_promos_into_sequences(promo_sku_A, min_promo_days=min_promo_days, min_regular_days=min_regular_days)\n",
    "\n",
    "        availability_sku_A = df_components[f'heartbeat_flag-{sku_id_A}-{store_name}']\n",
    "        availability_value_sku_A = availability_sku_A.sum()/len(availability_sku_A)\n",
    "        flag_min_availability_sku_A = availability_value_sku_A > 0.9\n",
    "\n",
    "        # TO-DO: Decomposition should be done according to the SKU's patterns\n",
    "        if flag_min_availability_sku_A & do_decomposition:\n",
    "            sales_sku_A = df_components[f'residual-{sku_id_A}-{store_name}'] + df_components[f'trend-{sku_id_A}-{store_name}']\n",
    "        else:\n",
    "            sales_sku_A = df_store[sku_A]\n",
    "\n",
    "\n",
    "        # go through all the SKUs in the store\n",
    "        sku_potential_victims = sales_vars\n",
    "        if sku_A in sku_potential_victims:\n",
    "            sku_potential_victims.remove(sku_A)\n",
    "\n",
    "        for sku_B in sku_potential_victims:    \n",
    "            category_id_B, dept_id_B, sku_id_B, store_name = fhelp.get_taxonomy_from_sku_name_CFAV(sku_B)\n",
    "            availability_sku_B = df_components[f'heartbeat_flag-{sku_id_B}-{store_name}']\n",
    "            promo_sku_B = df_store[f'promotion_flag-{sku_id_B}-{store_name}']\n",
    "\n",
    "            # Decide what to do with sku_B on promo\n",
    "            # - Remove the promo days? when? outside the cannibalisation window?\n",
    "            # - We should compare windows of pre/post promo, not the entire year\n",
    "            availability_value_sku_B = availability_sku_B.sum()/len(availability_sku_B)\n",
    "            flag_min_availability_sku_B = availability_value_sku_B > 0.9\n",
    "\n",
    "            df_sales_covariates = df_store[[f'sales-{sku_id_B}-{store_name}', 'total_units_trend', 'T2M_MAX_adj']]\n",
    "\n",
    "            if flag_min_availability_sku_B & do_decomposition:\n",
    "                # Overwrite\n",
    "                sales_sku_B = df_components[f'residual-{sku_id_B}-{store_name}'] + df_components[f'trend-{sku_id_B}-{store_name}']\n",
    "                df_sales_covariates.iloc[:,0] = sales_sku_B\n",
    "                \n",
    "            ci_analysis = promies.calculate_causal_impact_with_covariates(sku_id_A, promo_sku_A, \\\n",
    "                availability_sku_A, sales_sku_A, \\\n",
    "                sku_id_B, promo_sku_B, availability_sku_B, \n",
    "                df_sales_covariates, \\\n",
    "                idx_pre_intervention, idx_post_intervention, \\\n",
    "                idx_holiday_to_exclude, \\\n",
    "                min_diff_in_units_from_reg_to_promo, \\\n",
    "                min_ratio_change = min_ratio_change,\\\n",
    "                do_exclude_promos_SKU_B = do_exclude_promos_SKU_B, \\\n",
    "                be_verbose=be_verbose)\n",
    "            if ci_analysis:\n",
    "                causal_impact_analysis.extend(ci_analysis)\n",
    "\n",
    "    # Save the analysis\n",
    "    df_CI_analysis = pd.DataFrame(causal_impact_analysis)\n",
    "    fhelp.makeFolder(folderCausalImpactResults)\n",
    "    fhelp.toPickleFile(df_CI_analysis, filenameCI)\n",
    "    # Also save it in Excel\n",
    "    fhelp.to_excel_file(df_CI_analysis, filenameCI.replace('.pickle', '.xlsx'))\n",
    "    \n",
    "df_CI_analysis.head(3)"
   ]
  },
  {
   "cell_type": "code",
   "execution_count": 15,
   "metadata": {
    "collapsed": true,
    "jupyter": {
     "outputs_hidden": true
    }
   },
   "outputs": [],
   "source": [
    "### If things go South"
   ]
  },
  {
   "cell_type": "raw",
   "metadata": {},
   "source": [
    "cleaned_list = []\n",
    "for idx in range(0, len(causal_impact_analysis)):\n",
    "    cleaned_list.extend(causal_impact_analysis[idx])\n",
    "    \n",
    "    \n",
    "'''    if len(causal_impact_analysis[idx])>1:\n",
    "        cleaned_list\n",
    "'''\n",
    "\n",
    "# Save the analysis\n",
    "df_CI_analysis = pd.DataFrame(cleaned_list)\n",
    "fhelp.makeFolder(folderCausalImpactResults)\n",
    "fhelp.toPickleFile(df_CI_analysis, filenameCI)\n",
    "# Also save it in Excel\n",
    "fhelp.to_excel_file(df_CI_analysis, filenameCI.replace('.pickle', '.xlsx'))\n",
    "df_CI_analysis = pd.DataFrame(causal_impact_analysis)"
   ]
  },
  {
   "cell_type": "markdown",
   "metadata": {},
   "source": [
    "Now I have to do a decent amount of work to differenciate between effects: promo>non-promo or promo>partial_promo, etc"
   ]
  },
  {
   "cell_type": "markdown",
   "metadata": {},
   "source": [
    "### Post mortem analysis"
   ]
  },
  {
   "cell_type": "markdown",
   "metadata": {},
   "source": [
    "### post mortem - compare two products"
   ]
  },
  {
   "cell_type": "code",
   "execution_count": 18,
   "metadata": {
    "collapsed": true,
    "jupyter": {
     "outputs_hidden": true
    }
   },
   "outputs": [],
   "source": [
    "run_post_mortem = False\n",
    "#run_post_mortem = True\n",
    "if run_post_mortem: \n",
    "    min_diff_in_units_from_reg_to_promo = 5\n",
    "    idx =0 \n",
    "    sku_A = f'sales-PRODUCE_1693647-{store_name}'\n",
    "    sku_B = f'sales-PRODUCE_1695965-{store_name}'\n",
    "    print(f'{sku_A}->{sku_B}')\n",
    "\n",
    "    category_id_A, dept_id_A, sku_id_A, store_name = fhelp.get_taxonomy_from_sku_name_CFAV(sku_A)\n",
    "    state_name = store_name.split('_')[0]\n",
    "\n",
    "    # Get the promotions and split them into slots\n",
    "    promo_sku_A = df_store[f'promotion_flag-{sku_id_A}-{store_name}']\n",
    "    idx_pre_intervention, idx_post_intervention = \\\n",
    "        fhelp.split_promos_into_sequences(promo_sku_A, min_promo_days=min_promo_days, min_regular_days=min_regular_days)\n",
    "\n",
    "    availability_sku_A = df_components[f'heartbeat_flag-{sku_id_A}-{store_name}']\n",
    "    availability_value_sku_A = availability_sku_A.sum()/len(availability_sku_A)\n",
    "    flag_min_availability_sku_A = availability_value_sku_A > 0.9\n",
    "\n",
    "    # TO-DO: Decomposition should be done according to the SKU's patterns\n",
    "    if flag_min_availability_sku_A & do_decomposition:\n",
    "        sales_sku_A = df_components[f'residual-{sku_id_A}-{store_name}'] + df_components[f'trend-{sku_id_A}-{store_name}']\n",
    "    else:\n",
    "        sales_sku_A = df_store[sku_A]\n",
    "\n",
    "    category_id_B, dept_id_B, sku_id_B, store_name = fhelp.get_taxonomy_from_sku_name_CFAV(sku_B)\n",
    "    availability_sku_B = df_components[f'heartbeat_flag-{sku_id_B}-{store_name}']\n",
    "    promo_sku_B = df_store[f'promotion_flag-{sku_id_B}-{store_name}']\n",
    "\n",
    "\n",
    "    # Decide what to do with sku_B on promo\n",
    "    # - Remove the promo days? when? outside the cannibalisation window?\n",
    "    # - We should compare windows of pre/post promo, not the entire year\n",
    "    availability_value_sku_B = availability_sku_B.sum()/len(availability_sku_B)\n",
    "    flag_min_availability_sku_B = availability_value_sku_B > 0.9\n",
    "\n",
    "    if flag_min_availability_sku_B & do_decomposition:\n",
    "        sales_sku_B = df_components[f'residual-{sku_id_B}-{store_name}'] + df_components[f'trend-{sku_id_B}-{store_name}']\n",
    "    else:\n",
    "        sales_sku_B = df_store[sku_B]\n",
    "\n",
    "    ci_analysis = promies.calculate_causal_impact(sku_id_A, promo_sku_A, availability_sku_A, sales_sku_A, \\\n",
    "        sku_id_B, promo_sku_B, availability_sku_B, sales_sku_B, \\\n",
    "        idx_pre_intervention, idx_post_intervention, \\\n",
    "        idx_holiday_to_exclude, \\\n",
    "        min_diff_in_units_from_reg_to_promo, \\\n",
    "        min_ratio_change = min_ratio_change,\\\n",
    "        do_exclude_promos_SKU_B = do_exclude_promos_SKU_B, \\\n",
    "        be_verbose=True)\n",
    "\n",
    "    ci_analysis"
   ]
  },
  {
   "cell_type": "markdown",
   "metadata": {},
   "source": [
    "### Save the analysis"
   ]
  },
  {
   "cell_type": "markdown",
   "metadata": {},
   "source": [
    "### Save all the plots"
   ]
  },
  {
   "cell_type": "code",
   "execution_count": 19,
   "metadata": {
    "collapsed": true,
    "jupyter": {
     "outputs_hidden": true
    }
   },
   "outputs": [
    {
     "name": "stdout",
     "output_type": "stream",
     "text": [
      "Saving the plots in /Users/carlos.aguilar/Google Drive/order/Machine Learning Part/data/CorporacionFavorita/CausalImpactResults\n"
     ]
    }
   ],
   "source": [
    "folder_to_save_plots = os.path.join(dataFolder, results_folder)\n",
    "print(f'Saving the plots in {folder_to_save_plots}')\n",
    "if save_all_cannibals:\n",
    "    for _, irow in df_CI_analysis.iterrows():\n",
    "        fhelp.plot_causal_pairs_exogenous(irow, df_store, fig_h = 10, fig_w = 18, \\\n",
    "            folder_to_save_plots=folder_to_save_plots, save_to_file=True)"
   ]
  },
  {
   "cell_type": "markdown",
   "metadata": {},
   "source": [
    "### Create a directed graph of the interactions"
   ]
  },
  {
   "cell_type": "code",
   "execution_count": 20,
   "metadata": {
    "collapsed": true,
    "jupyter": {
     "outputs_hidden": true
    }
   },
   "outputs": [],
   "source": [
    "# Directed graph\n",
    "import networkx as nx\n",
    "DG = nx.DiGraph()"
   ]
  },
  {
   "cell_type": "code",
   "execution_count": 21,
   "metadata": {
    "collapsed": true,
    "jupyter": {
     "outputs_hidden": true
    }
   },
   "outputs": [],
   "source": [
    "def add_graph_relationship(node_A, node_B, edge_properties: dict):\n",
    "\n",
    "  DG.add_node(node_A['name'], **node_A['properties'])\n",
    "\n",
    "  d = dict()\n",
    "  DG.add_node(node_B['name'], **node_B['properties'])\n",
    "\n",
    "  edge_label = '\\n'.join([f'{k}: {v:3.2f}' for k,v in edge_properties.items()])  \n",
    "  DG.add_edge(node_A['name'], node_B['name'], **edge_properties, label=edge_label)"
   ]
  },
  {
   "cell_type": "raw",
   "metadata": {},
   "source": [
    "'''  temp_list = []\n",
    "  for k,v in edge_properties.items():\n",
    "    if isinstance(v, str):\n",
    "        temp_list.append([f'{k}: {v}'])\n",
    "    else:\n",
    "        temp_list.append([f'{k}: {v:3.2f}'])\n",
    "      \n",
    "  edge_label = '\\n'.join(temp_list)\n",
    "'''"
   ]
  },
  {
   "cell_type": "code",
   "execution_count": 22,
   "metadata": {
    "collapsed": true,
    "jupyter": {
     "outputs_hidden": true
    }
   },
   "outputs": [],
   "source": [
    "#vars_edges = ['snap_days','regular_days','sku_B_regular','sku_B_snap', \\\n",
    "#             'cannibal_price', 'victim_price']\n",
    "#\n",
    "#vars_edges = ['snap_days','regular_days', \\\n",
    "vars_edges = ['sku_B_regular_avg_sales','avg_predicted', 'slot_number']\n",
    "\n",
    "for item_id, df_row in df_CI_analysis.iterrows():\n",
    "    node_A = {'name': df_row.cannibal, 'properties': dict()}\n",
    "    node_B = {'name': df_row.victim, 'properties': dict()}\n",
    "\n",
    "    edge_properties = df_row[vars_edges].to_dict()\n",
    "\n",
    "    add_graph_relationship(node_A, node_B, edge_properties)"
   ]
  },
  {
   "cell_type": "code",
   "execution_count": 23,
   "metadata": {
    "collapsed": true,
    "jupyter": {
     "outputs_hidden": true
    }
   },
   "outputs": [],
   "source": [
    "if save_all_cannibals:\n",
    "    text_offset = 3e-4\n",
    "    fig_h = 20\n",
    "    fig_w = 36\n",
    "    fig = plt.figure(figsize=(fig_w,fig_h))\n",
    "    pos = nx.nx_agraph.graphviz_layout(DG, prog=\"sfdp\")\n",
    "    nx.draw(DG, pos, \\\n",
    "        node_color='lightblue', linewidths=0.5, font_size=10, \\\n",
    "        font_weight='bold', with_labels=False, edge_color='r')\n",
    "\n",
    "    labels = nx.get_edge_attributes(DG, 'label')\n",
    "    nx.draw_networkx_edge_labels(DG, pos, edge_labels=labels, font_size=8)\n",
    "\n",
    "    for k, v in pos.items():\n",
    "        plt.text(v[0],v[1]+text_offset, s=k, horizontalalignment='center')\n",
    "\n",
    "\n",
    "    foldername = os.path.join(dataFolder, results_folder, category_id, dept_id, 'graphs')\n",
    "    fhelp.makeFolder(foldername)\n",
    "    plt_filename = os.path.join(foldername, f'cannibals-{store_name}.pdf')\n",
    "    plt.savefig(plt_filename, format='pdf', dpi=300, bbox_inches='tight')"
   ]
  }
 ],
 "metadata": {
  "kernelspec": {
   "display_name": "Python 3",
   "language": "python",
   "name": "python3"
  },
  "language_info": {
   "codemirror_mode": {
    "name": "ipython",
    "version": 3
   },
   "file_extension": ".py",
   "mimetype": "text/x-python",
   "name": "python",
   "nbconvert_exporter": "python",
   "pygments_lexer": "ipython3",
   "version": "3.8.4"
  }
 },
 "nbformat": 4,
 "nbformat_minor": 4
}
